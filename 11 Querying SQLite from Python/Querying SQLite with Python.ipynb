{
 "cells": [
  {
   "cell_type": "markdown",
   "id": "suburban-prediction",
   "metadata": {},
   "source": [
    "Python 2.5 and up come with the sqlite module, which means we don't need to install any separate libraries to get started. We'll be working with the sqlite3 Python module, developed to work with SQLite version 3.\n",
    "\n",
    "We can import the module into our environment using this command:"
   ]
  },
  {
   "cell_type": "code",
   "execution_count": 1,
   "id": "narrow-stream",
   "metadata": {},
   "outputs": [],
   "source": [
    "import sqlite3"
   ]
  },
  {
   "cell_type": "markdown",
   "id": "inner-selection",
   "metadata": {},
   "source": [
    "Once we import the module, we connect to the database we want to query using the connect() function. This function requires a single parameter, which is the database we want to connect to. Because the database we're working with exists as a file on disk, we need to pass in the file name.\n",
    "\n",
    "The connect() function returns a Connection instance, which maintains the connection to the database we want to access. When we're connected to a database, SQLite locks the database file and prevents any other processes from connecting to the database simultaneously. The SQLite team designed the module this way to keep the database lightweight and to avoid the complexity of multiple processes interacting with the same database."
   ]
  },
  {
   "cell_type": "code",
   "execution_count": 2,
   "id": "interim-circumstances",
   "metadata": {},
   "outputs": [],
   "source": [
    "conn = sqlite3.connect('jobs.db')"
   ]
  },
  {
   "cell_type": "markdown",
   "id": "central-luxembourg",
   "metadata": {},
   "source": [
    "### Introduction to Cursor objects and tuples\n",
    "\n",
    "Before we can execute a query, we need to express our SQL query as a string. While we use the Connection class to represent the database we're working with, we use the Cursor class to do the following:\n",
    "\n",
    "- Run a query against the database\n",
    "- Parse the results from the database\n",
    "- Convert the results to native Python objects\n",
    "- Store the results within the Cursor instance as a local variable\n",
    "\n",
    "After running a query and converting the results to a list of tuples, the Cursor instance stores the list as a local variable. \n",
    "\n",
    "#### Creating a cursor and running a query\n",
    "\n",
    "We need to use the Connection instance method cursor() to return a Cursor instance corresponding to the database we want to query."
   ]
  },
  {
   "cell_type": "code",
   "execution_count": 3,
   "id": "eleven-humanitarian",
   "metadata": {},
   "outputs": [],
   "source": [
    "cursor = conn.cursor()"
   ]
  },
  {
   "cell_type": "markdown",
   "id": "deadly-republic",
   "metadata": {},
   "source": [
    "In the following code block, we will do the following:\n",
    "\n",
    "- Write a basic select query that will return all of the values from the recent_grads table, and store this query as a string named query.\n",
    "- Use the Cursor method execute() to run the query against our database.\n",
    "- Return the full results set and store it as results.\n",
    "- Print the first three tuples in the list results."
   ]
  },
  {
   "cell_type": "code",
   "execution_count": 7,
   "id": "obvious-deposit",
   "metadata": {},
   "outputs": [
    {
     "name": "stdout",
     "output_type": "stream",
     "text": [
      "\n",
      " (0, 1, 2419, 'PETROLEUM ENGINEERING', 'Engineering', 2339, 36, 2057, 282, 0.120564344, 1976, 1849, 270, 1207, 37, 0.018380527, 110000, 95000, 125000, 1534, 364, 193)\n",
      "\n",
      " (1, 2, 2416, 'MINING AND MINERAL ENGINEERING', 'Engineering', 756, 7, 679, 77, 0.10185185199999999, 640, 556, 170, 388, 85, 0.117241379, 75000, 55000, 90000, 350, 257, 50)\n",
      "\n",
      " (2, 3, 2415, 'METALLURGICAL ENGINEERING', 'Engineering', 856, 3, 725, 131, 0.153037383, 648, 558, 133, 340, 16, 0.024096386, 73000, 50000, 105000, 456, 176, 0)\n"
     ]
    }
   ],
   "source": [
    "# SQL Query as a string\n",
    "query = \"select * from recent_grads;\"\n",
    "# Execute the query, convert the results to tuples, and store as a local variable\n",
    "cursor.execute(query)\n",
    "# Fetch the full results set as a list of tuples\n",
    "results = cursor.fetchall()\n",
    "# Display the first three results\n",
    "for r in results[:3]:\n",
    "    print('\\n', r)"
   ]
  },
  {
   "cell_type": "markdown",
   "id": "dated-ottawa",
   "metadata": {},
   "source": [
    "- *Write a query that returns all of the values in the Major column from the recent_grads table.*\n",
    "- *Store the full results set (a list of tuples) in majors.*\n",
    "- *Then, print the first three tuples in majors.*"
   ]
  },
  {
   "cell_type": "code",
   "execution_count": 12,
   "id": "retired-martin",
   "metadata": {},
   "outputs": [
    {
     "name": "stdout",
     "output_type": "stream",
     "text": [
      "[('PETROLEUM ENGINEERING',), ('MINING AND MINERAL ENGINEERING',), ('METALLURGICAL ENGINEERING',)]\n"
     ]
    }
   ],
   "source": [
    "query = \"SELECT major FROM recent_grads\"\n",
    "cursor.execute(query)\n",
    "majors = cursor.fetchall()\n",
    "print(majors[:3])"
   ]
  },
  {
   "cell_type": "markdown",
   "id": "planned-rogers",
   "metadata": {},
   "source": [
    "### Execute as a shortcut for running a query\n",
    "\n",
    "So far, we've run queries by creating a Cursor instance, and then calling the execute method on the instance. The SQLite library actually allows us to skip creating a Cursor altogether by using the execute method within the Connection object itself. SQLite will create a Cursor instance for us under the hood and run our query against the database, allowing us to skip a step. Here's how the code looks:"
   ]
  },
  {
   "cell_type": "code",
   "execution_count": 17,
   "id": "liquid-solid",
   "metadata": {},
   "outputs": [],
   "source": [
    "conn = sqlite3.connect(\"jobs.db\")\n",
    "query = \"select * from recent_grads;\"\n",
    "conn.execute(query).fetchall()"
   ]
  },
  {
   "cell_type": "markdown",
   "id": "closed-celebrity",
   "metadata": {},
   "source": [
    "Notice that we didn't explicitly create a separate Cursor instance ourselves in this code example.\n",
    "\n",
    "Now let's learn how to fetch a specific number of results after we run a query."
   ]
  },
  {
   "cell_type": "markdown",
   "id": "given-interview",
   "metadata": {},
   "source": [
    "### Fetching a specific number of results\n",
    "\n",
    "To simplify working with large results sets, the Cursor class allows us to control the number of results we want to retrieve. To return a single result (as a tuple), we use the Cursor method `fetchone()`. To return n results, we use the Cursor method `fetchmany()`.\n",
    "\n",
    "Each Cursor instance contains an internal counter that updates every time we retrieve results. When we call the `fetchone()` method, the Cursor instance will return a single result, and then increment its internal counter by 1. This means that if we call `fetchone()` again, the Cursor instance will actually return the second tuple in the results set (and increment by 1 again).\n",
    "\n",
    "The `fetchmany()` method takes in an integer (`n`) and returns the corresponding results, starting from the current position. It then increments the Cursor instance's counter by `n`. In the following code, we return the first two results using the fetchone() method, then the next five results using the fetchmany() method."
   ]
  },
  {
   "cell_type": "code",
   "execution_count": 18,
   "id": "optional-receiver",
   "metadata": {},
   "outputs": [],
   "source": [
    "first_result = cursor.fetchone()\n",
    "second_result = cursor.fetchone()\n",
    "next_five_results = cursor.fetchmany(5)"
   ]
  },
  {
   "cell_type": "markdown",
   "id": "expired-looking",
   "metadata": {},
   "source": [
    "- *Write and run a query that returns the Major and Major_category columns from recent_grads.*\n",
    "- *Fetch the first five results and store them as five_results.*"
   ]
  },
  {
   "cell_type": "code",
   "execution_count": 19,
   "id": "cross-vienna",
   "metadata": {},
   "outputs": [],
   "source": [
    "query = \"SELECT major, major_category FROM recent_grads\"\n",
    "\n",
    "five_results = conn.execute(query).fetchmany(5)"
   ]
  },
  {
   "cell_type": "markdown",
   "id": "simple-validation",
   "metadata": {},
   "source": [
    "### Closing the database connection\n",
    "\n",
    "Because SQLite restricts access to the database file when we're connected to a database, we need to close the connection when we're done working with it. Closing the connection allows other processes to access the database, which is important when you're in a production environment and working with other team members.\n",
    "\n",
    "To close a connection to a database, use the Connection instance method close(). When we're working with multiple databases and multiple Connection instances, we want to make sure we call the close() method on the correct instance. After you close the connection, attempting to query the database using any linked Cursor instances will return the following error:\n",
    "\n",
    "`ProgrammingError: Cannot operate on a closed database.` "
   ]
  },
  {
   "cell_type": "code",
   "execution_count": 20,
   "id": "loved-transaction",
   "metadata": {},
   "outputs": [],
   "source": [
    "conn.close()"
   ]
  },
  {
   "cell_type": "markdown",
   "id": "false-singing",
   "metadata": {},
   "source": [
    "### Practice\n",
    "\n",
    "- Connect to the database jobs2.db, which contains the same data as jobs.db.\n",
    "- Write and execute a query that returns all of the majors (Major) in reverse alphabetical order (Z to A).\n",
    "- Assign the full result set to reverse_alphabetical.\n",
    "- Finally, close the connection to the database."
   ]
  },
  {
   "cell_type": "code",
   "execution_count": 23,
   "id": "trying-programmer",
   "metadata": {},
   "outputs": [],
   "source": [
    "conn = sqlite3.connect('jobs2.db')\n",
    "query = \"SELECT major FROM recent_grads ORDER BY 1 DESC\"\n",
    "reverse_alphabetical = conn.execute(query).fetchall()\n",
    "\n",
    "conn.close()"
   ]
  }
 ],
 "metadata": {
  "kernelspec": {
   "display_name": "Python 3",
   "language": "python",
   "name": "python3"
  },
  "language_info": {
   "codemirror_mode": {
    "name": "ipython",
    "version": 3
   },
   "file_extension": ".py",
   "mimetype": "text/x-python",
   "name": "python",
   "nbconvert_exporter": "python",
   "pygments_lexer": "ipython3",
   "version": "3.8.5"
  }
 },
 "nbformat": 4,
 "nbformat_minor": 5
}
