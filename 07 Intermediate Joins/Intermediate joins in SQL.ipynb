{
 "cells": [
  {
   "cell_type": "markdown",
   "metadata": {},
   "source": [
    "### Setup"
   ]
  },
  {
   "cell_type": "code",
   "execution_count": 1,
   "metadata": {},
   "outputs": [],
   "source": [
    "%%capture\n",
    "%load_ext sql\n",
    "%sql sqlite:///chinook.db"
   ]
  },
  {
   "cell_type": "markdown",
   "metadata": {},
   "source": [
    "## Working with larger databases\n",
    "\n",
    "In this mission we'll learn some new techniques to work with the sort of databases that most businesses will use. We'll be working with a modified version of a database called Chinook. The Chinook database contains information about a fictional digital music shop - kind of like a mini-iTunes store.\n",
    "\n",
    "The Chinook database contains information about the artists, songs, and albums from the music shop, as well as information on the shop's employees, customers, and the customers purchases. This information is contained in eleven tables. Like with our Factbook database, a schema diagram will help us understand the available columns and the structure of the data. Here's a schema diagram for the Chinook database:\n",
    "\n",
    "![img](img/chin.png)\n",
    "\n",
    "Looking at all those tables can be overwhelming at first, but generally speaking we will only need to think about the specific tables that have the data we require and their connections. Before we look at some specific tables, let's take a moment to understand the different parts of the schema diagram.\n",
    "\n",
    "Tables names are shown in bold, with the columns in each table listed below.\n",
    "Each table has one or more columns with shading, which indicates those columns are a primary key. We'll learn more about primary keys in a later mission, but for now all you need to know is that each row's primary key must be unique.\n",
    "Relationships between tables are shown using lines between the tables. The lines indicate which columns are related. You may notice that at least one 'end' of the relationship will be a primary key.\n",
    "As you work through this mission, you may need to refer back to the schema diagram. This is normal, so don't be bothered when that happens. It can also be helpful to write a simple query to check the column names and some example data from any of the tables, for instance:"
   ]
  },
  {
   "cell_type": "code",
   "execution_count": 2,
   "metadata": {},
   "outputs": [
    {
     "name": "stdout",
     "output_type": "stream",
     "text": [
      " * sqlite:///chinook.db\n",
      "Done.\n"
     ]
    },
    {
     "data": {
      "text/html": [
       "<table>\n",
       "    <tr>\n",
       "        <th>album_id</th>\n",
       "        <th>title</th>\n",
       "        <th>artist_id</th>\n",
       "    </tr>\n",
       "    <tr>\n",
       "        <td>1</td>\n",
       "        <td>For Those About To Rock We Salute You</td>\n",
       "        <td>1</td>\n",
       "    </tr>\n",
       "    <tr>\n",
       "        <td>2</td>\n",
       "        <td>Balls to the Wall</td>\n",
       "        <td>2</td>\n",
       "    </tr>\n",
       "    <tr>\n",
       "        <td>3</td>\n",
       "        <td>Restless and Wild</td>\n",
       "        <td>2</td>\n",
       "    </tr>\n",
       "</table>"
      ],
      "text/plain": [
       "[(1, 'For Those About To Rock We Salute You', 1),\n",
       " (2, 'Balls to the Wall', 2),\n",
       " (3, 'Restless and Wild', 2)]"
      ]
     },
     "execution_count": 2,
     "metadata": {},
     "output_type": "execute_result"
    }
   ],
   "source": [
    "%%sql\n",
    "\n",
    "SELECT * FROM album LIMIT 3;"
   ]
  },
  {
   "cell_type": "markdown",
   "metadata": {},
   "source": [
    "## Joining three tables\n",
    "\n",
    "Our first task is to gather some information on a specific purchase. For one single purchase (invoice_id) we want to know, for each track purchased:\n",
    "\n",
    "- The id of the track.\n",
    "- The name of the track.\n",
    "- The name of media type of the track.\n",
    "- The price that the customer paid for the track.\n",
    "- The quantity of the track that was purchased.\n",
    "\n",
    "To gather this information, we will need to write a query that joins 3 tables: invoice_line, track, and media_type. To make this easier, a schema diagram of just these three tables is below:\n",
    "\n",
    "![img](img/3.png)\n",
    "\n",
    "If you didn't explore these 3 tables in the previous screen, take a moment now to explore them:\n",
    "\n",
    "- For each of invoice_line, track, and media_type:\n",
    "    - Write a simple query to view the first few rows of each of these tables.\n",
    "    - Look at the result of the query to become familiar with the columns and what sort of data we are working with.\n"
   ]
  },
  {
   "cell_type": "code",
   "execution_count": 3,
   "metadata": {},
   "outputs": [
    {
     "name": "stdout",
     "output_type": "stream",
     "text": [
      " * sqlite:///chinook.db\n",
      "Done.\n"
     ]
    },
    {
     "data": {
      "text/html": [
       "<table>\n",
       "    <tr>\n",
       "        <th>invoice_line_id</th>\n",
       "        <th>invoice_id</th>\n",
       "        <th>track_id</th>\n",
       "        <th>unit_price</th>\n",
       "        <th>quantity</th>\n",
       "    </tr>\n",
       "    <tr>\n",
       "        <td>1</td>\n",
       "        <td>1</td>\n",
       "        <td>1158</td>\n",
       "        <td>0.99</td>\n",
       "        <td>1</td>\n",
       "    </tr>\n",
       "    <tr>\n",
       "        <td>2</td>\n",
       "        <td>1</td>\n",
       "        <td>1159</td>\n",
       "        <td>0.99</td>\n",
       "        <td>1</td>\n",
       "    </tr>\n",
       "    <tr>\n",
       "        <td>3</td>\n",
       "        <td>1</td>\n",
       "        <td>1160</td>\n",
       "        <td>0.99</td>\n",
       "        <td>1</td>\n",
       "    </tr>\n",
       "</table>"
      ],
      "text/plain": [
       "[(1, 1, 1158, 0.99, 1), (2, 1, 1159, 0.99, 1), (3, 1, 1160, 0.99, 1)]"
      ]
     },
     "execution_count": 3,
     "metadata": {},
     "output_type": "execute_result"
    }
   ],
   "source": [
    "%%sql \n",
    "\n",
    "SELECT * FROM invoice_line LIMIT 3;"
   ]
  },
  {
   "cell_type": "code",
   "execution_count": 4,
   "metadata": {},
   "outputs": [
    {
     "name": "stdout",
     "output_type": "stream",
     "text": [
      " * sqlite:///chinook.db\n",
      "Done.\n"
     ]
    },
    {
     "data": {
      "text/html": [
       "<table>\n",
       "    <tr>\n",
       "        <th>track_id</th>\n",
       "        <th>name</th>\n",
       "        <th>album_id</th>\n",
       "        <th>media_type_id</th>\n",
       "        <th>genre_id</th>\n",
       "        <th>composer</th>\n",
       "        <th>milliseconds</th>\n",
       "        <th>bytes</th>\n",
       "        <th>unit_price</th>\n",
       "    </tr>\n",
       "    <tr>\n",
       "        <td>1</td>\n",
       "        <td>For Those About To Rock (We Salute You)</td>\n",
       "        <td>1</td>\n",
       "        <td>1</td>\n",
       "        <td>1</td>\n",
       "        <td>Angus Young, Malcolm Young, Brian Johnson</td>\n",
       "        <td>343719</td>\n",
       "        <td>11170334</td>\n",
       "        <td>0.99</td>\n",
       "    </tr>\n",
       "    <tr>\n",
       "        <td>2</td>\n",
       "        <td>Balls to the Wall</td>\n",
       "        <td>2</td>\n",
       "        <td>2</td>\n",
       "        <td>1</td>\n",
       "        <td>None</td>\n",
       "        <td>342562</td>\n",
       "        <td>5510424</td>\n",
       "        <td>0.99</td>\n",
       "    </tr>\n",
       "    <tr>\n",
       "        <td>3</td>\n",
       "        <td>Fast As a Shark</td>\n",
       "        <td>3</td>\n",
       "        <td>2</td>\n",
       "        <td>1</td>\n",
       "        <td>F. Baltes, S. Kaufman, U. Dirkscneider &amp; W. Hoffman</td>\n",
       "        <td>230619</td>\n",
       "        <td>3990994</td>\n",
       "        <td>0.99</td>\n",
       "    </tr>\n",
       "</table>"
      ],
      "text/plain": [
       "[(1, 'For Those About To Rock (We Salute You)', 1, 1, 1, 'Angus Young, Malcolm Young, Brian Johnson', 343719, 11170334, 0.99),\n",
       " (2, 'Balls to the Wall', 2, 2, 1, None, 342562, 5510424, 0.99),\n",
       " (3, 'Fast As a Shark', 3, 2, 1, 'F. Baltes, S. Kaufman, U. Dirkscneider & W. Hoffman', 230619, 3990994, 0.99)]"
      ]
     },
     "execution_count": 4,
     "metadata": {},
     "output_type": "execute_result"
    }
   ],
   "source": [
    "%%sql \n",
    "\n",
    "SELECT * FROM track LIMIT 3;"
   ]
  },
  {
   "cell_type": "code",
   "execution_count": 5,
   "metadata": {},
   "outputs": [
    {
     "name": "stdout",
     "output_type": "stream",
     "text": [
      " * sqlite:///chinook.db\n",
      "Done.\n"
     ]
    },
    {
     "data": {
      "text/html": [
       "<table>\n",
       "    <tr>\n",
       "        <th>media_type_id</th>\n",
       "        <th>name</th>\n",
       "    </tr>\n",
       "    <tr>\n",
       "        <td>1</td>\n",
       "        <td>MPEG audio file</td>\n",
       "    </tr>\n",
       "    <tr>\n",
       "        <td>2</td>\n",
       "        <td>Protected AAC audio file</td>\n",
       "    </tr>\n",
       "    <tr>\n",
       "        <td>3</td>\n",
       "        <td>Protected MPEG-4 video file</td>\n",
       "    </tr>\n",
       "</table>"
      ],
      "text/plain": [
       "[(1, 'MPEG audio file'),\n",
       " (2, 'Protected AAC audio file'),\n",
       " (3, 'Protected MPEG-4 video file')]"
      ]
     },
     "execution_count": 5,
     "metadata": {},
     "output_type": "execute_result"
    }
   ],
   "source": [
    "%%sql \n",
    "\n",
    "SELECT * FROM media_type LIMIT 3;"
   ]
  },
  {
   "cell_type": "markdown",
   "metadata": {},
   "source": [
    "Now that you're familiar with the data, we can look at the syntax for joining data from more than 2 tables.`\n",
    "\n",
    "```\n",
    "SELECT [column_names] FROM [table_name_one]\n",
    "[join_type] JOIN [table_name_two] ON [join_constraint]\n",
    "[join_type] JOIN [table_name_three] ON [join_constraint];\n",
    "```\n",
    "\n",
    "Joining multiple tables is as simple as adding an extra JOIN clause. The SQL engine interprets joins **in order**, so the first join will be executed, and then the second join will be executed against the result of the first join. Because of this, we can first build our query in steps:\n",
    "\n",
    "- with 0 joins.\n",
    "- with 1 join.\n",
    "- with 2 joins.\n",
    "\n",
    "We will use the `invoice_line` table in our FROM clause, since it contains 3 of the 5 columns we want in our final query. You don't have to follow this pattern but if you're not sure, it's a good place to start. Since our task involves looking for information about a specific invoice_id, let's choose an invoice_id value of 3. Selecting all lines from invoice_line with an invoice_id is straightforward:"
   ]
  },
  {
   "cell_type": "code",
   "execution_count": 6,
   "metadata": {},
   "outputs": [
    {
     "name": "stdout",
     "output_type": "stream",
     "text": [
      " * sqlite:///chinook.db\n",
      "Done.\n"
     ]
    },
    {
     "data": {
      "text/html": [
       "<table>\n",
       "    <tr>\n",
       "        <th>invoice_line_id</th>\n",
       "        <th>invoice_id</th>\n",
       "        <th>track_id</th>\n",
       "        <th>unit_price</th>\n",
       "        <th>quantity</th>\n",
       "    </tr>\n",
       "    <tr>\n",
       "        <td>27</td>\n",
       "        <td>3</td>\n",
       "        <td>2516</td>\n",
       "        <td>0.99</td>\n",
       "        <td>1</td>\n",
       "    </tr>\n",
       "    <tr>\n",
       "        <td>28</td>\n",
       "        <td>3</td>\n",
       "        <td>2646</td>\n",
       "        <td>0.99</td>\n",
       "        <td>1</td>\n",
       "    </tr>\n",
       "</table>"
      ],
      "text/plain": [
       "[(27, 3, 2516, 0.99, 1), (28, 3, 2646, 0.99, 1)]"
      ]
     },
     "execution_count": 6,
     "metadata": {},
     "output_type": "execute_result"
    }
   ],
   "source": [
    "%%sql\n",
    "\n",
    "SELECT * FROM invoice_line\n",
    "WHERE invoice_id = 3;"
   ]
  },
  {
   "cell_type": "markdown",
   "metadata": {},
   "source": [
    "Now we can use an inner join to add the data from the track table."
   ]
  },
  {
   "cell_type": "code",
   "execution_count": 7,
   "metadata": {},
   "outputs": [
    {
     "name": "stdout",
     "output_type": "stream",
     "text": [
      " * sqlite:///chinook.db\n",
      "Done.\n"
     ]
    },
    {
     "data": {
      "text/html": [
       "<table>\n",
       "    <tr>\n",
       "        <th>invoice_line_id</th>\n",
       "        <th>invoice_id</th>\n",
       "        <th>track_id</th>\n",
       "        <th>unit_price</th>\n",
       "        <th>quantity</th>\n",
       "        <th>track_id_1</th>\n",
       "        <th>name</th>\n",
       "        <th>album_id</th>\n",
       "        <th>media_type_id</th>\n",
       "        <th>genre_id</th>\n",
       "        <th>composer</th>\n",
       "        <th>milliseconds</th>\n",
       "        <th>bytes</th>\n",
       "        <th>unit_price_1</th>\n",
       "    </tr>\n",
       "    <tr>\n",
       "        <td>27</td>\n",
       "        <td>3</td>\n",
       "        <td>2516</td>\n",
       "        <td>0.99</td>\n",
       "        <td>1</td>\n",
       "        <td>2516</td>\n",
       "        <td>Black Hole Sun</td>\n",
       "        <td>203</td>\n",
       "        <td>1</td>\n",
       "        <td>1</td>\n",
       "        <td>Soundgarden</td>\n",
       "        <td>320365</td>\n",
       "        <td>10425229</td>\n",
       "        <td>0.99</td>\n",
       "    </tr>\n",
       "    <tr>\n",
       "        <td>28</td>\n",
       "        <td>3</td>\n",
       "        <td>2646</td>\n",
       "        <td>0.99</td>\n",
       "        <td>1</td>\n",
       "        <td>2646</td>\n",
       "        <td>I Looked At You</td>\n",
       "        <td>214</td>\n",
       "        <td>1</td>\n",
       "        <td>1</td>\n",
       "        <td>Robby Krieger, Ray Manzarek, John Densmore, Jim Morrison</td>\n",
       "        <td>142080</td>\n",
       "        <td>4663988</td>\n",
       "        <td>0.99</td>\n",
       "    </tr>\n",
       "</table>"
      ],
      "text/plain": [
       "[(27, 3, 2516, 0.99, 1, 2516, 'Black Hole Sun', 203, 1, 1, 'Soundgarden', 320365, 10425229, 0.99),\n",
       " (28, 3, 2646, 0.99, 1, 2646, 'I Looked At You', 214, 1, 1, 'Robby Krieger, Ray Manzarek, John Densmore, Jim Morrison', 142080, 4663988, 0.99)]"
      ]
     },
     "execution_count": 7,
     "metadata": {},
     "output_type": "execute_result"
    }
   ],
   "source": [
    "%%sql \n",
    "\n",
    "SELECT * FROM invoice_line il\n",
    "INNER JOIN track t ON t.track_id = il.track_id\n",
    "WHERE invoice_id = 3;"
   ]
  },
  {
   "cell_type": "markdown",
   "metadata": {},
   "source": [
    "![img](img/track_id.png)\n",
    "\n",
    "Next, we add our second join to add the data from the media_type table."
   ]
  },
  {
   "cell_type": "code",
   "execution_count": 8,
   "metadata": {},
   "outputs": [
    {
     "name": "stdout",
     "output_type": "stream",
     "text": [
      " * sqlite:///chinook.db\n",
      "Done.\n"
     ]
    },
    {
     "data": {
      "text/html": [
       "<table>\n",
       "    <tr>\n",
       "        <th>invoice_line_id</th>\n",
       "        <th>invoice_id</th>\n",
       "        <th>track_id</th>\n",
       "        <th>unit_price</th>\n",
       "        <th>quantity</th>\n",
       "        <th>track_id_1</th>\n",
       "        <th>name</th>\n",
       "        <th>album_id</th>\n",
       "        <th>media_type_id</th>\n",
       "        <th>genre_id</th>\n",
       "        <th>composer</th>\n",
       "        <th>milliseconds</th>\n",
       "        <th>bytes</th>\n",
       "        <th>unit_price_1</th>\n",
       "        <th>media_type_id_1</th>\n",
       "        <th>name_1</th>\n",
       "    </tr>\n",
       "    <tr>\n",
       "        <td>27</td>\n",
       "        <td>3</td>\n",
       "        <td>2516</td>\n",
       "        <td>0.99</td>\n",
       "        <td>1</td>\n",
       "        <td>2516</td>\n",
       "        <td>Black Hole Sun</td>\n",
       "        <td>203</td>\n",
       "        <td>1</td>\n",
       "        <td>1</td>\n",
       "        <td>Soundgarden</td>\n",
       "        <td>320365</td>\n",
       "        <td>10425229</td>\n",
       "        <td>0.99</td>\n",
       "        <td>1</td>\n",
       "        <td>MPEG audio file</td>\n",
       "    </tr>\n",
       "    <tr>\n",
       "        <td>28</td>\n",
       "        <td>3</td>\n",
       "        <td>2646</td>\n",
       "        <td>0.99</td>\n",
       "        <td>1</td>\n",
       "        <td>2646</td>\n",
       "        <td>I Looked At You</td>\n",
       "        <td>214</td>\n",
       "        <td>1</td>\n",
       "        <td>1</td>\n",
       "        <td>Robby Krieger, Ray Manzarek, John Densmore, Jim Morrison</td>\n",
       "        <td>142080</td>\n",
       "        <td>4663988</td>\n",
       "        <td>0.99</td>\n",
       "        <td>1</td>\n",
       "        <td>MPEG audio file</td>\n",
       "    </tr>\n",
       "</table>"
      ],
      "text/plain": [
       "[(27, 3, 2516, 0.99, 1, 2516, 'Black Hole Sun', 203, 1, 1, 'Soundgarden', 320365, 10425229, 0.99, 1, 'MPEG audio file'),\n",
       " (28, 3, 2646, 0.99, 1, 2646, 'I Looked At You', 214, 1, 1, 'Robby Krieger, Ray Manzarek, John Densmore, Jim Morrison', 142080, 4663988, 0.99, 1, 'MPEG audio file')]"
      ]
     },
     "execution_count": 8,
     "metadata": {},
     "output_type": "execute_result"
    }
   ],
   "source": [
    "%%sql \n",
    "\n",
    "SELECT * FROM invoice_line il\n",
    "INNER JOIN track t ON t.track_id = il.track_id\n",
    "INNER JOIN media_type mt ON mt.media_type_id = t.media_type_id\n",
    "WHERE invoice_id = 3;"
   ]
  },
  {
   "cell_type": "markdown",
   "metadata": {},
   "source": [
    "![img](img/media.png)\n",
    "\n",
    "The last step is to alter the SELECT clause to include only the columns we require - let's do that now with a different order."
   ]
  },
  {
   "cell_type": "markdown",
   "metadata": {},
   "source": [
    "*Write a query that gathers data about the invoice with an invoice_id of 4. Include the following columns in order:*\n",
    "\n",
    "- *The id of the track, track_id.*\n",
    "- *The name of the track, track_name.*\n",
    "- *The name of media type of the track, track_type.*\n",
    "- *The price that the customer paid for the track, unit_price.*\n",
    "- *The quantity of the track that was purchased, quantity.*\n",
    "\n"
   ]
  },
  {
   "cell_type": "code",
   "execution_count": 10,
   "metadata": {},
   "outputs": [
    {
     "name": "stdout",
     "output_type": "stream",
     "text": [
      " * sqlite:///chinook.db\n",
      "Done.\n"
     ]
    },
    {
     "data": {
      "text/html": [
       "<table>\n",
       "    <tr>\n",
       "        <th>track_id</th>\n",
       "        <th>track_name</th>\n",
       "        <th>track_type</th>\n",
       "        <th>unit_price</th>\n",
       "        <th>quantity</th>\n",
       "    </tr>\n",
       "    <tr>\n",
       "        <td>3448</td>\n",
       "        <td>Lamentations of Jeremiah, First Set \\ Incipit Lamentatio</td>\n",
       "        <td>Protected AAC audio file</td>\n",
       "        <td>0.99</td>\n",
       "        <td>1</td>\n",
       "    </tr>\n",
       "    <tr>\n",
       "        <td>2560</td>\n",
       "        <td>Violent Pornography</td>\n",
       "        <td>MPEG audio file</td>\n",
       "        <td>0.99</td>\n",
       "        <td>1</td>\n",
       "    </tr>\n",
       "    <tr>\n",
       "        <td>3336</td>\n",
       "        <td>War Pigs</td>\n",
       "        <td>Purchased AAC audio file</td>\n",
       "        <td>0.99</td>\n",
       "        <td>1</td>\n",
       "    </tr>\n",
       "    <tr>\n",
       "        <td>829</td>\n",
       "        <td>Let&#x27;s Get Rocked</td>\n",
       "        <td>MPEG audio file</td>\n",
       "        <td>0.99</td>\n",
       "        <td>1</td>\n",
       "    </tr>\n",
       "    <tr>\n",
       "        <td>1872</td>\n",
       "        <td>Attitude</td>\n",
       "        <td>MPEG audio file</td>\n",
       "        <td>0.99</td>\n",
       "        <td>1</td>\n",
       "    </tr>\n",
       "    <tr>\n",
       "        <td>748</td>\n",
       "        <td>Dealer</td>\n",
       "        <td>MPEG audio file</td>\n",
       "        <td>0.99</td>\n",
       "        <td>1</td>\n",
       "    </tr>\n",
       "    <tr>\n",
       "        <td>1778</td>\n",
       "        <td>You&#x27;re What&#x27;s Happening (In The World Today)</td>\n",
       "        <td>MPEG audio file</td>\n",
       "        <td>0.99</td>\n",
       "        <td>1</td>\n",
       "    </tr>\n",
       "    <tr>\n",
       "        <td>2514</td>\n",
       "        <td>Spoonman</td>\n",
       "        <td>MPEG audio file</td>\n",
       "        <td>0.99</td>\n",
       "        <td>1</td>\n",
       "    </tr>\n",
       "</table>"
      ],
      "text/plain": [
       "[(3448, 'Lamentations of Jeremiah, First Set \\\\ Incipit Lamentatio', 'Protected AAC audio file', 0.99, 1),\n",
       " (2560, 'Violent Pornography', 'MPEG audio file', 0.99, 1),\n",
       " (3336, 'War Pigs', 'Purchased AAC audio file', 0.99, 1),\n",
       " (829, \"Let's Get Rocked\", 'MPEG audio file', 0.99, 1),\n",
       " (1872, 'Attitude', 'MPEG audio file', 0.99, 1),\n",
       " (748, 'Dealer', 'MPEG audio file', 0.99, 1),\n",
       " (1778, \"You're What's Happening (In The World Today)\", 'MPEG audio file', 0.99, 1),\n",
       " (2514, 'Spoonman', 'MPEG audio file', 0.99, 1)]"
      ]
     },
     "execution_count": 10,
     "metadata": {},
     "output_type": "execute_result"
    }
   ],
   "source": [
    "%%sql \n",
    "\n",
    "SELECT t.track_id track_id, \n",
    "       t.name track_name,\n",
    "       mt.name track_type,\n",
    "       il.unit_price unit_price,\n",
    "       il.quantity quantity\n",
    "\n",
    "FROM invoice_line il \n",
    "    INNER JOIN track t ON t.track_id = il.track_id\n",
    "    INNER JOIN media_type mt ON mt.media_type_id = t.media_type_id\n",
    "WHERE invoice_id = 4;"
   ]
  },
  {
   "cell_type": "markdown",
   "metadata": {},
   "source": [
    "## Joining more than three tables\n",
    "\n",
    "Let's extend the query we wrote in the previous screen by adding the artist for each track. If you examine the schema, you'll notice that the data for the artist's name is not directly connected to the track table.\n",
    "\n",
    "![img](img/artist.png)\n",
    "\n",
    "In this case, we will need to join two new tables to our existing query:\n",
    "\n",
    "- `artist`, which contains the artist name data that we need\n",
    "- `album`, which has a column common to each of the artist and track tables which allows us to join those two tables.\n",
    "\n",
    "Our select clause won't actually use any of the columns from the album table. This is quite common when writing more complex queries because it will let you join to another table.\n",
    "\n",
    "The query from the previous screen is included here:"
   ]
  },
  {
   "cell_type": "code",
   "execution_count": 11,
   "metadata": {},
   "outputs": [
    {
     "name": "stdout",
     "output_type": "stream",
     "text": [
      " * sqlite:///chinook.db\n",
      "Done.\n"
     ]
    },
    {
     "data": {
      "text/html": [
       "<table>\n",
       "    <tr>\n",
       "        <th>track_id</th>\n",
       "        <th>track_name</th>\n",
       "        <th>track_type</th>\n",
       "        <th>unit_price</th>\n",
       "        <th>quantity</th>\n",
       "    </tr>\n",
       "    <tr>\n",
       "        <td>3448</td>\n",
       "        <td>Lamentations of Jeremiah, First Set \\ Incipit Lamentatio</td>\n",
       "        <td>Protected AAC audio file</td>\n",
       "        <td>0.99</td>\n",
       "        <td>1</td>\n",
       "    </tr>\n",
       "    <tr>\n",
       "        <td>2560</td>\n",
       "        <td>Violent Pornography</td>\n",
       "        <td>MPEG audio file</td>\n",
       "        <td>0.99</td>\n",
       "        <td>1</td>\n",
       "    </tr>\n",
       "    <tr>\n",
       "        <td>3336</td>\n",
       "        <td>War Pigs</td>\n",
       "        <td>Purchased AAC audio file</td>\n",
       "        <td>0.99</td>\n",
       "        <td>1</td>\n",
       "    </tr>\n",
       "    <tr>\n",
       "        <td>829</td>\n",
       "        <td>Let&#x27;s Get Rocked</td>\n",
       "        <td>MPEG audio file</td>\n",
       "        <td>0.99</td>\n",
       "        <td>1</td>\n",
       "    </tr>\n",
       "    <tr>\n",
       "        <td>1872</td>\n",
       "        <td>Attitude</td>\n",
       "        <td>MPEG audio file</td>\n",
       "        <td>0.99</td>\n",
       "        <td>1</td>\n",
       "    </tr>\n",
       "    <tr>\n",
       "        <td>748</td>\n",
       "        <td>Dealer</td>\n",
       "        <td>MPEG audio file</td>\n",
       "        <td>0.99</td>\n",
       "        <td>1</td>\n",
       "    </tr>\n",
       "    <tr>\n",
       "        <td>1778</td>\n",
       "        <td>You&#x27;re What&#x27;s Happening (In The World Today)</td>\n",
       "        <td>MPEG audio file</td>\n",
       "        <td>0.99</td>\n",
       "        <td>1</td>\n",
       "    </tr>\n",
       "    <tr>\n",
       "        <td>2514</td>\n",
       "        <td>Spoonman</td>\n",
       "        <td>MPEG audio file</td>\n",
       "        <td>0.99</td>\n",
       "        <td>1</td>\n",
       "    </tr>\n",
       "</table>"
      ],
      "text/plain": [
       "[(3448, 'Lamentations of Jeremiah, First Set \\\\ Incipit Lamentatio', 'Protected AAC audio file', 0.99, 1),\n",
       " (2560, 'Violent Pornography', 'MPEG audio file', 0.99, 1),\n",
       " (3336, 'War Pigs', 'Purchased AAC audio file', 0.99, 1),\n",
       " (829, \"Let's Get Rocked\", 'MPEG audio file', 0.99, 1),\n",
       " (1872, 'Attitude', 'MPEG audio file', 0.99, 1),\n",
       " (748, 'Dealer', 'MPEG audio file', 0.99, 1),\n",
       " (1778, \"You're What's Happening (In The World Today)\", 'MPEG audio file', 0.99, 1),\n",
       " (2514, 'Spoonman', 'MPEG audio file', 0.99, 1)]"
      ]
     },
     "execution_count": 11,
     "metadata": {},
     "output_type": "execute_result"
    }
   ],
   "source": [
    "%%sql \n",
    "\n",
    "SELECT\n",
    "    il.track_id,\n",
    "    t.name track_name,\n",
    "    mt.name track_type,\n",
    "    il.unit_price,\n",
    "    il.quantity\n",
    "FROM invoice_line il\n",
    "INNER JOIN track t ON t.track_id = il.track_id\n",
    "INNER JOIN media_type mt ON mt.media_type_id = t.media_type_id\n",
    "WHERE il.invoice_id = 4;"
   ]
  },
  {
   "cell_type": "markdown",
   "metadata": {},
   "source": [
    "*Add a column containing the artists name to the query from the previous screen.*\n",
    "- *The column should be called artist_name*\n",
    "- *The column should be placed between track_name and track_type*"
   ]
  },
  {
   "cell_type": "code",
   "execution_count": 13,
   "metadata": {},
   "outputs": [
    {
     "name": "stdout",
     "output_type": "stream",
     "text": [
      " * sqlite:///chinook.db\n",
      "Done.\n"
     ]
    },
    {
     "data": {
      "text/html": [
       "<table>\n",
       "    <tr>\n",
       "        <th>track_id</th>\n",
       "        <th>track_name</th>\n",
       "        <th>track_type</th>\n",
       "        <th>unit_price</th>\n",
       "        <th>quantity</th>\n",
       "        <th>artist_name</th>\n",
       "    </tr>\n",
       "    <tr>\n",
       "        <td>3448</td>\n",
       "        <td>Lamentations of Jeremiah, First Set \\ Incipit Lamentatio</td>\n",
       "        <td>Protected AAC audio file</td>\n",
       "        <td>0.99</td>\n",
       "        <td>1</td>\n",
       "        <td>The King&#x27;s Singers</td>\n",
       "    </tr>\n",
       "    <tr>\n",
       "        <td>2560</td>\n",
       "        <td>Violent Pornography</td>\n",
       "        <td>MPEG audio file</td>\n",
       "        <td>0.99</td>\n",
       "        <td>1</td>\n",
       "        <td>System Of A Down</td>\n",
       "    </tr>\n",
       "    <tr>\n",
       "        <td>3336</td>\n",
       "        <td>War Pigs</td>\n",
       "        <td>Purchased AAC audio file</td>\n",
       "        <td>0.99</td>\n",
       "        <td>1</td>\n",
       "        <td>Cake</td>\n",
       "    </tr>\n",
       "    <tr>\n",
       "        <td>829</td>\n",
       "        <td>Let&#x27;s Get Rocked</td>\n",
       "        <td>MPEG audio file</td>\n",
       "        <td>0.99</td>\n",
       "        <td>1</td>\n",
       "        <td>Def Leppard</td>\n",
       "    </tr>\n",
       "    <tr>\n",
       "        <td>1872</td>\n",
       "        <td>Attitude</td>\n",
       "        <td>MPEG audio file</td>\n",
       "        <td>0.99</td>\n",
       "        <td>1</td>\n",
       "        <td>Metallica</td>\n",
       "    </tr>\n",
       "    <tr>\n",
       "        <td>748</td>\n",
       "        <td>Dealer</td>\n",
       "        <td>MPEG audio file</td>\n",
       "        <td>0.99</td>\n",
       "        <td>1</td>\n",
       "        <td>Deep Purple</td>\n",
       "    </tr>\n",
       "    <tr>\n",
       "        <td>1778</td>\n",
       "        <td>You&#x27;re What&#x27;s Happening (In The World Today)</td>\n",
       "        <td>MPEG audio file</td>\n",
       "        <td>0.99</td>\n",
       "        <td>1</td>\n",
       "        <td>Marvin Gaye</td>\n",
       "    </tr>\n",
       "    <tr>\n",
       "        <td>2514</td>\n",
       "        <td>Spoonman</td>\n",
       "        <td>MPEG audio file</td>\n",
       "        <td>0.99</td>\n",
       "        <td>1</td>\n",
       "        <td>Soundgarden</td>\n",
       "    </tr>\n",
       "</table>"
      ],
      "text/plain": [
       "[(3448, 'Lamentations of Jeremiah, First Set \\\\ Incipit Lamentatio', 'Protected AAC audio file', 0.99, 1, \"The King's Singers\"),\n",
       " (2560, 'Violent Pornography', 'MPEG audio file', 0.99, 1, 'System Of A Down'),\n",
       " (3336, 'War Pigs', 'Purchased AAC audio file', 0.99, 1, 'Cake'),\n",
       " (829, \"Let's Get Rocked\", 'MPEG audio file', 0.99, 1, 'Def Leppard'),\n",
       " (1872, 'Attitude', 'MPEG audio file', 0.99, 1, 'Metallica'),\n",
       " (748, 'Dealer', 'MPEG audio file', 0.99, 1, 'Deep Purple'),\n",
       " (1778, \"You're What's Happening (In The World Today)\", 'MPEG audio file', 0.99, 1, 'Marvin Gaye'),\n",
       " (2514, 'Spoonman', 'MPEG audio file', 0.99, 1, 'Soundgarden')]"
      ]
     },
     "execution_count": 13,
     "metadata": {},
     "output_type": "execute_result"
    }
   ],
   "source": [
    "%%sql \n",
    "\n",
    "SELECT\n",
    "    il.track_id,\n",
    "    t.name track_name,\n",
    "    mt.name track_type,\n",
    "    il.unit_price,\n",
    "    il.quantity,\n",
    "    ar.name artist_name\n",
    "FROM invoice_line il\n",
    "INNER JOIN track t ON t.track_id = il.track_id\n",
    "INNER JOIN album a ON t.album_id = a.album_id\n",
    "INNER JOIN artist ar ON a.artist_id = ar.artist_id\n",
    "INNER JOIN media_type mt ON mt.media_type_id = t.media_type_id\n",
    "WHERE il.invoice_id = 4;"
   ]
  },
  {
   "cell_type": "markdown",
   "metadata": {},
   "source": [
    "## Combining multiple joins with subqueries\n",
    "\n",
    "Because the invoice_line table contains each individual song from each customer purchase, it contains information about which songs are purchased the most. We can use the table to find out which artists are purchased the most. Specifically, **what we want to produce is a query that lists the top 10 artists, calculated by the number of times a track by that artist has been purchased**.\n",
    "\n",
    "We'll need to use a **GROUP BY** clause to get the number of tracks purchased from each artist, but before we do we'll have to join a few tables. As we start thinking about how we will write this query, we can look at the database schema from the first screen of this mission and think about what tables we will need to include.\n",
    "\n",
    "Writing our query would be a *lot easier* **if** we had one table that contained both the track.track_id and the artist.name columns. We can write a subquery that creates this table for us, and then use that subquery to calculate our answer. This means our process will be:\n",
    "\n",
    "- Write a subquery that produces a table with track.track_id and artist.name,\n",
    "- Join that subquery to the invoice_line table,\n",
    "- Use a GROUP BY statement to calculate the number of times each artist has had a track purchased, and find the top 10.\n",
    "\n",
    "We can write our subquery by joining album to track and then artist to album, just like we did in the previous screen. We'll add an ORDER BY and LIMIT to our query so we're only looking at manageable sample of the data, but we'll remove it when we move to the next step."
   ]
  },
  {
   "cell_type": "code",
   "execution_count": 14,
   "metadata": {},
   "outputs": [
    {
     "name": "stdout",
     "output_type": "stream",
     "text": [
      " * sqlite:///chinook.db\n",
      "Done.\n"
     ]
    },
    {
     "data": {
      "text/html": [
       "<table>\n",
       "    <tr>\n",
       "        <th>track_id</th>\n",
       "        <th>artist_name</th>\n",
       "    </tr>\n",
       "    <tr>\n",
       "        <td>1</td>\n",
       "        <td>AC/DC</td>\n",
       "    </tr>\n",
       "    <tr>\n",
       "        <td>2</td>\n",
       "        <td>Accept</td>\n",
       "    </tr>\n",
       "    <tr>\n",
       "        <td>3</td>\n",
       "        <td>Accept</td>\n",
       "    </tr>\n",
       "    <tr>\n",
       "        <td>4</td>\n",
       "        <td>Accept</td>\n",
       "    </tr>\n",
       "    <tr>\n",
       "        <td>5</td>\n",
       "        <td>Accept</td>\n",
       "    </tr>\n",
       "</table>"
      ],
      "text/plain": [
       "[(1, 'AC/DC'), (2, 'Accept'), (3, 'Accept'), (4, 'Accept'), (5, 'Accept')]"
      ]
     },
     "execution_count": 14,
     "metadata": {},
     "output_type": "execute_result"
    }
   ],
   "source": [
    "%%sql\n",
    "\n",
    "SELECT\n",
    "    t.track_id,\n",
    "    ar.name artist_name\n",
    "FROM track t\n",
    "INNER JOIN album al ON al.album_id = t.album_id\n",
    "INNER JOIN artist ar ON ar.artist_id = al.artist_id\n",
    "ORDER BY 1 LIMIT 5;"
   ]
  },
  {
   "cell_type": "markdown",
   "metadata": {},
   "source": [
    "Next, we need to join this subquery to our invoice_line table. We'll give our subquery an alias ta for 'track artist' to make it easier to refer to. Again, we'll add an ORDER BY and LIMIT statement to this step so our output is more manageable."
   ]
  },
  {
   "cell_type": "code",
   "execution_count": 15,
   "metadata": {},
   "outputs": [
    {
     "name": "stdout",
     "output_type": "stream",
     "text": [
      " * sqlite:///chinook.db\n",
      "Done.\n"
     ]
    },
    {
     "data": {
      "text/html": [
       "<table>\n",
       "    <tr>\n",
       "        <th>invoice_line_id</th>\n",
       "        <th>track_id</th>\n",
       "        <th>artist_name</th>\n",
       "    </tr>\n",
       "    <tr>\n",
       "        <td>1</td>\n",
       "        <td>1158</td>\n",
       "        <td>Guns N&#x27; Roses</td>\n",
       "    </tr>\n",
       "    <tr>\n",
       "        <td>2</td>\n",
       "        <td>1159</td>\n",
       "        <td>Guns N&#x27; Roses</td>\n",
       "    </tr>\n",
       "    <tr>\n",
       "        <td>3</td>\n",
       "        <td>1160</td>\n",
       "        <td>Guns N&#x27; Roses</td>\n",
       "    </tr>\n",
       "    <tr>\n",
       "        <td>4</td>\n",
       "        <td>1161</td>\n",
       "        <td>Guns N&#x27; Roses</td>\n",
       "    </tr>\n",
       "    <tr>\n",
       "        <td>5</td>\n",
       "        <td>1162</td>\n",
       "        <td>Guns N&#x27; Roses</td>\n",
       "    </tr>\n",
       "</table>"
      ],
      "text/plain": [
       "[(1, 1158, \"Guns N' Roses\"),\n",
       " (2, 1159, \"Guns N' Roses\"),\n",
       " (3, 1160, \"Guns N' Roses\"),\n",
       " (4, 1161, \"Guns N' Roses\"),\n",
       " (5, 1162, \"Guns N' Roses\")]"
      ]
     },
     "execution_count": 15,
     "metadata": {},
     "output_type": "execute_result"
    }
   ],
   "source": [
    "%%sql\n",
    "\n",
    "SELECT\n",
    "    il.invoice_line_id,\n",
    "    il.track_id,\n",
    "    ta.artist_name\n",
    "FROM invoice_line il\n",
    "INNER JOIN (\n",
    "            SELECT\n",
    "                t.track_id,\n",
    "                ar.name artist_name\n",
    "            FROM track t\n",
    "            INNER JOIN album al ON al.album_id = t.album_id\n",
    "            INNER JOIN artist ar ON ar.artist_id = al.artist_id\n",
    "           ) ta\n",
    "           ON ta.track_id = il.track_id\n",
    "ORDER BY 1 LIMIT 5;"
   ]
  },
  {
   "cell_type": "markdown",
   "metadata": {},
   "source": [
    "At first it might look like we've done something wrong, because the artist for all rows is Guns N' Roses, but that's because the very first order in our table is a customer who purchased an entire Guns N' Roses album! All that remains now is for us to add our GROUP BY clause, remove the extra columns and use ORDER BY and LIMIT clauses to select the 10 most popular artists."
   ]
  },
  {
   "cell_type": "code",
   "execution_count": 16,
   "metadata": {},
   "outputs": [
    {
     "name": "stdout",
     "output_type": "stream",
     "text": [
      " * sqlite:///chinook.db\n",
      "Done.\n"
     ]
    },
    {
     "data": {
      "text/html": [
       "<table>\n",
       "    <tr>\n",
       "        <th>artist</th>\n",
       "        <th>tracks_purchased</th>\n",
       "    </tr>\n",
       "    <tr>\n",
       "        <td>Queen</td>\n",
       "        <td>192</td>\n",
       "    </tr>\n",
       "    <tr>\n",
       "        <td>Jimi Hendrix</td>\n",
       "        <td>187</td>\n",
       "    </tr>\n",
       "    <tr>\n",
       "        <td>Red Hot Chili Peppers</td>\n",
       "        <td>130</td>\n",
       "    </tr>\n",
       "    <tr>\n",
       "        <td>Nirvana</td>\n",
       "        <td>130</td>\n",
       "    </tr>\n",
       "    <tr>\n",
       "        <td>Pearl Jam</td>\n",
       "        <td>129</td>\n",
       "    </tr>\n",
       "    <tr>\n",
       "        <td>Guns N&#x27; Roses</td>\n",
       "        <td>124</td>\n",
       "    </tr>\n",
       "    <tr>\n",
       "        <td>AC/DC</td>\n",
       "        <td>124</td>\n",
       "    </tr>\n",
       "    <tr>\n",
       "        <td>Foo Fighters</td>\n",
       "        <td>121</td>\n",
       "    </tr>\n",
       "    <tr>\n",
       "        <td>The Rolling Stones</td>\n",
       "        <td>117</td>\n",
       "    </tr>\n",
       "    <tr>\n",
       "        <td>Metallica</td>\n",
       "        <td>106</td>\n",
       "    </tr>\n",
       "</table>"
      ],
      "text/plain": [
       "[('Queen', 192),\n",
       " ('Jimi Hendrix', 187),\n",
       " ('Red Hot Chili Peppers', 130),\n",
       " ('Nirvana', 130),\n",
       " ('Pearl Jam', 129),\n",
       " (\"Guns N' Roses\", 124),\n",
       " ('AC/DC', 124),\n",
       " ('Foo Fighters', 121),\n",
       " ('The Rolling Stones', 117),\n",
       " ('Metallica', 106)]"
      ]
     },
     "execution_count": 16,
     "metadata": {},
     "output_type": "execute_result"
    }
   ],
   "source": [
    "%%sql\n",
    "\n",
    "SELECT\n",
    "    ta.artist_name artist,\n",
    "    COUNT(*) tracks_purchased\n",
    "FROM invoice_line il\n",
    "INNER JOIN (\n",
    "            SELECT\n",
    "                t.track_id,\n",
    "                ar.name artist_name\n",
    "            FROM track t\n",
    "            INNER JOIN album al ON al.album_id = t.album_id\n",
    "            INNER JOIN artist ar ON ar.artist_id = al.artist_id\n",
    "           ) ta\n",
    "           ON ta.track_id = il.track_id\n",
    "GROUP BY 1\n",
    "ORDER BY 2 DESC LIMIT 10;"
   ]
  },
  {
   "cell_type": "markdown",
   "metadata": {},
   "source": [
    "You can use a similar technique to work out from which albums the most songs have been purchased.\n",
    "\n",
    "*Write a query that returns the top 5 albums, as calculated by the number of times a track from that album has been purchased. Your query should be sorted from most tracks purchased to least tracks purchased and return the following columns, in order:*\n",
    "\n",
    "- *album, the title of the album*\n",
    "- *artist, the artist who produced the album*\n",
    "- *tracks_purchased the total number of tracks purchased from that album*"
   ]
  },
  {
   "cell_type": "code",
   "execution_count": 19,
   "metadata": {},
   "outputs": [
    {
     "name": "stdout",
     "output_type": "stream",
     "text": [
      " * sqlite:///chinook.db\n",
      "Done.\n"
     ]
    },
    {
     "data": {
      "text/html": [
       "<table>\n",
       "    <tr>\n",
       "        <th>album</th>\n",
       "        <th>artist</th>\n",
       "        <th>tracks_purchased</th>\n",
       "    </tr>\n",
       "    <tr>\n",
       "        <td>Are You Experienced?</td>\n",
       "        <td>Jimi Hendrix</td>\n",
       "        <td>187</td>\n",
       "    </tr>\n",
       "    <tr>\n",
       "        <td>Faceless</td>\n",
       "        <td>Godsmack</td>\n",
       "        <td>96</td>\n",
       "    </tr>\n",
       "    <tr>\n",
       "        <td>Mezmerize</td>\n",
       "        <td>System Of A Down</td>\n",
       "        <td>93</td>\n",
       "    </tr>\n",
       "    <tr>\n",
       "        <td>Get Born</td>\n",
       "        <td>JET</td>\n",
       "        <td>90</td>\n",
       "    </tr>\n",
       "    <tr>\n",
       "        <td>The Doors</td>\n",
       "        <td>The Doors</td>\n",
       "        <td>83</td>\n",
       "    </tr>\n",
       "</table>"
      ],
      "text/plain": [
       "[('Are You Experienced?', 'Jimi Hendrix', 187),\n",
       " ('Faceless', 'Godsmack', 96),\n",
       " ('Mezmerize', 'System Of A Down', 93),\n",
       " ('Get Born', 'JET', 90),\n",
       " ('The Doors', 'The Doors', 83)]"
      ]
     },
     "execution_count": 19,
     "metadata": {},
     "output_type": "execute_result"
    }
   ],
   "source": [
    "%%sql\n",
    "\n",
    "SELECT al_tr.title AS album,\n",
    "       al_tr.artist AS artist,\n",
    "       COUNT(*) tracks_purchased\n",
    "    FROM invoice_line il \n",
    "        INNER JOIN (SELECT al.title title,\n",
    "                           ar.name artist,\n",
    "                           t.track_id track_id\n",
    "                    FROM track t INNER JOIN album al ON t.album_id = al.album_id\n",
    "                                 INNER JOIN artist ar ON al.artist_id = ar.artist_id\n",
    "                   ) al_tr\n",
    "            ON il.track_id = al_tr.track_id\n",
    "    GROUP BY album\n",
    "    ORDER BY tracks_purchased DESC\n",
    "    LIMIT 5;"
   ]
  },
  {
   "cell_type": "markdown",
   "metadata": {},
   "source": [
    "## Recursive joins\n",
    "\n",
    "In some cases, there can be a relation between two columns within the same table. We can see that in our employee table, where there is a reports_to column that has a relation to the employee_id column within the same table.\n",
    "\n",
    "The reports_to column identifies each employee's supervisor. If we wanted to create a report of each employee and their supervisor's name, we would need some way of **joining a table to itself**. Doing this is called a **recursive join**.\n",
    "\n",
    "Technically, a recursive join will use one of the other standard joins— usually an INNER JOIN or LEFT JOIN since these are the most commonly used joins— and aliases to distinguish between the table on each side of the join. Here's a simple example of a recursive join in action:"
   ]
  },
  {
   "cell_type": "code",
   "execution_count": 20,
   "metadata": {},
   "outputs": [
    {
     "name": "stdout",
     "output_type": "stream",
     "text": [
      " * sqlite:///chinook.db\n",
      "Done.\n"
     ]
    },
    {
     "data": {
      "text/html": [
       "<table>\n",
       "    <tr>\n",
       "        <th>employee_id</th>\n",
       "        <th>supervisor_id</th>\n",
       "    </tr>\n",
       "    <tr>\n",
       "        <td>2</td>\n",
       "        <td>1</td>\n",
       "    </tr>\n",
       "    <tr>\n",
       "        <td>6</td>\n",
       "        <td>1</td>\n",
       "    </tr>\n",
       "    <tr>\n",
       "        <td>3</td>\n",
       "        <td>2</td>\n",
       "    </tr>\n",
       "    <tr>\n",
       "        <td>4</td>\n",
       "        <td>2</td>\n",
       "    </tr>\n",
       "</table>"
      ],
      "text/plain": [
       "[(2, 1), (6, 1), (3, 2), (4, 2)]"
      ]
     },
     "execution_count": 20,
     "metadata": {},
     "output_type": "execute_result"
    }
   ],
   "source": [
    "%%sql\n",
    "\n",
    "SELECT\n",
    "    e1.employee_id,\n",
    "    e2.employee_id supervisor_id\n",
    "FROM employee e1\n",
    "INNER JOIN employee e2 on e1.reports_to = e2.employee_id\n",
    "LIMIT 4;"
   ]
  },
  {
   "cell_type": "markdown",
   "metadata": {},
   "source": [
    "To make our report more meaningful, we'll need to add some extra columns. One thing that would be nice is being able to combine the `first_name` and `last_name columns` into a single column. We can do that using the **concatenate operator**: `||`.\n",
    "\n",
    "You can explore how the concatenate operator works by writing a simple query:"
   ]
  },
  {
   "cell_type": "code",
   "execution_count": 21,
   "metadata": {},
   "outputs": [
    {
     "name": "stdout",
     "output_type": "stream",
     "text": [
      " * sqlite:///chinook.db\n",
      "Done.\n"
     ]
    },
    {
     "data": {
      "text/html": [
       "<table>\n",
       "    <tr>\n",
       "        <th>(&quot;this&quot; || &quot;is&quot; || &quot;my&quot; || &quot;string&quot;)</th>\n",
       "    </tr>\n",
       "    <tr>\n",
       "        <td>thisismystring</td>\n",
       "    </tr>\n",
       "</table>"
      ],
      "text/plain": [
       "[('thisismystring',)]"
      ]
     },
     "execution_count": 21,
     "metadata": {},
     "output_type": "execute_result"
    }
   ],
   "source": [
    "%%sql\n",
    "\n",
    "SELECT (\"this\" || \"is\" || \"my\" || \"string\");"
   ]
  },
  {
   "cell_type": "markdown",
   "metadata": {},
   "source": [
    "Here are a few different examples of using concatenation, this time with columns from the album table:"
   ]
  },
  {
   "cell_type": "code",
   "execution_count": 24,
   "metadata": {},
   "outputs": [
    {
     "name": "stdout",
     "output_type": "stream",
     "text": [
      " * sqlite:///chinook.db\n",
      "Done.\n"
     ]
    },
    {
     "data": {
      "text/html": [
       "<table>\n",
       "    <tr>\n",
       "        <th>album_id</th>\n",
       "        <th>artist_id</th>\n",
       "        <th>col_1</th>\n",
       "        <th>col2</th>\n",
       "        <th>col3</th>\n",
       "    </tr>\n",
       "    <tr>\n",
       "        <td>1</td>\n",
       "        <td>1</td>\n",
       "        <td>album id is1</td>\n",
       "        <td>artist id is1</td>\n",
       "        <td>11</td>\n",
       "    </tr>\n",
       "    <tr>\n",
       "        <td>4</td>\n",
       "        <td>1</td>\n",
       "        <td>album id is4</td>\n",
       "        <td>artist id is1</td>\n",
       "        <td>41</td>\n",
       "    </tr>\n",
       "    <tr>\n",
       "        <td>2</td>\n",
       "        <td>2</td>\n",
       "        <td>album id is2</td>\n",
       "        <td>artist id is2</td>\n",
       "        <td>22</td>\n",
       "    </tr>\n",
       "</table>"
      ],
      "text/plain": [
       "[(1, 1, 'album id is1', 'artist id is1', '11'),\n",
       " (4, 1, 'album id is4', 'artist id is1', '41'),\n",
       " (2, 2, 'album id is2', 'artist id is2', '22')]"
      ]
     },
     "execution_count": 24,
     "metadata": {},
     "output_type": "execute_result"
    }
   ],
   "source": [
    "%%sql\n",
    "\n",
    "SELECT\n",
    "    album_id,\n",
    "    artist_id,\n",
    "    \"album id is\" || album_id col_1,\n",
    "    \"artist id is\" || artist_id col2,\n",
    "    album_id || artist_id col3\n",
    "FROM album LIMIT 3;"
   ]
  },
  {
   "cell_type": "markdown",
   "metadata": {},
   "source": [
    "You'll notice that the SQL engine will concatenate multiple columns, columns with a string, and that the SQL engine handles converting different types where needed.\n",
    "\n",
    "*Let's use what we've learned about recursive joins and the concatenation operator to create a report about employees and their supervisors.*\n",
    "\n",
    "*Write a query that returns information about each employee and their supervisor.*\n",
    "\n",
    "- *The report should include employees even if they do not report to another employee.*\n",
    "- *The report should be sorted alphabetically by the employee_name column.*\n",
    "- *Your query should return the following columns, in order:*\n",
    "    - *employee_name - containing the first_name and last_name columns separated by a space, eg Luke Skywalker*\n",
    "    - *employee_title - the title of that employee*\n",
    "    - *supervisor_name - the first and last name of the person the employee reports to, in the same format as employee_name*\n",
    "    - *supervisor_title - the title of the person the employee reports to*"
   ]
  },
  {
   "cell_type": "code",
   "execution_count": 25,
   "metadata": {},
   "outputs": [
    {
     "name": "stdout",
     "output_type": "stream",
     "text": [
      " * sqlite:///chinook.db\n",
      "Done.\n"
     ]
    },
    {
     "data": {
      "text/html": [
       "<table>\n",
       "    <tr>\n",
       "        <th>employee_name</th>\n",
       "        <th>employee_title</th>\n",
       "        <th>supervisor_name</th>\n",
       "        <th>supervisor_title</th>\n",
       "    </tr>\n",
       "    <tr>\n",
       "        <td>Andrew Adams</td>\n",
       "        <td>General Manager</td>\n",
       "        <td>None</td>\n",
       "        <td>None</td>\n",
       "    </tr>\n",
       "    <tr>\n",
       "        <td>Jane Peacock</td>\n",
       "        <td>Sales Support Agent</td>\n",
       "        <td>Nancy Edwards</td>\n",
       "        <td>Sales Manager</td>\n",
       "    </tr>\n",
       "    <tr>\n",
       "        <td>Laura Callahan</td>\n",
       "        <td>IT Staff</td>\n",
       "        <td>Michael Mitchell</td>\n",
       "        <td>IT Manager</td>\n",
       "    </tr>\n",
       "    <tr>\n",
       "        <td>Margaret Park</td>\n",
       "        <td>Sales Support Agent</td>\n",
       "        <td>Nancy Edwards</td>\n",
       "        <td>Sales Manager</td>\n",
       "    </tr>\n",
       "    <tr>\n",
       "        <td>Michael Mitchell</td>\n",
       "        <td>IT Manager</td>\n",
       "        <td>Andrew Adams</td>\n",
       "        <td>General Manager</td>\n",
       "    </tr>\n",
       "    <tr>\n",
       "        <td>Nancy Edwards</td>\n",
       "        <td>Sales Manager</td>\n",
       "        <td>Andrew Adams</td>\n",
       "        <td>General Manager</td>\n",
       "    </tr>\n",
       "    <tr>\n",
       "        <td>Robert King</td>\n",
       "        <td>IT Staff</td>\n",
       "        <td>Michael Mitchell</td>\n",
       "        <td>IT Manager</td>\n",
       "    </tr>\n",
       "    <tr>\n",
       "        <td>Steve Johnson</td>\n",
       "        <td>Sales Support Agent</td>\n",
       "        <td>Nancy Edwards</td>\n",
       "        <td>Sales Manager</td>\n",
       "    </tr>\n",
       "</table>"
      ],
      "text/plain": [
       "[('Andrew Adams', 'General Manager', None, None),\n",
       " ('Jane Peacock', 'Sales Support Agent', 'Nancy Edwards', 'Sales Manager'),\n",
       " ('Laura Callahan', 'IT Staff', 'Michael Mitchell', 'IT Manager'),\n",
       " ('Margaret Park', 'Sales Support Agent', 'Nancy Edwards', 'Sales Manager'),\n",
       " ('Michael Mitchell', 'IT Manager', 'Andrew Adams', 'General Manager'),\n",
       " ('Nancy Edwards', 'Sales Manager', 'Andrew Adams', 'General Manager'),\n",
       " ('Robert King', 'IT Staff', 'Michael Mitchell', 'IT Manager'),\n",
       " ('Steve Johnson', 'Sales Support Agent', 'Nancy Edwards', 'Sales Manager')]"
      ]
     },
     "execution_count": 25,
     "metadata": {},
     "output_type": "execute_result"
    }
   ],
   "source": [
    "%%sql\n",
    "\n",
    "SELECT e1.first_name || ' ' || e1.last_name AS employee_name,\n",
    "       e1.title AS employee_title,\n",
    "       e2.first_name || ' ' || e2.last_name AS supervisor_name,\n",
    "       e2.title AS supervisor_title\n",
    "    FROM employee e1 LEFT JOIN employee e2 ON e1.reports_to = e2.employee_id\n",
    "    ORDER BY 1\n",
    "    "
   ]
  },
  {
   "cell_type": "markdown",
   "metadata": {},
   "source": [
    "## Pattern matching using like\n",
    "\n",
    "Let's say you're working as a sales support agent for Chinook, and you get back from lunch and see that one of your colleagues has left a phone message on your desk: \"Call Jen\". Writing a query to get this information out of the database might seem simple at first:"
   ]
  },
  {
   "cell_type": "code",
   "execution_count": 26,
   "metadata": {},
   "outputs": [
    {
     "name": "stdout",
     "output_type": "stream",
     "text": [
      " * sqlite:///chinook.db\n",
      "Done.\n"
     ]
    },
    {
     "data": {
      "text/html": [
       "<table>\n",
       "    <tr>\n",
       "        <th>first_name</th>\n",
       "        <th>last_name</th>\n",
       "        <th>phone</th>\n",
       "    </tr>\n",
       "</table>"
      ],
      "text/plain": [
       "[]"
      ]
     },
     "execution_count": 26,
     "metadata": {},
     "output_type": "execute_result"
    }
   ],
   "source": [
    "%%sql\n",
    "\n",
    "SELECT\n",
    "    first_name,\n",
    "    last_name,\n",
    "    phone\n",
    "FROM customer\n",
    "WHERE first_name = \"Jen\";"
   ]
  },
  {
   "cell_type": "markdown",
   "metadata": {},
   "source": [
    "No rows were returned by your query! Suddenly you realize— the name in the database might not be exactly \"Jen\", it might be Jenny, Jennifer, Jenna, or something else. Rather than having to keep trying different combinations, we can use the `LIKE` operator to find pattern matches. The syntax for LIKE is as follows:\n",
    "\n",
    "`WHERE [column_name] LIKE \"[pattern]\"`\n",
    "\n",
    "Your pattern should be the substring you want to match for, and one or more % characters:\n",
    "\n",
    "- %Jen - will match Jen at the end of a string, eg Sarah-Jen\n",
    "- Jen% - will match Jen at the start of a string, eg Jenny\n",
    "- %Jen% - will match Jen anywhere within the string, eg Kris Jenner\n",
    "\n",
    "We'll use the last pattern to give ourselves the best chance of a match:"
   ]
  },
  {
   "cell_type": "code",
   "execution_count": 27,
   "metadata": {},
   "outputs": [
    {
     "name": "stdout",
     "output_type": "stream",
     "text": [
      " * sqlite:///chinook.db\n",
      "Done.\n"
     ]
    },
    {
     "data": {
      "text/html": [
       "<table>\n",
       "    <tr>\n",
       "        <th>first_name</th>\n",
       "        <th>last_name</th>\n",
       "        <th>phone</th>\n",
       "    </tr>\n",
       "    <tr>\n",
       "        <td>Jennifer</td>\n",
       "        <td>Peterson</td>\n",
       "        <td>+1 (604) 688-2255</td>\n",
       "    </tr>\n",
       "</table>"
      ],
      "text/plain": [
       "[('Jennifer', 'Peterson', '+1 (604) 688-2255')]"
      ]
     },
     "execution_count": 27,
     "metadata": {},
     "output_type": "execute_result"
    }
   ],
   "source": [
    "%%sql\n",
    "\n",
    "SELECT\n",
    "    first_name,\n",
    "    last_name,\n",
    "    phone\n",
    "FROM customer\n",
    "WHERE first_name LIKE \"%Jen%\";"
   ]
  },
  {
   "cell_type": "markdown",
   "metadata": {},
   "source": [
    "Perfect - we have found one match and have Jennifer's number so we can return her call.\n",
    "\n",
    "Keep in mind that in SQLite LIKE is **case insensitive**, so LIKE \"%jen%\" will match Jen and JEN and JeN. Other flavors of SQL may be case sensitive, so you may need to use the LOWER() function to get a case insensitive match.\n",
    "\n",
    "Let's use LIKE to find a different customer from our database.\n",
    "\n",
    "*You have just returned from lunch to see another phone message on your desk: \"Call Belle.\"*\n",
    "\n",
    "- *Write a query that finds the contact details of a customer with a first_name containing Belle from the database. Your query should include the following columns, in order:* \n",
    "    - *first_name*\n",
    "    - *last_name*\n",
    "    - *phone*"
   ]
  },
  {
   "cell_type": "code",
   "execution_count": 29,
   "metadata": {},
   "outputs": [
    {
     "name": "stdout",
     "output_type": "stream",
     "text": [
      " * sqlite:///chinook.db\n",
      "Done.\n"
     ]
    },
    {
     "data": {
      "text/html": [
       "<table>\n",
       "    <tr>\n",
       "        <th>first_name</th>\n",
       "        <th>last_name</th>\n",
       "        <th>phone</th>\n",
       "    </tr>\n",
       "    <tr>\n",
       "        <td>Isabelle</td>\n",
       "        <td>Mercier</td>\n",
       "        <td>+33 03 80 73 66 99</td>\n",
       "    </tr>\n",
       "</table>"
      ],
      "text/plain": [
       "[('Isabelle', 'Mercier', '+33 03 80 73 66 99')]"
      ]
     },
     "execution_count": 29,
     "metadata": {},
     "output_type": "execute_result"
    }
   ],
   "source": [
    "%%sql\n",
    "\n",
    "SELECT first_name, last_name, phone\n",
    "   FROM customer\n",
    "   WHERE first_name LIKE \"%Belle%\""
   ]
  },
  {
   "cell_type": "markdown",
   "metadata": {},
   "source": [
    "## Generating columns with the case statement\n",
    "\n",
    "Sometimes, you'll want to add some sort of categorization to your query. Let's say we wanted to generate a report summarizing each customer's purchases. It might be nice to create a column that puts each customer into a category:\n",
    "\n",
    "- small spender - If the customer's total purchases are less than $40.\n",
    "- big spender - If the customer's total purchases are greater than $100.\n",
    "- regular - If the customer's total purchases are between $40 and $100 (inclusive). \n",
    "\n",
    "To achieve this, we'll need to use the case statement. The case statement acts like a series of if/then options for a new column. The syntax for CASE is:\n",
    "\n",
    "```\n",
    "CASE\n",
    "    WHEN [comparison_1] THEN [value_1]\n",
    "    WHEN [comparison_2] THEN [value_2]\n",
    "    ELSE [value_3]\n",
    "    END\n",
    "    AS [new_column_name]\n",
    "```\n",
    "\n",
    "There can be 1 or more WHEN lines, and the ELSE line is optional— without it, rows that don't match any WHEN will be assigned a null value. Let's start by looking at a simple example. The media_type table contains the name of five different media types:"
   ]
  },
  {
   "cell_type": "code",
   "execution_count": 30,
   "metadata": {},
   "outputs": [
    {
     "name": "stdout",
     "output_type": "stream",
     "text": [
      " * sqlite:///chinook.db\n",
      "Done.\n"
     ]
    },
    {
     "data": {
      "text/html": [
       "<table>\n",
       "    <tr>\n",
       "        <th>media_type_id</th>\n",
       "        <th>name</th>\n",
       "    </tr>\n",
       "    <tr>\n",
       "        <td>1</td>\n",
       "        <td>MPEG audio file</td>\n",
       "    </tr>\n",
       "    <tr>\n",
       "        <td>2</td>\n",
       "        <td>Protected AAC audio file</td>\n",
       "    </tr>\n",
       "    <tr>\n",
       "        <td>3</td>\n",
       "        <td>Protected MPEG-4 video file</td>\n",
       "    </tr>\n",
       "    <tr>\n",
       "        <td>4</td>\n",
       "        <td>Purchased AAC audio file</td>\n",
       "    </tr>\n",
       "    <tr>\n",
       "        <td>5</td>\n",
       "        <td>AAC audio file</td>\n",
       "    </tr>\n",
       "</table>"
      ],
      "text/plain": [
       "[(1, 'MPEG audio file'),\n",
       " (2, 'Protected AAC audio file'),\n",
       " (3, 'Protected MPEG-4 video file'),\n",
       " (4, 'Purchased AAC audio file'),\n",
       " (5, 'AAC audio file')]"
      ]
     },
     "execution_count": 30,
     "metadata": {},
     "output_type": "execute_result"
    }
   ],
   "source": [
    "%%sql\n",
    "\n",
    "SELECT * FROM media_type"
   ]
  },
  {
   "cell_type": "markdown",
   "metadata": {},
   "source": [
    "Let's look at how we can use CASE to add a new column protected, which indicates whether each media type is protected."
   ]
  },
  {
   "cell_type": "code",
   "execution_count": 31,
   "metadata": {},
   "outputs": [
    {
     "name": "stdout",
     "output_type": "stream",
     "text": [
      " * sqlite:///chinook.db\n",
      "Done.\n"
     ]
    },
    {
     "data": {
      "text/html": [
       "<table>\n",
       "    <tr>\n",
       "        <th>media_type_id</th>\n",
       "        <th>name</th>\n",
       "        <th>protected</th>\n",
       "    </tr>\n",
       "    <tr>\n",
       "        <td>1</td>\n",
       "        <td>MPEG audio file</td>\n",
       "        <td>0</td>\n",
       "    </tr>\n",
       "    <tr>\n",
       "        <td>2</td>\n",
       "        <td>Protected AAC audio file</td>\n",
       "        <td>1</td>\n",
       "    </tr>\n",
       "    <tr>\n",
       "        <td>3</td>\n",
       "        <td>Protected MPEG-4 video file</td>\n",
       "        <td>1</td>\n",
       "    </tr>\n",
       "    <tr>\n",
       "        <td>4</td>\n",
       "        <td>Purchased AAC audio file</td>\n",
       "        <td>0</td>\n",
       "    </tr>\n",
       "    <tr>\n",
       "        <td>5</td>\n",
       "        <td>AAC audio file</td>\n",
       "        <td>0</td>\n",
       "    </tr>\n",
       "</table>"
      ],
      "text/plain": [
       "[(1, 'MPEG audio file', 0),\n",
       " (2, 'Protected AAC audio file', 1),\n",
       " (3, 'Protected MPEG-4 video file', 1),\n",
       " (4, 'Purchased AAC audio file', 0),\n",
       " (5, 'AAC audio file', 0)]"
      ]
     },
     "execution_count": 31,
     "metadata": {},
     "output_type": "execute_result"
    }
   ],
   "source": [
    "%%sql\n",
    "\n",
    "SELECT\n",
    "    media_type_id,\n",
    "    name,\n",
    "    CASE\n",
    "        WHEN name LIKE '%Protected%' THEN 1\n",
    "        ELSE 0\n",
    "        END\n",
    "        AS protected\n",
    "FROM media_type;"
   ]
  },
  {
   "cell_type": "markdown",
   "metadata": {},
   "source": [
    "In this example, our CASE statement has a single WHEN which looks for a partial match of the string Protected in the name column. Any rows with a match get a value of 1; all other rows get 0.\n",
    "\n",
    "Let's now put CASE into practice using our initial scenario, where we want to categorize customers by their purchase history.\n",
    "\n",
    "You'll need to know that you can't use aliases in the WHEN line, so when writing a CASE statement that deals with aggregate functions, you will need to include the aggregate function in each WHEN line."
   ]
  },
  {
   "cell_type": "markdown",
   "metadata": {},
   "source": [
    "*Write a query that summarizes the purchases of each customer. For the purposes of this exercise, we do not have any two customers with the same name.* \n",
    "\n",
    "- Your query should include the following columns, in order:\n",
    "    - customer_name - containing the first_name and last_name columns separated by a space, eg Luke Skywalker.\n",
    "    - number_of_purchases, counting the number of purchases made by each customer.\n",
    "    - total_spent - the total sum of money spent by each customer.\n",
    "    - customer_category - a column that categorizes the customer based on their total purchases. The column should contain the following values:\n",
    "        - small spender - If the customer's total purchases are less than \\$40.\n",
    "        - big spender - If the customer's total purchases are greater than \\$100.\n",
    "        - regular - If the customer's total purchases are between \\$40 and \\\\$100 (inclusive).\n",
    "\n",
    "- Order your results by the customer_name column."
   ]
  },
  {
   "cell_type": "code",
   "execution_count": 33,
   "metadata": {},
   "outputs": [
    {
     "name": "stdout",
     "output_type": "stream",
     "text": [
      " * sqlite:///chinook.db\n",
      "Done.\n"
     ]
    },
    {
     "data": {
      "text/html": [
       "<table>\n",
       "    <tr>\n",
       "        <th>customer_name</th>\n",
       "        <th>number_of_purchases</th>\n",
       "        <th>total_spent</th>\n",
       "        <th>customer_category</th>\n",
       "    </tr>\n",
       "    <tr>\n",
       "        <td>Aaron Mitchell</td>\n",
       "        <td>8</td>\n",
       "        <td>70.28999999999999</td>\n",
       "        <td>regular</td>\n",
       "    </tr>\n",
       "    <tr>\n",
       "        <td>Alexandre Rocha</td>\n",
       "        <td>10</td>\n",
       "        <td>69.3</td>\n",
       "        <td>regular</td>\n",
       "    </tr>\n",
       "    <tr>\n",
       "        <td>Astrid Gruber</td>\n",
       "        <td>9</td>\n",
       "        <td>69.3</td>\n",
       "        <td>regular</td>\n",
       "    </tr>\n",
       "    <tr>\n",
       "        <td>Bjørn Hansen</td>\n",
       "        <td>9</td>\n",
       "        <td>72.27000000000001</td>\n",
       "        <td>regular</td>\n",
       "    </tr>\n",
       "    <tr>\n",
       "        <td>Camille Bernard</td>\n",
       "        <td>9</td>\n",
       "        <td>79.2</td>\n",
       "        <td>regular</td>\n",
       "    </tr>\n",
       "    <tr>\n",
       "        <td>Daan Peeters</td>\n",
       "        <td>7</td>\n",
       "        <td>60.38999999999999</td>\n",
       "        <td>regular</td>\n",
       "    </tr>\n",
       "    <tr>\n",
       "        <td>Dan Miller</td>\n",
       "        <td>12</td>\n",
       "        <td>95.03999999999999</td>\n",
       "        <td>regular</td>\n",
       "    </tr>\n",
       "    <tr>\n",
       "        <td>Diego Gutiérrez</td>\n",
       "        <td>5</td>\n",
       "        <td>39.6</td>\n",
       "        <td>small spender</td>\n",
       "    </tr>\n",
       "    <tr>\n",
       "        <td>Dominique Lefebvre</td>\n",
       "        <td>9</td>\n",
       "        <td>72.27</td>\n",
       "        <td>regular</td>\n",
       "    </tr>\n",
       "    <tr>\n",
       "        <td>Eduardo Martins</td>\n",
       "        <td>12</td>\n",
       "        <td>60.39</td>\n",
       "        <td>regular</td>\n",
       "    </tr>\n",
       "</table>"
      ],
      "text/plain": [
       "[('Aaron Mitchell', 8, 70.28999999999999, 'regular'),\n",
       " ('Alexandre Rocha', 10, 69.3, 'regular'),\n",
       " ('Astrid Gruber', 9, 69.3, 'regular'),\n",
       " ('Bjørn Hansen', 9, 72.27000000000001, 'regular'),\n",
       " ('Camille Bernard', 9, 79.2, 'regular'),\n",
       " ('Daan Peeters', 7, 60.38999999999999, 'regular'),\n",
       " ('Dan Miller', 12, 95.03999999999999, 'regular'),\n",
       " ('Diego Gutiérrez', 5, 39.6, 'small spender'),\n",
       " ('Dominique Lefebvre', 9, 72.27, 'regular'),\n",
       " ('Eduardo Martins', 12, 60.39, 'regular')]"
      ]
     },
     "execution_count": 33,
     "metadata": {},
     "output_type": "execute_result"
    }
   ],
   "source": [
    "%%sql\n",
    "\n",
    "SELECT c.first_name || ' ' || c.last_name AS customer_name,\n",
    "       COUNT(invoice_id) AS number_of_purchases,\n",
    "       SUM(i.total) AS total_spent,\n",
    "       CASE\n",
    "          WHEN SUM(total) < 40 THEN 'small spender'\n",
    "          WHEN SUM(total) <= 100 THEN 'regular'\n",
    "          ELSE 'big spender'\n",
    "        END AS customer_category\n",
    "    FROM customer c INNER JOIN invoice i ON c.customer_id = i.customer_id\n",
    "    GROUP BY i.customer_id\n",
    "    ORDER BY 1\n",
    "    LIMIT 10"
   ]
  }
 ],
 "metadata": {
  "kernelspec": {
   "display_name": "Python 3",
   "language": "python",
   "name": "python3"
  },
  "language_info": {
   "codemirror_mode": {
    "name": "ipython",
    "version": 3
   },
   "file_extension": ".py",
   "mimetype": "text/x-python",
   "name": "python",
   "nbconvert_exporter": "python",
   "pygments_lexer": "ipython3",
   "version": "3.8.5"
  }
 },
 "nbformat": 4,
 "nbformat_minor": 4
}
