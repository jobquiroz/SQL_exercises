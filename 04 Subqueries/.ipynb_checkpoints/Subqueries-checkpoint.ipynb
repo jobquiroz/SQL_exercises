{
 "cells": [
  {
   "cell_type": "markdown",
   "metadata": {},
   "source": [
    "### Setup"
   ]
  },
  {
   "cell_type": "code",
   "execution_count": 1,
   "metadata": {},
   "outputs": [],
   "source": [
    "%%capture\n",
    "%load_ext sql\n",
    "%sql sqlite:///jobs.db"
   ]
  },
  {
   "cell_type": "markdown",
   "metadata": {},
   "source": [
    "# Subqueries\n",
    "### Writing more complex queries\n",
    "\n",
    "The other missions in this course so far have prepared us to answer one question at a time. Often, however, we want to answer questions that involves multiple queries. For example, consider the following:\n",
    "\n",
    "**Which rows are above the average for the ShareWomen column?**\n",
    "\n",
    "To determine which majors are above average for the ShareWomen column, we need to do the following:\n",
    "\n",
    "- Determine the average value for the ShareWomen column.\n",
    "- Select and filter the rows that are greater than the average value.\n",
    "\n",
    "Simply trying the query below doesn't work.\n",
    "\n",
    "```\n",
    "SELECT *\n",
    "  FROM recent_grads\n",
    " WHERE ShareWomen > AVG(ShareWomen);\n",
    "```\n",
    "\n",
    "We get an error.\n",
    "\n",
    "\n",
    "We can, however, first find AVG(ShareWomen), copy the value manually and replace it in the query above.\n",
    "\n",
    "```\n",
    "SELECT AVG(ShareWomen)\n",
    "  FROM recent_grads;\n",
    "\n",
    "---> 0.5225\n",
    "```"
   ]
  },
  {
   "cell_type": "code",
   "execution_count": 3,
   "metadata": {},
   "outputs": [
    {
     "name": "stdout",
     "output_type": "stream",
     "text": [
      " * sqlite:///jobs.db\n",
      "Done.\n"
     ]
    },
    {
     "data": {
      "text/html": [
       "<table>\n",
       "    <tr>\n",
       "        <th>Major</th>\n",
       "        <th>ShareWomen</th>\n",
       "    </tr>\n",
       "    <tr>\n",
       "        <td>ACTUARIAL SCIENCE</td>\n",
       "        <td>0.535714286</td>\n",
       "    </tr>\n",
       "    <tr>\n",
       "        <td>COMPUTER SCIENCE</td>\n",
       "        <td>0.578766338</td>\n",
       "    </tr>\n",
       "    <tr>\n",
       "        <td>ENVIRONMENTAL ENGINEERING</td>\n",
       "        <td>0.558548009</td>\n",
       "    </tr>\n",
       "    <tr>\n",
       "        <td>NURSING</td>\n",
       "        <td>0.896018988</td>\n",
       "    </tr>\n",
       "    <tr>\n",
       "        <td>INDUSTRIAL PRODUCTION TECHNOLOGIES</td>\n",
       "        <td>0.75047259</td>\n",
       "    </tr>\n",
       "</table>"
      ],
      "text/plain": [
       "[('ACTUARIAL SCIENCE', 0.535714286),\n",
       " ('COMPUTER SCIENCE', 0.578766338),\n",
       " ('ENVIRONMENTAL ENGINEERING', 0.558548009),\n",
       " ('NURSING', 0.896018988),\n",
       " ('INDUSTRIAL PRODUCTION TECHNOLOGIES', 0.75047259)]"
      ]
     },
     "execution_count": 3,
     "metadata": {},
     "output_type": "execute_result"
    }
   ],
   "source": [
    "%%sql\n",
    "\n",
    "SELECT Major, ShareWomen\n",
    "FROM recent_grads\n",
    "WHERE ShareWomen > 0.5225502\n",
    "LIMIT 5"
   ]
  },
  {
   "cell_type": "markdown",
   "metadata": {},
   "source": [
    "## Subqueries\n",
    "\n",
    "Our method in the previous screen lacks flexibility and requires extra work. Fortunately, SQL allows us to answer questions with a single query.\n",
    "\n",
    "How do we make the computed average value, 0.5225502029537575, dynamic? We can do this by using **subqueries**. A subquery is a query nested within another query. Here's a template for a SQL statement where the subquery resides in the WHERE clause:\n",
    "\n",
    "```\n",
    "SELECT Major, ShareWomen FROM recent_grads\n",
    "WHERE ShareWomen > (subquery that returns the average value for ShareWomen)\n",
    "```\n",
    "\n",
    "The subquery runs first and returns the average value for the ShareWomen column (which happens to be 0.5225502029537575). Based on the result of the subquery, SQL will replace the subquery with this value dynamically.\n",
    "\n",
    "SQL will ignore the column name (AVG(ShareWomen)) and use the actual row value. Here's a diagram that clarifies the flow:\n",
    "\n",
    "\n",
    "![img](img/flow.png)\n",
    "\n",
    "The query that replaces the placeholder subquery needs to be a full query (like the ones we've seen so far).\n",
    "\n",
    "For this particular example, the inner query should only return a table with a single row and a column because of how it fits within the outer query (... WHERE > ?). **If you try to return a table with multiple columns, you will get an error.**\n",
    "\n",
    "Lastly, a subquery must always be inside parentheses `()`. We get an error if we don't include them in the query above."
   ]
  },
  {
   "cell_type": "markdown",
   "metadata": {},
   "source": [
    "*Write a query that does the following:*\n",
    "- *Displays, in order, the columns Major and Unemployment_rate.*\n",
    "- *Displays all rows with an unemployment rate below average.*"
   ]
  },
  {
   "cell_type": "code",
   "execution_count": 5,
   "metadata": {},
   "outputs": [
    {
     "name": "stdout",
     "output_type": "stream",
     "text": [
      " * sqlite:///jobs.db\n",
      "Done.\n"
     ]
    },
    {
     "data": {
      "text/html": [
       "<table>\n",
       "    <tr>\n",
       "        <th>Major</th>\n",
       "        <th>Unemployment_rate</th>\n",
       "    </tr>\n",
       "    <tr>\n",
       "        <td>PETROLEUM ENGINEERING</td>\n",
       "        <td>0.018380527</td>\n",
       "    </tr>\n",
       "    <tr>\n",
       "        <td>METALLURGICAL ENGINEERING</td>\n",
       "        <td>0.024096386</td>\n",
       "    </tr>\n",
       "    <tr>\n",
       "        <td>NAVAL ARCHITECTURE AND MARINE ENGINEERING</td>\n",
       "        <td>0.050125313</td>\n",
       "    </tr>\n",
       "    <tr>\n",
       "        <td>CHEMICAL ENGINEERING</td>\n",
       "        <td>0.061097712</td>\n",
       "    </tr>\n",
       "    <tr>\n",
       "        <td>ASTRONOMY AND ASTROPHYSICS</td>\n",
       "        <td>0.021167415</td>\n",
       "    </tr>\n",
       "</table>"
      ],
      "text/plain": [
       "[('PETROLEUM ENGINEERING', 0.018380527),\n",
       " ('METALLURGICAL ENGINEERING', 0.024096386),\n",
       " ('NAVAL ARCHITECTURE AND MARINE ENGINEERING', 0.050125313),\n",
       " ('CHEMICAL ENGINEERING', 0.061097712),\n",
       " ('ASTRONOMY AND ASTROPHYSICS', 0.021167415)]"
      ]
     },
     "execution_count": 5,
     "metadata": {},
     "output_type": "execute_result"
    }
   ],
   "source": [
    "%%sql\n",
    "\n",
    "SELECT Major, Unemployment_rate\n",
    "FROM recent_grads\n",
    "WHERE Unemployment_rate < (SELECT AVG(Unemployment_rate)\n",
    "                           FROM recent_grads)\n",
    "LIMIT 5;"
   ]
  },
  {
   "cell_type": "markdown",
   "metadata": {},
   "source": [
    "## Subquery in SELECT\n",
    "\n",
    "On the previous screen, we wrote SQL statements that used a subquery to express dynamic filter criteria in the WHERE clause. Specifically, we looked for rows that were above or below the average value in a specific column.\n",
    "\n",
    "What if we wanted to understand the proportion of majors that are above the average for a given column? We'd need to divide the number of rows that met the filter criteria by the total number of rows in the table.\n",
    "\n",
    "Let's focus on the query from the previous screen:\n",
    "\n",
    "```\n",
    "SELECT Major, ShareWomen\n",
    "  FROM recent_grads\n",
    " WHERE ShareWomen > (SELECT AVG(ShareWomen)\n",
    "                       FROM recent_grads\n",
    "                    );\n",
    "```\n",
    "\n",
    "Using the COUNT aggregate function, we can return the number of rows in the results set:"
   ]
  },
  {
   "cell_type": "code",
   "execution_count": 6,
   "metadata": {},
   "outputs": [
    {
     "name": "stdout",
     "output_type": "stream",
     "text": [
      " * sqlite:///jobs.db\n",
      "Done.\n"
     ]
    },
    {
     "data": {
      "text/html": [
       "<table>\n",
       "    <tr>\n",
       "        <th>COUNT(*)</th>\n",
       "    </tr>\n",
       "    <tr>\n",
       "        <td>91</td>\n",
       "    </tr>\n",
       "</table>"
      ],
      "text/plain": [
       "[(91,)]"
      ]
     },
     "execution_count": 6,
     "metadata": {},
     "output_type": "execute_result"
    }
   ],
   "source": [
    "%%sql \n",
    "SELECT COUNT(*)\n",
    "  FROM recent_grads\n",
    " WHERE ShareWomen > (SELECT AVG(ShareWomen)\n",
    "                     FROM recent_grads\n",
    "                    );"
   ]
  },
  {
   "cell_type": "markdown",
   "metadata": {},
   "source": [
    "To return the proportion, we need to **divide this value by the total number of rows in recent_grads**. We can count the number of rows in the table, save the result, and then divide by it. The challenge, however, is to do this dynamically!\n",
    "\n",
    "To calculate the number of total rows in recent_grads and use it in another SQL statement, we can use a subquery in the SELECT clause:"
   ]
  },
  {
   "cell_type": "code",
   "execution_count": 7,
   "metadata": {},
   "outputs": [
    {
     "name": "stdout",
     "output_type": "stream",
     "text": [
      " * sqlite:///jobs.db\n",
      "Done.\n"
     ]
    },
    {
     "data": {
      "text/html": [
       "<table>\n",
       "    <tr>\n",
       "        <th>COUNT(*)</th>\n",
       "        <th>(SELECT COUNT(*)<br>          FROM recent_grads<br>       )</th>\n",
       "    </tr>\n",
       "    <tr>\n",
       "        <td>91</td>\n",
       "        <td>173</td>\n",
       "    </tr>\n",
       "</table>"
      ],
      "text/plain": [
       "[(91, 173)]"
      ]
     },
     "execution_count": 7,
     "metadata": {},
     "output_type": "execute_result"
    }
   ],
   "source": [
    "%%sql \n",
    "\n",
    "SELECT COUNT(*),\n",
    "       (SELECT COUNT(*)\n",
    "          FROM recent_grads\n",
    "       )\n",
    "  FROM recent_grads\n",
    " WHERE ShareWomen > (SELECT AVG(ShareWomen)\n",
    "                       FROM recent_grads\n",
    "                    );"
   ]
  },
  {
   "cell_type": "markdown",
   "metadata": {},
   "source": [
    "*Now, extend the SQL statement to compute the actual proportion.*\n",
    "\n",
    "*Write a SQL statement that computes the proportion (as a float value) of rows that contain above-average values for ShareWomen.*\n",
    "\n",
    "*The results should only return the proportion, aliased as proportion_abv_avg*"
   ]
  },
  {
   "cell_type": "code",
   "execution_count": 8,
   "metadata": {},
   "outputs": [
    {
     "name": "stdout",
     "output_type": "stream",
     "text": [
      " * sqlite:///jobs.db\n",
      "Done.\n"
     ]
    },
    {
     "data": {
      "text/html": [
       "<table>\n",
       "    <tr>\n",
       "        <th>proportion_abv_avg</th>\n",
       "    </tr>\n",
       "    <tr>\n",
       "        <td>0.5260115606936416</td>\n",
       "    </tr>\n",
       "</table>"
      ],
      "text/plain": [
       "[(0.5260115606936416,)]"
      ]
     },
     "execution_count": 8,
     "metadata": {},
     "output_type": "execute_result"
    }
   ],
   "source": [
    "%%sql\n",
    "\n",
    "SELECT CAST(COUNT(*) AS FLOAT) / (SELECT COUNT(*) FROM recent_grads) AS proportion_abv_avg\n",
    "    FROM recent_grads\n",
    "    WHERE ShareWomen > (SELECT AVG(ShareWomen)\n",
    "                            FROM recent_grads);"
   ]
  },
  {
   "cell_type": "markdown",
   "metadata": {},
   "source": [
    "## The IN Operator\n",
    "\n",
    "We've been using operators like < and >. In the SQLite documentation, we see all of the following operators.\n",
    "\n",
    "![img](img/op.png)\n",
    "\n",
    "Using the IN operator, we can specify a list of values that we want to match in the WHERE clause. The following query returns the rows where Major_category equals either Business or Engineering:"
   ]
  },
  {
   "cell_type": "code",
   "execution_count": 9,
   "metadata": {},
   "outputs": [
    {
     "name": "stdout",
     "output_type": "stream",
     "text": [
      " * sqlite:///jobs.db\n",
      "Done.\n"
     ]
    },
    {
     "data": {
      "text/html": [
       "<table>\n",
       "    <tr>\n",
       "        <th>Major</th>\n",
       "        <th>Major_category</th>\n",
       "    </tr>\n",
       "    <tr>\n",
       "        <td>PETROLEUM ENGINEERING</td>\n",
       "        <td>Engineering</td>\n",
       "    </tr>\n",
       "    <tr>\n",
       "        <td>MINING AND MINERAL ENGINEERING</td>\n",
       "        <td>Engineering</td>\n",
       "    </tr>\n",
       "    <tr>\n",
       "        <td>METALLURGICAL ENGINEERING</td>\n",
       "        <td>Engineering</td>\n",
       "    </tr>\n",
       "    <tr>\n",
       "        <td>NAVAL ARCHITECTURE AND MARINE ENGINEERING</td>\n",
       "        <td>Engineering</td>\n",
       "    </tr>\n",
       "    <tr>\n",
       "        <td>CHEMICAL ENGINEERING</td>\n",
       "        <td>Engineering</td>\n",
       "    </tr>\n",
       "    <tr>\n",
       "        <td>NUCLEAR ENGINEERING</td>\n",
       "        <td>Engineering</td>\n",
       "    </tr>\n",
       "    <tr>\n",
       "        <td>ACTUARIAL SCIENCE</td>\n",
       "        <td>Business</td>\n",
       "    </tr>\n",
       "</table>"
      ],
      "text/plain": [
       "[('PETROLEUM ENGINEERING', 'Engineering'),\n",
       " ('MINING AND MINERAL ENGINEERING', 'Engineering'),\n",
       " ('METALLURGICAL ENGINEERING', 'Engineering'),\n",
       " ('NAVAL ARCHITECTURE AND MARINE ENGINEERING', 'Engineering'),\n",
       " ('CHEMICAL ENGINEERING', 'Engineering'),\n",
       " ('NUCLEAR ENGINEERING', 'Engineering'),\n",
       " ('ACTUARIAL SCIENCE', 'Business')]"
      ]
     },
     "execution_count": 9,
     "metadata": {},
     "output_type": "execute_result"
    }
   ],
   "source": [
    "%%sql\n",
    "\n",
    "SELECT Major, Major_category\n",
    "  FROM recent_grads\n",
    " WHERE Major_category IN ('Business', 'Engineering')\n",
    " LIMIT 7;"
   ]
  },
  {
   "cell_type": "markdown",
   "metadata": {},
   "source": [
    "Let's practice using IN.\n",
    "\n",
    "*Write a query that displays the following:*\n",
    "\n",
    "- In order, Major_category and Major\n",
    "- All rows in any of the following categories:\n",
    "    - Business\n",
    "    - Humanities & Liberal Arts\n",
    "    - Education"
   ]
  },
  {
   "cell_type": "code",
   "execution_count": 13,
   "metadata": {},
   "outputs": [
    {
     "name": "stdout",
     "output_type": "stream",
     "text": [
      " * sqlite:///jobs.db\n",
      "Done.\n"
     ]
    },
    {
     "data": {
      "text/html": [
       "<table>\n",
       "    <tr>\n",
       "        <th>Major_category</th>\n",
       "        <th>Major</th>\n",
       "    </tr>\n",
       "    <tr>\n",
       "        <td>Business</td>\n",
       "        <td>ACTUARIAL SCIENCE</td>\n",
       "    </tr>\n",
       "    <tr>\n",
       "        <td>Business</td>\n",
       "        <td>MANAGEMENT INFORMATION SYSTEMS AND STATISTICS</td>\n",
       "    </tr>\n",
       "    <tr>\n",
       "        <td>Business</td>\n",
       "        <td>OPERATIONS LOGISTICS AND E-COMMERCE</td>\n",
       "    </tr>\n",
       "    <tr>\n",
       "        <td>Business</td>\n",
       "        <td>FINANCE</td>\n",
       "    </tr>\n",
       "    <tr>\n",
       "        <td>Business</td>\n",
       "        <td>BUSINESS ECONOMICS</td>\n",
       "    </tr>\n",
       "    <tr>\n",
       "        <td>Business</td>\n",
       "        <td>ACCOUNTING</td>\n",
       "    </tr>\n",
       "    <tr>\n",
       "        <td>Education</td>\n",
       "        <td>SCHOOL STUDENT COUNSELING</td>\n",
       "    </tr>\n",
       "    <tr>\n",
       "        <td>Business</td>\n",
       "        <td>GENERAL BUSINESS</td>\n",
       "    </tr>\n",
       "    <tr>\n",
       "        <td>Business</td>\n",
       "        <td>INTERNATIONAL BUSINESS</td>\n",
       "    </tr>\n",
       "    <tr>\n",
       "        <td>Business</td>\n",
       "        <td>MISCELLANEOUS BUSINESS &amp; MEDICAL ADMINISTRATION</td>\n",
       "    </tr>\n",
       "    <tr>\n",
       "        <td>Humanities &amp; Liberal Arts</td>\n",
       "        <td>UNITED STATES HISTORY</td>\n",
       "    </tr>\n",
       "</table>"
      ],
      "text/plain": [
       "[('Business', 'ACTUARIAL SCIENCE'),\n",
       " ('Business', 'MANAGEMENT INFORMATION SYSTEMS AND STATISTICS'),\n",
       " ('Business', 'OPERATIONS LOGISTICS AND E-COMMERCE'),\n",
       " ('Business', 'FINANCE'),\n",
       " ('Business', 'BUSINESS ECONOMICS'),\n",
       " ('Business', 'ACCOUNTING'),\n",
       " ('Education', 'SCHOOL STUDENT COUNSELING'),\n",
       " ('Business', 'GENERAL BUSINESS'),\n",
       " ('Business', 'INTERNATIONAL BUSINESS'),\n",
       " ('Business', 'MISCELLANEOUS BUSINESS & MEDICAL ADMINISTRATION'),\n",
       " ('Humanities & Liberal Arts', 'UNITED STATES HISTORY')]"
      ]
     },
     "execution_count": 13,
     "metadata": {},
     "output_type": "execute_result"
    }
   ],
   "source": [
    "%%sql\n",
    "\n",
    "SELECT Major_category, \n",
    "       Major\n",
    "    FROM recent_grads\n",
    "    WHERE Major_category IN ('Business', 'Humanities & Liberal Arts', 'Education')\n",
    "    LIMIT 11"
   ]
  },
  {
   "cell_type": "markdown",
   "metadata": {},
   "source": [
    "## Returning multiple results in subqueries\n",
    "\n",
    "In the previous exercise, we displayed the majors in the categories Business, Humanities & Liberal Arts, and Education.\n",
    "\n",
    "These are the top three categories with respect to the total number of graduates, as we can see in the query below."
   ]
  },
  {
   "cell_type": "code",
   "execution_count": 15,
   "metadata": {},
   "outputs": [
    {
     "name": "stdout",
     "output_type": "stream",
     "text": [
      " * sqlite:///jobs.db\n",
      "Done.\n"
     ]
    },
    {
     "data": {
      "text/html": [
       "<table>\n",
       "    <tr>\n",
       "        <th>Major_category</th>\n",
       "        <th>SUM(TOTAL)</th>\n",
       "    </tr>\n",
       "    <tr>\n",
       "        <td>Business</td>\n",
       "        <td>1302376</td>\n",
       "    </tr>\n",
       "    <tr>\n",
       "        <td>Humanities &amp; Liberal Arts</td>\n",
       "        <td>713468</td>\n",
       "    </tr>\n",
       "    <tr>\n",
       "        <td>Education</td>\n",
       "        <td>559129</td>\n",
       "    </tr>\n",
       "    <tr>\n",
       "        <td>Engineering</td>\n",
       "        <td>537583</td>\n",
       "    </tr>\n",
       "    <tr>\n",
       "        <td>Social Science</td>\n",
       "        <td>529966</td>\n",
       "    </tr>\n",
       "</table>"
      ],
      "text/plain": [
       "[('Business', 1302376),\n",
       " ('Humanities & Liberal Arts', 713468),\n",
       " ('Education', 559129),\n",
       " ('Engineering', 537583),\n",
       " ('Social Science', 529966)]"
      ]
     },
     "execution_count": 15,
     "metadata": {},
     "output_type": "execute_result"
    }
   ],
   "source": [
    "%%sql\n",
    "\n",
    "SELECT Major_category, SUM(TOTAL)\n",
    "  FROM recent_grads\n",
    " GROUP BY Major_category\n",
    " ORDER BY SUM(TOTAL) DESC\n",
    " LIMIT 5;"
   ]
  },
  {
   "cell_type": "markdown",
   "metadata": {},
   "source": [
    "If we wanted to find the same list of majors as we saw in the previous screen, dynamically (i.e. without first determining the most popular categories and then hard-coding the values into the query), subqueries can help.\n",
    "\n",
    "Instead of returning just one value, we can make the query return a list of values (disguised as a single column).\n",
    "\n",
    "In the following exercise, you will display the same results as we saw in the previous screen, only this time you won't manually indicate the categories.\n",
    "\n",
    "You can use the following code in this screen's exercise.\n",
    "\n",
    "```\n",
    "SELECT Major_category, Major\n",
    "  FROM recent_grads\n",
    " WHERE Major_category IN (SUBQUERY_GOES_HERE);\n",
    "```\n",
    "\n",
    "*In the code displayed above, replace SUBQUERY_GOES_HERE to create a query that displays the Major and Major_category columns, for the rows where Major_category is one of the three highest group level sums for the Total column.*"
   ]
  },
  {
   "cell_type": "code",
   "execution_count": 17,
   "metadata": {},
   "outputs": [
    {
     "name": "stdout",
     "output_type": "stream",
     "text": [
      " * sqlite:///jobs.db\n",
      "Done.\n"
     ]
    },
    {
     "data": {
      "text/html": [
       "<table>\n",
       "    <tr>\n",
       "        <th>Major_category</th>\n",
       "        <th>Major</th>\n",
       "    </tr>\n",
       "    <tr>\n",
       "        <td>Business</td>\n",
       "        <td>ACTUARIAL SCIENCE</td>\n",
       "    </tr>\n",
       "    <tr>\n",
       "        <td>Business</td>\n",
       "        <td>MANAGEMENT INFORMATION SYSTEMS AND STATISTICS</td>\n",
       "    </tr>\n",
       "    <tr>\n",
       "        <td>Business</td>\n",
       "        <td>OPERATIONS LOGISTICS AND E-COMMERCE</td>\n",
       "    </tr>\n",
       "    <tr>\n",
       "        <td>Business</td>\n",
       "        <td>FINANCE</td>\n",
       "    </tr>\n",
       "    <tr>\n",
       "        <td>Business</td>\n",
       "        <td>BUSINESS ECONOMICS</td>\n",
       "    </tr>\n",
       "    <tr>\n",
       "        <td>Business</td>\n",
       "        <td>ACCOUNTING</td>\n",
       "    </tr>\n",
       "    <tr>\n",
       "        <td>Education</td>\n",
       "        <td>SCHOOL STUDENT COUNSELING</td>\n",
       "    </tr>\n",
       "    <tr>\n",
       "        <td>Business</td>\n",
       "        <td>GENERAL BUSINESS</td>\n",
       "    </tr>\n",
       "    <tr>\n",
       "        <td>Business</td>\n",
       "        <td>INTERNATIONAL BUSINESS</td>\n",
       "    </tr>\n",
       "    <tr>\n",
       "        <td>Business</td>\n",
       "        <td>MISCELLANEOUS BUSINESS &amp; MEDICAL ADMINISTRATION</td>\n",
       "    </tr>\n",
       "    <tr>\n",
       "        <td>Humanities &amp; Liberal Arts</td>\n",
       "        <td>UNITED STATES HISTORY</td>\n",
       "    </tr>\n",
       "    <tr>\n",
       "        <td>Business</td>\n",
       "        <td>BUSINESS MANAGEMENT AND ADMINISTRATION</td>\n",
       "    </tr>\n",
       "    <tr>\n",
       "        <td>Business</td>\n",
       "        <td>MARKETING AND MARKETING RESEARCH</td>\n",
       "    </tr>\n",
       "    <tr>\n",
       "        <td>Business</td>\n",
       "        <td>HUMAN RESOURCES AND PERSONNEL MANAGEMENT</td>\n",
       "    </tr>\n",
       "    <tr>\n",
       "        <td>Humanities &amp; Liberal Arts</td>\n",
       "        <td>AREA ETHNIC AND CIVILIZATION STUDIES</td>\n",
       "    </tr>\n",
       "    <tr>\n",
       "        <td>Education</td>\n",
       "        <td>SPECIAL NEEDS EDUCATION</td>\n",
       "    </tr>\n",
       "    <tr>\n",
       "        <td>Education</td>\n",
       "        <td>GENERAL EDUCATION</td>\n",
       "    </tr>\n",
       "    <tr>\n",
       "        <td>Humanities &amp; Liberal Arts</td>\n",
       "        <td>HISTORY</td>\n",
       "    </tr>\n",
       "    <tr>\n",
       "        <td>Humanities &amp; Liberal Arts</td>\n",
       "        <td>FRENCH GERMAN LATIN AND OTHER COMMON FOREIGN LANGUAGE STUDIES</td>\n",
       "    </tr>\n",
       "    <tr>\n",
       "        <td>Humanities &amp; Liberal Arts</td>\n",
       "        <td>INTERCULTURAL AND INTERNATIONAL STUDIES</td>\n",
       "    </tr>\n",
       "    <tr>\n",
       "        <td>Education</td>\n",
       "        <td>SOCIAL SCIENCE OR HISTORY TEACHER EDUCATION</td>\n",
       "    </tr>\n",
       "    <tr>\n",
       "        <td>Education</td>\n",
       "        <td>MATHEMATICS TEACHER EDUCATION</td>\n",
       "    </tr>\n",
       "    <tr>\n",
       "        <td>Education</td>\n",
       "        <td>EDUCATIONAL ADMINISTRATION AND SUPERVISION</td>\n",
       "    </tr>\n",
       "    <tr>\n",
       "        <td>Business</td>\n",
       "        <td>HOSPITALITY MANAGEMENT</td>\n",
       "    </tr>\n",
       "    <tr>\n",
       "        <td>Education</td>\n",
       "        <td>LANGUAGE AND DRAMA EDUCATION</td>\n",
       "    </tr>\n",
       "    <tr>\n",
       "        <td>Humanities &amp; Liberal Arts</td>\n",
       "        <td>LINGUISTICS AND COMPARATIVE LANGUAGE AND LITERATURE</td>\n",
       "    </tr>\n",
       "    <tr>\n",
       "        <td>Education</td>\n",
       "        <td>MISCELLANEOUS EDUCATION</td>\n",
       "    </tr>\n",
       "    <tr>\n",
       "        <td>Education</td>\n",
       "        <td>SECONDARY TEACHER EDUCATION</td>\n",
       "    </tr>\n",
       "    <tr>\n",
       "        <td>Humanities &amp; Liberal Arts</td>\n",
       "        <td>PHILOSOPHY AND RELIGIOUS STUDIES</td>\n",
       "    </tr>\n",
       "    <tr>\n",
       "        <td>Education</td>\n",
       "        <td>ART AND MUSIC EDUCATION</td>\n",
       "    </tr>\n",
       "    <tr>\n",
       "        <td>Humanities &amp; Liberal Arts</td>\n",
       "        <td>ENGLISH LANGUAGE AND LITERATURE</td>\n",
       "    </tr>\n",
       "    <tr>\n",
       "        <td>Education</td>\n",
       "        <td>ELEMENTARY EDUCATION</td>\n",
       "    </tr>\n",
       "    <tr>\n",
       "        <td>Humanities &amp; Liberal Arts</td>\n",
       "        <td>LIBERAL ARTS</td>\n",
       "    </tr>\n",
       "    <tr>\n",
       "        <td>Education</td>\n",
       "        <td>SCIENCE AND COMPUTER TEACHER EDUCATION</td>\n",
       "    </tr>\n",
       "    <tr>\n",
       "        <td>Education</td>\n",
       "        <td>PHYSICAL AND HEALTH EDUCATION TEACHING</td>\n",
       "    </tr>\n",
       "    <tr>\n",
       "        <td>Humanities &amp; Liberal Arts</td>\n",
       "        <td>ART HISTORY AND CRITICISM</td>\n",
       "    </tr>\n",
       "    <tr>\n",
       "        <td>Education</td>\n",
       "        <td>TEACHER EDUCATION: MULTIPLE LEVELS</td>\n",
       "    </tr>\n",
       "    <tr>\n",
       "        <td>Humanities &amp; Liberal Arts</td>\n",
       "        <td>HUMANITIES</td>\n",
       "    </tr>\n",
       "    <tr>\n",
       "        <td>Humanities &amp; Liberal Arts</td>\n",
       "        <td>THEOLOGY AND RELIGIOUS VOCATIONS</td>\n",
       "    </tr>\n",
       "    <tr>\n",
       "        <td>Humanities &amp; Liberal Arts</td>\n",
       "        <td>ANTHROPOLOGY AND ARCHEOLOGY</td>\n",
       "    </tr>\n",
       "    <tr>\n",
       "        <td>Education</td>\n",
       "        <td>EARLY CHILDHOOD EDUCATION</td>\n",
       "    </tr>\n",
       "    <tr>\n",
       "        <td>Humanities &amp; Liberal Arts</td>\n",
       "        <td>OTHER FOREIGN LANGUAGES</td>\n",
       "    </tr>\n",
       "    <tr>\n",
       "        <td>Humanities &amp; Liberal Arts</td>\n",
       "        <td>COMPOSITION AND RHETORIC</td>\n",
       "    </tr>\n",
       "    <tr>\n",
       "        <td>Education</td>\n",
       "        <td>LIBRARY SCIENCE</td>\n",
       "    </tr>\n",
       "</table>"
      ],
      "text/plain": [
       "[('Business', 'ACTUARIAL SCIENCE'),\n",
       " ('Business', 'MANAGEMENT INFORMATION SYSTEMS AND STATISTICS'),\n",
       " ('Business', 'OPERATIONS LOGISTICS AND E-COMMERCE'),\n",
       " ('Business', 'FINANCE'),\n",
       " ('Business', 'BUSINESS ECONOMICS'),\n",
       " ('Business', 'ACCOUNTING'),\n",
       " ('Education', 'SCHOOL STUDENT COUNSELING'),\n",
       " ('Business', 'GENERAL BUSINESS'),\n",
       " ('Business', 'INTERNATIONAL BUSINESS'),\n",
       " ('Business', 'MISCELLANEOUS BUSINESS & MEDICAL ADMINISTRATION'),\n",
       " ('Humanities & Liberal Arts', 'UNITED STATES HISTORY'),\n",
       " ('Business', 'BUSINESS MANAGEMENT AND ADMINISTRATION'),\n",
       " ('Business', 'MARKETING AND MARKETING RESEARCH'),\n",
       " ('Business', 'HUMAN RESOURCES AND PERSONNEL MANAGEMENT'),\n",
       " ('Humanities & Liberal Arts', 'AREA ETHNIC AND CIVILIZATION STUDIES'),\n",
       " ('Education', 'SPECIAL NEEDS EDUCATION'),\n",
       " ('Education', 'GENERAL EDUCATION'),\n",
       " ('Humanities & Liberal Arts', 'HISTORY'),\n",
       " ('Humanities & Liberal Arts', 'FRENCH GERMAN LATIN AND OTHER COMMON FOREIGN LANGUAGE STUDIES'),\n",
       " ('Humanities & Liberal Arts', 'INTERCULTURAL AND INTERNATIONAL STUDIES'),\n",
       " ('Education', 'SOCIAL SCIENCE OR HISTORY TEACHER EDUCATION'),\n",
       " ('Education', 'MATHEMATICS TEACHER EDUCATION'),\n",
       " ('Education', 'EDUCATIONAL ADMINISTRATION AND SUPERVISION'),\n",
       " ('Business', 'HOSPITALITY MANAGEMENT'),\n",
       " ('Education', 'LANGUAGE AND DRAMA EDUCATION'),\n",
       " ('Humanities & Liberal Arts', 'LINGUISTICS AND COMPARATIVE LANGUAGE AND LITERATURE'),\n",
       " ('Education', 'MISCELLANEOUS EDUCATION'),\n",
       " ('Education', 'SECONDARY TEACHER EDUCATION'),\n",
       " ('Humanities & Liberal Arts', 'PHILOSOPHY AND RELIGIOUS STUDIES'),\n",
       " ('Education', 'ART AND MUSIC EDUCATION'),\n",
       " ('Humanities & Liberal Arts', 'ENGLISH LANGUAGE AND LITERATURE'),\n",
       " ('Education', 'ELEMENTARY EDUCATION'),\n",
       " ('Humanities & Liberal Arts', 'LIBERAL ARTS'),\n",
       " ('Education', 'SCIENCE AND COMPUTER TEACHER EDUCATION'),\n",
       " ('Education', 'PHYSICAL AND HEALTH EDUCATION TEACHING'),\n",
       " ('Humanities & Liberal Arts', 'ART HISTORY AND CRITICISM'),\n",
       " ('Education', 'TEACHER EDUCATION: MULTIPLE LEVELS'),\n",
       " ('Humanities & Liberal Arts', 'HUMANITIES'),\n",
       " ('Humanities & Liberal Arts', 'THEOLOGY AND RELIGIOUS VOCATIONS'),\n",
       " ('Humanities & Liberal Arts', 'ANTHROPOLOGY AND ARCHEOLOGY'),\n",
       " ('Education', 'EARLY CHILDHOOD EDUCATION'),\n",
       " ('Humanities & Liberal Arts', 'OTHER FOREIGN LANGUAGES'),\n",
       " ('Humanities & Liberal Arts', 'COMPOSITION AND RHETORIC'),\n",
       " ('Education', 'LIBRARY SCIENCE')]"
      ]
     },
     "execution_count": 17,
     "metadata": {},
     "output_type": "execute_result"
    }
   ],
   "source": [
    "%%sql\n",
    "\n",
    "SELECT Major_category, Major\n",
    "FROM recent_grads\n",
    "WHERE Major_category IN (SELECT Major_category\n",
    "                            FROM recent_grads\n",
    "                            GROUP BY Major_category\n",
    "                            ORDER BY SUM(Total) DESC\n",
    "                            LIMIT 3\n",
    "                        );"
   ]
  },
  {
   "cell_type": "markdown",
   "metadata": {},
   "source": [
    "## Building complex subqueries\n",
    "\n",
    "On the previous few screens, we nested subqueries in the WHERE and the SELECT clauses that underwent evaluation before the outer query.\n",
    "\n",
    "We can actually **nest subqueries within subqueries many times**, but this complicates our SQL code and makes it harder to debug. In the next course, we'll explore **other techniques for composing SQL statements that simplfify nested logic.**\n",
    "\n",
    "When you need to write a SQL statement that will end up using many subqueries, it can be overwhelming to know how to start.\n",
    "\n",
    "In general, **you want to start with the inner queries first and work your way out**. For example, let's consider the *ratio of the Sample_size column in relation to the Total column*. You can read the dataset documentation if you need a reminder of what these columns represent.\n",
    "\n",
    "Specifically, let's consider the following:\n",
    "\n",
    "- Computing this ratio for every major.\n",
    "- Understanding which majors are above the average for this ratio.\n",
    "- Understanding how many majors are above the average for this ratio.\n",
    "\n",
    "We'll start by writing a query that calculates the ratio for every major and then calculates the average of these ratios.\n",
    "\n",
    "\n",
    "*Write a query that returns the average ratio between Sample_size and Total for all of the majors.*"
   ]
  },
  {
   "cell_type": "code",
   "execution_count": 18,
   "metadata": {},
   "outputs": [
    {
     "name": "stdout",
     "output_type": "stream",
     "text": [
      " * sqlite:///jobs.db\n",
      "Done.\n"
     ]
    },
    {
     "data": {
      "text/html": [
       "<table>\n",
       "    <tr>\n",
       "        <th>avg_ratio</th>\n",
       "    </tr>\n",
       "    <tr>\n",
       "        <td>0.009085896594349793</td>\n",
       "    </tr>\n",
       "</table>"
      ],
      "text/plain": [
       "[(0.009085896594349793,)]"
      ]
     },
     "execution_count": 18,
     "metadata": {},
     "output_type": "execute_result"
    }
   ],
   "source": [
    "%%sql\n",
    "\n",
    "SELECT AVG( CAST(Sample_size AS FLOAT) / Total ) AS avg_ratio\n",
    "    FROM recent_grads\n",
    "    "
   ]
  },
  {
   "cell_type": "markdown",
   "metadata": {},
   "source": [
    "Now that we have a subquery that calculates the average ratio (of Sample_size to Total), we can return the rows that exceed this average.\n",
    "\n",
    "*Write a query that does the following:*\n",
    "- *Selects the Major, Major_category, and the computed ratio columns*\n",
    "- *Filters for the rows where ratio is greater than avg_ratio*"
   ]
  },
  {
   "cell_type": "code",
   "execution_count": 20,
   "metadata": {},
   "outputs": [
    {
     "name": "stdout",
     "output_type": "stream",
     "text": [
      " * sqlite:///jobs.db\n",
      "Done.\n"
     ]
    },
    {
     "data": {
      "text/html": [
       "<table>\n",
       "    <tr>\n",
       "        <th>Major</th>\n",
       "        <th>Major_category</th>\n",
       "        <th>ratio</th>\n",
       "    </tr>\n",
       "    <tr>\n",
       "        <td>PETROLEUM ENGINEERING</td>\n",
       "        <td>Engineering</td>\n",
       "        <td>0.015391192817443352</td>\n",
       "    </tr>\n",
       "    <tr>\n",
       "        <td>MINING AND MINERAL ENGINEERING</td>\n",
       "        <td>Engineering</td>\n",
       "        <td>0.009259259259259259</td>\n",
       "    </tr>\n",
       "    <tr>\n",
       "        <td>NAVAL ARCHITECTURE AND MARINE ENGINEERING</td>\n",
       "        <td>Engineering</td>\n",
       "        <td>0.012718600953895072</td>\n",
       "    </tr>\n",
       "    <tr>\n",
       "        <td>ACTUARIAL SCIENCE</td>\n",
       "        <td>Business</td>\n",
       "        <td>0.013502779984114376</td>\n",
       "    </tr>\n",
       "    <tr>\n",
       "        <td>MECHANICAL ENGINEERING</td>\n",
       "        <td>Engineering</td>\n",
       "        <td>0.01127955539478444</td>\n",
       "    </tr>\n",
       "    <tr>\n",
       "        <td>COMPUTER ENGINEERING</td>\n",
       "        <td>Engineering</td>\n",
       "        <td>0.009604737374223677</td>\n",
       "    </tr>\n",
       "    <tr>\n",
       "        <td>AEROSPACE ENGINEERING</td>\n",
       "        <td>Engineering</td>\n",
       "        <td>0.00976225262319033</td>\n",
       "    </tr>\n",
       "    <tr>\n",
       "        <td>INDUSTRIAL AND MANUFACTURING ENGINEERING</td>\n",
       "        <td>Engineering</td>\n",
       "        <td>0.009647827920708563</td>\n",
       "    </tr>\n",
       "    <tr>\n",
       "        <td>ARCHITECTURAL ENGINEERING</td>\n",
       "        <td>Engineering</td>\n",
       "        <td>0.009203539823008849</td>\n",
       "    </tr>\n",
       "    <tr>\n",
       "        <td>COURT REPORTING</td>\n",
       "        <td>Law &amp; Public Policy</td>\n",
       "        <td>0.012195121951219513</td>\n",
       "    </tr>\n",
       "</table>"
      ],
      "text/plain": [
       "[('PETROLEUM ENGINEERING', 'Engineering', 0.015391192817443352),\n",
       " ('MINING AND MINERAL ENGINEERING', 'Engineering', 0.009259259259259259),\n",
       " ('NAVAL ARCHITECTURE AND MARINE ENGINEERING', 'Engineering', 0.012718600953895072),\n",
       " ('ACTUARIAL SCIENCE', 'Business', 0.013502779984114376),\n",
       " ('MECHANICAL ENGINEERING', 'Engineering', 0.01127955539478444),\n",
       " ('COMPUTER ENGINEERING', 'Engineering', 0.009604737374223677),\n",
       " ('AEROSPACE ENGINEERING', 'Engineering', 0.00976225262319033),\n",
       " ('INDUSTRIAL AND MANUFACTURING ENGINEERING', 'Engineering', 0.009647827920708563),\n",
       " ('ARCHITECTURAL ENGINEERING', 'Engineering', 0.009203539823008849),\n",
       " ('COURT REPORTING', 'Law & Public Policy', 0.012195121951219513)]"
      ]
     },
     "execution_count": 20,
     "metadata": {},
     "output_type": "execute_result"
    }
   ],
   "source": [
    "%%sql \n",
    "\n",
    "SELECT Major,\n",
    "       Major_category,\n",
    "       CAST(Sample_size AS FLOAT) / Total AS ratio\n",
    "    FROM recent_grads\n",
    "    WHERE ratio > (SELECT AVG(CAST(Sample_size AS FLOAT) / Total) \n",
    "                    FROM recent_grads)\n",
    "    LIMIT 10"
   ]
  }
 ],
 "metadata": {
  "kernelspec": {
   "display_name": "Python 3",
   "language": "python",
   "name": "python3"
  },
  "language_info": {
   "codemirror_mode": {
    "name": "ipython",
    "version": 3
   },
   "file_extension": ".py",
   "mimetype": "text/x-python",
   "name": "python",
   "nbconvert_exporter": "python",
   "pygments_lexer": "ipython3",
   "version": "3.8.5"
  }
 },
 "nbformat": 4,
 "nbformat_minor": 4
}
