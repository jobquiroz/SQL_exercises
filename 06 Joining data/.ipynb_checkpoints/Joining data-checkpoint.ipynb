{
 "cells": [
  {
   "cell_type": "markdown",
   "metadata": {},
   "source": [
    "### Setup"
   ]
  },
  {
   "cell_type": "code",
   "execution_count": 1,
   "metadata": {},
   "outputs": [],
   "source": [
    "%%capture\n",
    "%load_ext sql\n",
    "%sql sqlite:///factbook.db"
   ]
  },
  {
   "cell_type": "markdown",
   "metadata": {},
   "source": [
    "# Introducing joins\n",
    "\n",
    "In the SQL Fundamentals course, we worked exclusively with data that existed in a single table. In the real world, it's much more common for databases to have data in more than one table. If we want to be able to work with that data, we'll have to combine multiple tables within a query. The way we do this in SQL is using joins. As in the SQL Fundamentals course, we'll continue to use SQLite throughout this course.\n",
    "\n",
    "In this mission, we're going to be using a version of the CIA World Factbook (Factbook) database from the guided project from the SQL Fundamentals course. To refresh your memory, this database had one table called facts, where each row represented a country from the Factbook. Here are the first 5 rows of the facts table:"
   ]
  },
  {
   "cell_type": "code",
   "execution_count": 3,
   "metadata": {},
   "outputs": [
    {
     "name": "stdout",
     "output_type": "stream",
     "text": [
      " * sqlite:///factbook.db\n",
      "Done.\n"
     ]
    },
    {
     "data": {
      "text/html": [
       "<table>\n",
       "    <tr>\n",
       "        <th>id</th>\n",
       "        <th>code</th>\n",
       "        <th>name</th>\n",
       "        <th>area</th>\n",
       "        <th>area_land</th>\n",
       "        <th>area_water</th>\n",
       "        <th>population</th>\n",
       "        <th>population_growth</th>\n",
       "        <th>birth_rate</th>\n",
       "        <th>death_rate</th>\n",
       "        <th>migration_rate</th>\n",
       "    </tr>\n",
       "    <tr>\n",
       "        <td>1</td>\n",
       "        <td>af</td>\n",
       "        <td>Afghanistan</td>\n",
       "        <td>652230</td>\n",
       "        <td>652230</td>\n",
       "        <td>0</td>\n",
       "        <td>32564342</td>\n",
       "        <td>2.32</td>\n",
       "        <td>38.57</td>\n",
       "        <td>13.89</td>\n",
       "        <td>1.51</td>\n",
       "    </tr>\n",
       "    <tr>\n",
       "        <td>2</td>\n",
       "        <td>al</td>\n",
       "        <td>Albania</td>\n",
       "        <td>28748</td>\n",
       "        <td>27398</td>\n",
       "        <td>1350</td>\n",
       "        <td>3029278</td>\n",
       "        <td>0.3</td>\n",
       "        <td>12.92</td>\n",
       "        <td>6.58</td>\n",
       "        <td>3.3</td>\n",
       "    </tr>\n",
       "    <tr>\n",
       "        <td>3</td>\n",
       "        <td>ag</td>\n",
       "        <td>Algeria</td>\n",
       "        <td>2381741</td>\n",
       "        <td>2381741</td>\n",
       "        <td>0</td>\n",
       "        <td>39542166</td>\n",
       "        <td>1.84</td>\n",
       "        <td>23.67</td>\n",
       "        <td>4.31</td>\n",
       "        <td>0.92</td>\n",
       "    </tr>\n",
       "    <tr>\n",
       "        <td>4</td>\n",
       "        <td>an</td>\n",
       "        <td>Andorra</td>\n",
       "        <td>468</td>\n",
       "        <td>468</td>\n",
       "        <td>0</td>\n",
       "        <td>85580</td>\n",
       "        <td>0.12</td>\n",
       "        <td>8.13</td>\n",
       "        <td>6.96</td>\n",
       "        <td>0.0</td>\n",
       "    </tr>\n",
       "    <tr>\n",
       "        <td>5</td>\n",
       "        <td>ao</td>\n",
       "        <td>Angola</td>\n",
       "        <td>1246700</td>\n",
       "        <td>1246700</td>\n",
       "        <td>0</td>\n",
       "        <td>19625353</td>\n",
       "        <td>2.78</td>\n",
       "        <td>38.78</td>\n",
       "        <td>11.49</td>\n",
       "        <td>0.46</td>\n",
       "    </tr>\n",
       "</table>"
      ],
      "text/plain": [
       "[(1, 'af', 'Afghanistan', 652230, 652230, 0, 32564342, 2.32, 38.57, 13.89, 1.51),\n",
       " (2, 'al', 'Albania', 28748, 27398, 1350, 3029278, 0.3, 12.92, 6.58, 3.3),\n",
       " (3, 'ag', 'Algeria', 2381741, 2381741, 0, 39542166, 1.84, 23.67, 4.31, 0.92),\n",
       " (4, 'an', 'Andorra', 468, 468, 0, 85580, 0.12, 8.13, 6.96, 0.0),\n",
       " (5, 'ao', 'Angola', 1246700, 1246700, 0, 19625353, 2.78, 38.78, 11.49, 0.46)]"
      ]
     },
     "execution_count": 3,
     "metadata": {},
     "output_type": "execute_result"
    }
   ],
   "source": [
    "%%sql\n",
    "\n",
    "SELECT * \n",
    " FROM facts\n",
    " LIMIT 5"
   ]
  },
  {
   "cell_type": "markdown",
   "metadata": {},
   "source": [
    "In addition to the facts table we've added a new table, called cities which contains information on major urban areas from countries in the Factbook (for the rest of this mission, we'll use the word 'cities' to mean the same as 'major urban areas'). Let's take a look at the first few rows of this new table and a description of what each column represents:"
   ]
  },
  {
   "cell_type": "code",
   "execution_count": 4,
   "metadata": {},
   "outputs": [
    {
     "name": "stdout",
     "output_type": "stream",
     "text": [
      " * sqlite:///factbook.db\n",
      "Done.\n"
     ]
    },
    {
     "data": {
      "text/html": [
       "<table>\n",
       "    <tr>\n",
       "        <th>id</th>\n",
       "        <th>name</th>\n",
       "        <th>population</th>\n",
       "        <th>capital</th>\n",
       "        <th>facts_id</th>\n",
       "    </tr>\n",
       "    <tr>\n",
       "        <td>1</td>\n",
       "        <td>Oranjestad</td>\n",
       "        <td>37000</td>\n",
       "        <td>1</td>\n",
       "        <td>216</td>\n",
       "    </tr>\n",
       "    <tr>\n",
       "        <td>2</td>\n",
       "        <td>Saint John&#x27;S</td>\n",
       "        <td>27000</td>\n",
       "        <td>1</td>\n",
       "        <td>6</td>\n",
       "    </tr>\n",
       "    <tr>\n",
       "        <td>3</td>\n",
       "        <td>Abu Dhabi</td>\n",
       "        <td>942000</td>\n",
       "        <td>1</td>\n",
       "        <td>184</td>\n",
       "    </tr>\n",
       "    <tr>\n",
       "        <td>4</td>\n",
       "        <td>Dubai</td>\n",
       "        <td>1978000</td>\n",
       "        <td>0</td>\n",
       "        <td>184</td>\n",
       "    </tr>\n",
       "    <tr>\n",
       "        <td>5</td>\n",
       "        <td>Sharjah</td>\n",
       "        <td>983000</td>\n",
       "        <td>0</td>\n",
       "        <td>184</td>\n",
       "    </tr>\n",
       "</table>"
      ],
      "text/plain": [
       "[(1, 'Oranjestad', 37000, 1, '216'),\n",
       " (2, \"Saint John'S\", 27000, 1, '6'),\n",
       " (3, 'Abu Dhabi', 942000, 1, '184'),\n",
       " (4, 'Dubai', 1978000, 0, '184'),\n",
       " (5, 'Sharjah', 983000, 0, '184')]"
      ]
     },
     "execution_count": 4,
     "metadata": {},
     "output_type": "execute_result"
    }
   ],
   "source": [
    "%%sql\n",
    "\n",
    "SELECT * \n",
    " FROM cities\n",
    " LIMIT 5"
   ]
  },
  {
   "attachments": {
    "link.png": {
     "image/png": "[encoded data removed]"
    }
   },
   "cell_type": "markdown",
   "metadata": {},
   "source": [
    "- id - A unique ID for each city.\n",
    "- name - The name of the city.\n",
    "- population - The population of the city.\n",
    "- capital - Whether the city is a capital city: 1 if it is, 0 if it isn't.\n",
    "- facts_id - The ID of the country, from the facts table.\n",
    "\n",
    "The last column is of particular interest to us, as it is a column of data that also exists in our original facts table. This link between tables is important as it's used to combine the data in our queries. Below is a schema diagram, which shows the two tables in our database, the columns within them and how the two are linked.\n",
    "\n",
    "![link.png](attachment:link.png)\n",
    "\n",
    "The line in the schema diagram clearly shows the link between the id column in the facts table and the facts_id column in the cities table. You may need to refer back to this schema diagram throughout the mission.\n",
    "\n",
    "The most common way to join data using SQL is using an **inner join**. The syntax for an inner join is:\n",
    "\n",
    "```\n",
    "SELECT [column_names] FROM [table_name_one]\n",
    "INNER JOIN [table_name_two] ON [join_constraint];\n",
    "```\n",
    "\n",
    "The inner join clause is made up of two parts:\n",
    "\n",
    "- INNER JOIN, which tells the SQL engine the name of the table you wish to join in your query, and that you wish to use an inner join.\n",
    "- ON, which tells the SQL engine what columns to use to join the two tables.\n",
    "\n",
    "Joins are usually used in a query after the FROM clause. Let's look at a basic inner join where we combine the data from both of our tables."
   ]
  },
  {
   "cell_type": "markdown",
   "metadata": {},
   "source": [
    "```\n",
    "SELECT * \n",
    "FROM facts INNER JOIN cities ON cities.facts_id = facts.id\n",
    "LIMIT 5;\n",
    "```\n",
    "\n",
    "Let's look at the line of the query with the join in it:\n",
    "\n",
    "- INNER JOIN cities - This tells the SQL engine that we wish to join the cities table to our query using an inner join.\n",
    "- ON cities.facts_id = facts.id - This tells the SQL engine which columns to use when joining the data, following the syntax table_name.column_name.\n",
    "\n",
    "You might presume that SELECT * FROM facts will mean that the query returns only columns from the facts table, however the * wildcard when used with a join will give you all columns from **both tables**. Here is the result of this query:"
   ]
  },
  {
   "cell_type": "code",
   "execution_count": 7,
   "metadata": {},
   "outputs": [
    {
     "name": "stdout",
     "output_type": "stream",
     "text": [
      " * sqlite:///factbook.db\n",
      "Done.\n"
     ]
    },
    {
     "data": {
      "text/html": [
       "<table>\n",
       "    <tr>\n",
       "        <th>id</th>\n",
       "        <th>code</th>\n",
       "        <th>name</th>\n",
       "        <th>area</th>\n",
       "        <th>area_land</th>\n",
       "        <th>area_water</th>\n",
       "        <th>population</th>\n",
       "        <th>population_growth</th>\n",
       "        <th>birth_rate</th>\n",
       "        <th>death_rate</th>\n",
       "        <th>migration_rate</th>\n",
       "        <th>id_1</th>\n",
       "        <th>name_1</th>\n",
       "        <th>population_1</th>\n",
       "        <th>capital</th>\n",
       "        <th>facts_id</th>\n",
       "    </tr>\n",
       "    <tr>\n",
       "        <td>216</td>\n",
       "        <td>aa</td>\n",
       "        <td>Aruba</td>\n",
       "        <td>180</td>\n",
       "        <td>180</td>\n",
       "        <td>0</td>\n",
       "        <td>112162</td>\n",
       "        <td>1.33</td>\n",
       "        <td>12.56</td>\n",
       "        <td>8.18</td>\n",
       "        <td>8.92</td>\n",
       "        <td>1</td>\n",
       "        <td>Oranjestad</td>\n",
       "        <td>37000</td>\n",
       "        <td>1</td>\n",
       "        <td>216</td>\n",
       "    </tr>\n",
       "    <tr>\n",
       "        <td>6</td>\n",
       "        <td>ac</td>\n",
       "        <td>Antigua and Barbuda</td>\n",
       "        <td>442</td>\n",
       "        <td>442</td>\n",
       "        <td>0</td>\n",
       "        <td>92436</td>\n",
       "        <td>1.24</td>\n",
       "        <td>15.85</td>\n",
       "        <td>5.69</td>\n",
       "        <td>2.21</td>\n",
       "        <td>2</td>\n",
       "        <td>Saint John&#x27;S</td>\n",
       "        <td>27000</td>\n",
       "        <td>1</td>\n",
       "        <td>6</td>\n",
       "    </tr>\n",
       "    <tr>\n",
       "        <td>184</td>\n",
       "        <td>ae</td>\n",
       "        <td>United Arab Emirates</td>\n",
       "        <td>83600</td>\n",
       "        <td>83600</td>\n",
       "        <td>0</td>\n",
       "        <td>5779760</td>\n",
       "        <td>2.58</td>\n",
       "        <td>15.43</td>\n",
       "        <td>1.97</td>\n",
       "        <td>12.36</td>\n",
       "        <td>3</td>\n",
       "        <td>Abu Dhabi</td>\n",
       "        <td>942000</td>\n",
       "        <td>1</td>\n",
       "        <td>184</td>\n",
       "    </tr>\n",
       "    <tr>\n",
       "        <td>184</td>\n",
       "        <td>ae</td>\n",
       "        <td>United Arab Emirates</td>\n",
       "        <td>83600</td>\n",
       "        <td>83600</td>\n",
       "        <td>0</td>\n",
       "        <td>5779760</td>\n",
       "        <td>2.58</td>\n",
       "        <td>15.43</td>\n",
       "        <td>1.97</td>\n",
       "        <td>12.36</td>\n",
       "        <td>4</td>\n",
       "        <td>Dubai</td>\n",
       "        <td>1978000</td>\n",
       "        <td>0</td>\n",
       "        <td>184</td>\n",
       "    </tr>\n",
       "    <tr>\n",
       "        <td>184</td>\n",
       "        <td>ae</td>\n",
       "        <td>United Arab Emirates</td>\n",
       "        <td>83600</td>\n",
       "        <td>83600</td>\n",
       "        <td>0</td>\n",
       "        <td>5779760</td>\n",
       "        <td>2.58</td>\n",
       "        <td>15.43</td>\n",
       "        <td>1.97</td>\n",
       "        <td>12.36</td>\n",
       "        <td>5</td>\n",
       "        <td>Sharjah</td>\n",
       "        <td>983000</td>\n",
       "        <td>0</td>\n",
       "        <td>184</td>\n",
       "    </tr>\n",
       "</table>"
      ],
      "text/plain": [
       "[(216, 'aa', 'Aruba', 180, 180, 0, 112162, 1.33, 12.56, 8.18, 8.92, 1, 'Oranjestad', 37000, 1, '216'),\n",
       " (6, 'ac', 'Antigua and Barbuda', 442, 442, 0, 92436, 1.24, 15.85, 5.69, 2.21, 2, \"Saint John'S\", 27000, 1, '6'),\n",
       " (184, 'ae', 'United Arab Emirates', 83600, 83600, 0, 5779760, 2.58, 15.43, 1.97, 12.36, 3, 'Abu Dhabi', 942000, 1, '184'),\n",
       " (184, 'ae', 'United Arab Emirates', 83600, 83600, 0, 5779760, 2.58, 15.43, 1.97, 12.36, 4, 'Dubai', 1978000, 0, '184'),\n",
       " (184, 'ae', 'United Arab Emirates', 83600, 83600, 0, 5779760, 2.58, 15.43, 1.97, 12.36, 5, 'Sharjah', 983000, 0, '184')]"
      ]
     },
     "execution_count": 7,
     "metadata": {},
     "output_type": "execute_result"
    }
   ],
   "source": [
    "%%sql \n",
    "\n",
    "SELECT * \n",
    "FROM facts INNER JOIN cities ON cities.facts_id = facts.id\n",
    "LIMIT 5;"
   ]
  },
  {
   "cell_type": "markdown",
   "metadata": {},
   "source": [
    "This query gives us all columns from both tables and every row where there is a match between the id column from facts and the facts_id from cities, limited to the first 5 rows. We'll look at how the join itself works in detail in a moment, but first let's practice writing our first join.\n",
    "\n",
    "*Write a query that returns all columns from the facts and cities tables.*\n",
    "- *Use an INNER JOIN to join the cities table to the facts table.*\n",
    "- *Join the tables on the values where facts.id and cities.facts_id are equal.*\n",
    "- *Limit the query to the first 10 rows.*"
   ]
  },
  {
   "cell_type": "code",
   "execution_count": 8,
   "metadata": {},
   "outputs": [
    {
     "name": "stdout",
     "output_type": "stream",
     "text": [
      " * sqlite:///factbook.db\n",
      "Done.\n"
     ]
    },
    {
     "data": {
      "text/html": [
       "<table>\n",
       "    <tr>\n",
       "        <th>id</th>\n",
       "        <th>name</th>\n",
       "        <th>population</th>\n",
       "        <th>capital</th>\n",
       "        <th>facts_id</th>\n",
       "        <th>id_1</th>\n",
       "        <th>code</th>\n",
       "        <th>name_1</th>\n",
       "        <th>area</th>\n",
       "        <th>area_land</th>\n",
       "        <th>area_water</th>\n",
       "        <th>population_1</th>\n",
       "        <th>population_growth</th>\n",
       "        <th>birth_rate</th>\n",
       "        <th>death_rate</th>\n",
       "        <th>migration_rate</th>\n",
       "    </tr>\n",
       "    <tr>\n",
       "        <td>1</td>\n",
       "        <td>Oranjestad</td>\n",
       "        <td>37000</td>\n",
       "        <td>1</td>\n",
       "        <td>216</td>\n",
       "        <td>216</td>\n",
       "        <td>aa</td>\n",
       "        <td>Aruba</td>\n",
       "        <td>180</td>\n",
       "        <td>180</td>\n",
       "        <td>0</td>\n",
       "        <td>112162</td>\n",
       "        <td>1.33</td>\n",
       "        <td>12.56</td>\n",
       "        <td>8.18</td>\n",
       "        <td>8.92</td>\n",
       "    </tr>\n",
       "    <tr>\n",
       "        <td>2</td>\n",
       "        <td>Saint John&#x27;S</td>\n",
       "        <td>27000</td>\n",
       "        <td>1</td>\n",
       "        <td>6</td>\n",
       "        <td>6</td>\n",
       "        <td>ac</td>\n",
       "        <td>Antigua and Barbuda</td>\n",
       "        <td>442</td>\n",
       "        <td>442</td>\n",
       "        <td>0</td>\n",
       "        <td>92436</td>\n",
       "        <td>1.24</td>\n",
       "        <td>15.85</td>\n",
       "        <td>5.69</td>\n",
       "        <td>2.21</td>\n",
       "    </tr>\n",
       "    <tr>\n",
       "        <td>3</td>\n",
       "        <td>Abu Dhabi</td>\n",
       "        <td>942000</td>\n",
       "        <td>1</td>\n",
       "        <td>184</td>\n",
       "        <td>184</td>\n",
       "        <td>ae</td>\n",
       "        <td>United Arab Emirates</td>\n",
       "        <td>83600</td>\n",
       "        <td>83600</td>\n",
       "        <td>0</td>\n",
       "        <td>5779760</td>\n",
       "        <td>2.58</td>\n",
       "        <td>15.43</td>\n",
       "        <td>1.97</td>\n",
       "        <td>12.36</td>\n",
       "    </tr>\n",
       "    <tr>\n",
       "        <td>4</td>\n",
       "        <td>Dubai</td>\n",
       "        <td>1978000</td>\n",
       "        <td>0</td>\n",
       "        <td>184</td>\n",
       "        <td>184</td>\n",
       "        <td>ae</td>\n",
       "        <td>United Arab Emirates</td>\n",
       "        <td>83600</td>\n",
       "        <td>83600</td>\n",
       "        <td>0</td>\n",
       "        <td>5779760</td>\n",
       "        <td>2.58</td>\n",
       "        <td>15.43</td>\n",
       "        <td>1.97</td>\n",
       "        <td>12.36</td>\n",
       "    </tr>\n",
       "    <tr>\n",
       "        <td>5</td>\n",
       "        <td>Sharjah</td>\n",
       "        <td>983000</td>\n",
       "        <td>0</td>\n",
       "        <td>184</td>\n",
       "        <td>184</td>\n",
       "        <td>ae</td>\n",
       "        <td>United Arab Emirates</td>\n",
       "        <td>83600</td>\n",
       "        <td>83600</td>\n",
       "        <td>0</td>\n",
       "        <td>5779760</td>\n",
       "        <td>2.58</td>\n",
       "        <td>15.43</td>\n",
       "        <td>1.97</td>\n",
       "        <td>12.36</td>\n",
       "    </tr>\n",
       "    <tr>\n",
       "        <td>6</td>\n",
       "        <td>Kabul</td>\n",
       "        <td>3097000</td>\n",
       "        <td>1</td>\n",
       "        <td>1</td>\n",
       "        <td>1</td>\n",
       "        <td>af</td>\n",
       "        <td>Afghanistan</td>\n",
       "        <td>652230</td>\n",
       "        <td>652230</td>\n",
       "        <td>0</td>\n",
       "        <td>32564342</td>\n",
       "        <td>2.32</td>\n",
       "        <td>38.57</td>\n",
       "        <td>13.89</td>\n",
       "        <td>1.51</td>\n",
       "    </tr>\n",
       "    <tr>\n",
       "        <td>7</td>\n",
       "        <td>Algiers</td>\n",
       "        <td>2916000</td>\n",
       "        <td>1</td>\n",
       "        <td>3</td>\n",
       "        <td>3</td>\n",
       "        <td>ag</td>\n",
       "        <td>Algeria</td>\n",
       "        <td>2381741</td>\n",
       "        <td>2381741</td>\n",
       "        <td>0</td>\n",
       "        <td>39542166</td>\n",
       "        <td>1.84</td>\n",
       "        <td>23.67</td>\n",
       "        <td>4.31</td>\n",
       "        <td>0.92</td>\n",
       "    </tr>\n",
       "    <tr>\n",
       "        <td>8</td>\n",
       "        <td>Oran</td>\n",
       "        <td>783000</td>\n",
       "        <td>0</td>\n",
       "        <td>3</td>\n",
       "        <td>3</td>\n",
       "        <td>ag</td>\n",
       "        <td>Algeria</td>\n",
       "        <td>2381741</td>\n",
       "        <td>2381741</td>\n",
       "        <td>0</td>\n",
       "        <td>39542166</td>\n",
       "        <td>1.84</td>\n",
       "        <td>23.67</td>\n",
       "        <td>4.31</td>\n",
       "        <td>0.92</td>\n",
       "    </tr>\n",
       "    <tr>\n",
       "        <td>9</td>\n",
       "        <td>Baku</td>\n",
       "        <td>2123000</td>\n",
       "        <td>1</td>\n",
       "        <td>11</td>\n",
       "        <td>11</td>\n",
       "        <td>aj</td>\n",
       "        <td>Azerbaijan</td>\n",
       "        <td>86600</td>\n",
       "        <td>82629</td>\n",
       "        <td>3971</td>\n",
       "        <td>9780780</td>\n",
       "        <td>0.96</td>\n",
       "        <td>16.64</td>\n",
       "        <td>7.07</td>\n",
       "        <td>0.0</td>\n",
       "    </tr>\n",
       "    <tr>\n",
       "        <td>10</td>\n",
       "        <td>Tirana</td>\n",
       "        <td>419000</td>\n",
       "        <td>1</td>\n",
       "        <td>2</td>\n",
       "        <td>2</td>\n",
       "        <td>al</td>\n",
       "        <td>Albania</td>\n",
       "        <td>28748</td>\n",
       "        <td>27398</td>\n",
       "        <td>1350</td>\n",
       "        <td>3029278</td>\n",
       "        <td>0.3</td>\n",
       "        <td>12.92</td>\n",
       "        <td>6.58</td>\n",
       "        <td>3.3</td>\n",
       "    </tr>\n",
       "</table>"
      ],
      "text/plain": [
       "[(1, 'Oranjestad', 37000, 1, '216', 216, 'aa', 'Aruba', 180, 180, 0, 112162, 1.33, 12.56, 8.18, 8.92),\n",
       " (2, \"Saint John'S\", 27000, 1, '6', 6, 'ac', 'Antigua and Barbuda', 442, 442, 0, 92436, 1.24, 15.85, 5.69, 2.21),\n",
       " (3, 'Abu Dhabi', 942000, 1, '184', 184, 'ae', 'United Arab Emirates', 83600, 83600, 0, 5779760, 2.58, 15.43, 1.97, 12.36),\n",
       " (4, 'Dubai', 1978000, 0, '184', 184, 'ae', 'United Arab Emirates', 83600, 83600, 0, 5779760, 2.58, 15.43, 1.97, 12.36),\n",
       " (5, 'Sharjah', 983000, 0, '184', 184, 'ae', 'United Arab Emirates', 83600, 83600, 0, 5779760, 2.58, 15.43, 1.97, 12.36),\n",
       " (6, 'Kabul', 3097000, 1, '1', 1, 'af', 'Afghanistan', 652230, 652230, 0, 32564342, 2.32, 38.57, 13.89, 1.51),\n",
       " (7, 'Algiers', 2916000, 1, '3', 3, 'ag', 'Algeria', 2381741, 2381741, 0, 39542166, 1.84, 23.67, 4.31, 0.92),\n",
       " (8, 'Oran', 783000, 0, '3', 3, 'ag', 'Algeria', 2381741, 2381741, 0, 39542166, 1.84, 23.67, 4.31, 0.92),\n",
       " (9, 'Baku', 2123000, 1, '11', 11, 'aj', 'Azerbaijan', 86600, 82629, 3971, 9780780, 0.96, 16.64, 7.07, 0.0),\n",
       " (10, 'Tirana', 419000, 1, '2', 2, 'al', 'Albania', 28748, 27398, 1350, 3029278, 0.3, 12.92, 6.58, 3.3)]"
      ]
     },
     "execution_count": 8,
     "metadata": {},
     "output_type": "execute_result"
    }
   ],
   "source": [
    "%%sql\n",
    "\n",
    "SELECT *\n",
    "  FROM cities INNER JOIN facts\n",
    "    ON cities.facts_id = facts.id\n",
    "  LIMIT 10"
   ]
  },
  {
   "attachments": {
    "join.png": {
     "image/png": "[encoded data removed]"
    }
   },
   "cell_type": "markdown",
   "metadata": {},
   "source": [
    "## Understanding inner joins\n",
    "\n",
    "We've now joined the two tables to give us extra information about each row in cities. Let's take a closer look at how this inner join works.\n",
    "\n",
    "An inner join works by including only rows from each table that have a match as specified using the ON clause. Let's look at a diagram of how our join from the previous screen works. We have included a selection of rows which best illustrate the join:\n",
    "\n",
    "![join.png](attachment:join.png)\n",
    "\n",
    "Our inner join **will** include:\n",
    "\n",
    "- Rows from the cities table that have a cities.facts_id that matches a facts.id from facts.\n",
    "\n",
    "Our inner join **will not** include:\n",
    "\n",
    "- Rows from the cities table that have a cities.facts_id that doesn't match any facts.id from facts.\n",
    "- Rows from the facts table that have a facts.id that doesn't match any cities.facts_id from cities."
   ]
  },
  {
   "attachments": {
    "venn.png": {
     "image/png": "[encoded data removed]"
    }
   },
   "cell_type": "markdown",
   "metadata": {},
   "source": [
    "You can see this represented as a Venn diagram:\n",
    "\n",
    "![venn.png](attachment:venn.png)\n",
    "\n",
    "In the SQL fundamentals course, we learned how to use aliases to specify custom names for columns, eg:\n",
    "\n",
    "```\n",
    "SELECT AVG(population) AS AVERAGE_POPULATION\n",
    "```\n",
    "\n",
    "We can also create aliases for table names, which makes queries with joins easier to both read and write. Instead of:\n",
    "\n",
    "```\n",
    "SELECT * FROM facts\n",
    "INNER JOIN cities ON cities.facts_id = facts.id\n",
    "``` \n",
    "We can write:\n",
    "```\n",
    "SELECT * FROM facts AS f\n",
    "INNER JOIN cities AS c ON c.facts_id = f.id\n",
    "``` \n",
    "\n",
    "Just like with column names, using AS is optional. We can get the same result by writing:\n",
    "\n",
    "```\n",
    "SELECT * FROM facts f\n",
    "INNER JOIN cities c ON c.facts_id = f.id\n",
    "```\n",
    "\n",
    "We can also combine aliases with wildcards - for instance, using the aliases created above, c.* would give us all columns from the table cities.\n",
    "\n",
    "While our query from the previous screen included both columns from the ON clause, we don't need to use either column from our ON clause in our final list of columns. This is useful as it means we can show only the information we're interested in, rather than having to include the two join columns every time.\n",
    "\n",
    "Let's use what we've learned to build on our original query."
   ]
  },
  {
   "cell_type": "code",
   "execution_count": 10,
   "metadata": {},
   "outputs": [
    {
     "name": "stdout",
     "output_type": "stream",
     "text": [
      " * sqlite:///factbook.db\n",
      "Done.\n"
     ]
    },
    {
     "data": {
      "text/html": [
       "<table>\n",
       "    <tr>\n",
       "        <th>id</th>\n",
       "        <th>name</th>\n",
       "        <th>population</th>\n",
       "        <th>capital</th>\n",
       "        <th>facts_id</th>\n",
       "        <th>country_name</th>\n",
       "    </tr>\n",
       "    <tr>\n",
       "        <td>1</td>\n",
       "        <td>Oranjestad</td>\n",
       "        <td>37000</td>\n",
       "        <td>1</td>\n",
       "        <td>216</td>\n",
       "        <td>Aruba</td>\n",
       "    </tr>\n",
       "    <tr>\n",
       "        <td>2</td>\n",
       "        <td>Saint John&#x27;S</td>\n",
       "        <td>27000</td>\n",
       "        <td>1</td>\n",
       "        <td>6</td>\n",
       "        <td>Antigua and Barbuda</td>\n",
       "    </tr>\n",
       "    <tr>\n",
       "        <td>3</td>\n",
       "        <td>Abu Dhabi</td>\n",
       "        <td>942000</td>\n",
       "        <td>1</td>\n",
       "        <td>184</td>\n",
       "        <td>United Arab Emirates</td>\n",
       "    </tr>\n",
       "    <tr>\n",
       "        <td>4</td>\n",
       "        <td>Dubai</td>\n",
       "        <td>1978000</td>\n",
       "        <td>0</td>\n",
       "        <td>184</td>\n",
       "        <td>United Arab Emirates</td>\n",
       "    </tr>\n",
       "    <tr>\n",
       "        <td>5</td>\n",
       "        <td>Sharjah</td>\n",
       "        <td>983000</td>\n",
       "        <td>0</td>\n",
       "        <td>184</td>\n",
       "        <td>United Arab Emirates</td>\n",
       "    </tr>\n",
       "</table>"
      ],
      "text/plain": [
       "[(1, 'Oranjestad', 37000, 1, '216', 'Aruba'),\n",
       " (2, \"Saint John'S\", 27000, 1, '6', 'Antigua and Barbuda'),\n",
       " (3, 'Abu Dhabi', 942000, 1, '184', 'United Arab Emirates'),\n",
       " (4, 'Dubai', 1978000, 0, '184', 'United Arab Emirates'),\n",
       " (5, 'Sharjah', 983000, 0, '184', 'United Arab Emirates')]"
      ]
     },
     "execution_count": 10,
     "metadata": {},
     "output_type": "execute_result"
    }
   ],
   "source": [
    "%%sql\n",
    "\n",
    "SELECT c.*,\n",
    "       f.name AS country_name\n",
    "FROM cities c INNER JOIN facts f ON f.id = c.facts_id\n",
    "LIMIT 5"
   ]
  },
  {
   "cell_type": "markdown",
   "metadata": {},
   "source": [
    "## Practicing inner joins\n",
    "\n",
    "Let's practice writing a query to answer a question from our database using an inner join. Say we want to produce a table of countries and their capital cities from our database using what we've learned so far. Our first step is to think about what columns we'll need in our final query. We'll need:\n",
    "\n",
    "- The name column from facts\n",
    "- The name column from cities\n",
    "\n",
    "Given that we've identified that we need data from two tables, we need to think about how to join them. The schema diagram from earlier indicated that there is only one column in each table that links them together, so we can use an inner join with those columns to join the data.\n",
    "\n",
    "So far, thinking through our question we can already write most of our query:\n",
    "\n",
    "```\n",
    "SELECT f.name, c.name FROM cities c\n",
    "INNER JOIN facts f ON f.id = c.facts_id\n",
    "```\n",
    "\n",
    "The last part of our process is to make sure we have the correct rows. From the previous two screens we know that a query like this will return all rows from cities that have a corresponding match from facts in the facts_id column. We're only interested in the capital cities from the cities table, so we'll need to use a WHERE clause on the capital column, which has a value of 1 if the city is a capital, and 0 if it isn't:\n",
    "\n",
    "```\n",
    "WHERE c.capital = 1\n",
    "```\n",
    "\n",
    "We can now put this all together to write a query that answers our question."
   ]
  },
  {
   "cell_type": "code",
   "execution_count": 12,
   "metadata": {},
   "outputs": [
    {
     "name": "stdout",
     "output_type": "stream",
     "text": [
      " * sqlite:///factbook.db\n",
      "Done.\n"
     ]
    },
    {
     "data": {
      "text/html": [
       "<table>\n",
       "    <tr>\n",
       "        <th>country</th>\n",
       "        <th>capital_city</th>\n",
       "    </tr>\n",
       "    <tr>\n",
       "        <td>Aruba</td>\n",
       "        <td>Oranjestad</td>\n",
       "    </tr>\n",
       "    <tr>\n",
       "        <td>Antigua and Barbuda</td>\n",
       "        <td>Saint John&#x27;S</td>\n",
       "    </tr>\n",
       "    <tr>\n",
       "        <td>United Arab Emirates</td>\n",
       "        <td>Abu Dhabi</td>\n",
       "    </tr>\n",
       "    <tr>\n",
       "        <td>Afghanistan</td>\n",
       "        <td>Kabul</td>\n",
       "    </tr>\n",
       "    <tr>\n",
       "        <td>Algeria</td>\n",
       "        <td>Algiers</td>\n",
       "    </tr>\n",
       "</table>"
      ],
      "text/plain": [
       "[('Aruba', 'Oranjestad'),\n",
       " ('Antigua and Barbuda', \"Saint John'S\"),\n",
       " ('United Arab Emirates', 'Abu Dhabi'),\n",
       " ('Afghanistan', 'Kabul'),\n",
       " ('Algeria', 'Algiers')]"
      ]
     },
     "execution_count": 12,
     "metadata": {},
     "output_type": "execute_result"
    }
   ],
   "source": [
    "%%sql\n",
    "\n",
    "SELECT f.name AS country,\n",
    "       c.name AS capital_city\n",
    "    FROM facts f INNER JOIN cities c ON f.id = c.facts_id\n",
    "    WHERE c.capital = 1\n",
    "    LIMIT 5"
   ]
  },
  {
   "cell_type": "markdown",
   "metadata": {},
   "source": [
    "## Left joins\n",
    "\n",
    "As we mentioned earlier, an inner join will not include any rows where there is not a mutual match from both tables. This means there could be information we are not seeing in our query where rows don't match.\n",
    "\n",
    "We can use some SQL queries to explore this:"
   ]
  },
  {
   "cell_type": "code",
   "execution_count": 13,
   "metadata": {},
   "outputs": [
    {
     "name": "stdout",
     "output_type": "stream",
     "text": [
      " * sqlite:///factbook.db\n",
      "Done.\n"
     ]
    },
    {
     "data": {
      "text/html": [
       "<table>\n",
       "    <tr>\n",
       "        <th>COUNT(DISTINCT(name))</th>\n",
       "    </tr>\n",
       "    <tr>\n",
       "        <td>261</td>\n",
       "    </tr>\n",
       "</table>"
      ],
      "text/plain": [
       "[(261,)]"
      ]
     },
     "execution_count": 13,
     "metadata": {},
     "output_type": "execute_result"
    }
   ],
   "source": [
    "%%sql\n",
    "\n",
    "SELECT COUNT(DISTINCT(name)) FROM facts"
   ]
  },
  {
   "cell_type": "code",
   "execution_count": 14,
   "metadata": {},
   "outputs": [
    {
     "name": "stdout",
     "output_type": "stream",
     "text": [
      " * sqlite:///factbook.db\n",
      "Done.\n"
     ]
    },
    {
     "data": {
      "text/html": [
       "<table>\n",
       "    <tr>\n",
       "        <th>COUNT(DISTINCT(facts_id))</th>\n",
       "    </tr>\n",
       "    <tr>\n",
       "        <td>210</td>\n",
       "    </tr>\n",
       "</table>"
      ],
      "text/plain": [
       "[(210,)]"
      ]
     },
     "execution_count": 14,
     "metadata": {},
     "output_type": "execute_result"
    }
   ],
   "source": [
    "%%sql\n",
    "\n",
    "SELECT COUNT(DISTINCT(facts_id)) FROM cities;"
   ]
  },
  {
   "attachments": {
    "venn2.png": {
     "image/png": "[encoded data removed]"
    }
   },
   "cell_type": "markdown",
   "metadata": {},
   "source": [
    "By running these two queries, we can see that there are some countries in the facts table that don't have corresponding cities in the cities table, which indicates we may have some incomplete data.\n",
    "\n",
    "Let's look at how we can create a query to explore the missing data using a new type of join— the **left join.**\n",
    "\n",
    "A left join includes all the rows that an inner join will select, plus any rows from the first (or left) table that don't have a match in the second table. We can see this represented as a Venn diagram.\n",
    "\n",
    "![venn2.png](attachment:venn2.png)\n",
    "\n",
    "Let's look at an example by replacing INNER JOIN with LEFT JOIN from the first query we wrote, and looking at the same selection of rows from our earlier diagram"
   ]
  },
  {
   "cell_type": "code",
   "execution_count": 16,
   "metadata": {},
   "outputs": [
    {
     "name": "stdout",
     "output_type": "stream",
     "text": [
      " * sqlite:///factbook.db\n",
      "Done.\n"
     ]
    },
    {
     "data": {
      "text/html": [
       "<table>\n",
       "    <tr>\n",
       "        <th>id</th>\n",
       "        <th>code</th>\n",
       "        <th>name</th>\n",
       "        <th>area</th>\n",
       "        <th>area_land</th>\n",
       "        <th>area_water</th>\n",
       "        <th>population</th>\n",
       "        <th>population_growth</th>\n",
       "        <th>birth_rate</th>\n",
       "        <th>death_rate</th>\n",
       "        <th>migration_rate</th>\n",
       "        <th>id_1</th>\n",
       "        <th>name_1</th>\n",
       "        <th>population_1</th>\n",
       "        <th>capital</th>\n",
       "        <th>facts_id</th>\n",
       "    </tr>\n",
       "    <tr>\n",
       "        <td>1</td>\n",
       "        <td>af</td>\n",
       "        <td>Afghanistan</td>\n",
       "        <td>652230</td>\n",
       "        <td>652230</td>\n",
       "        <td>0</td>\n",
       "        <td>32564342</td>\n",
       "        <td>2.32</td>\n",
       "        <td>38.57</td>\n",
       "        <td>13.89</td>\n",
       "        <td>1.51</td>\n",
       "        <td>6</td>\n",
       "        <td>Kabul</td>\n",
       "        <td>3097000</td>\n",
       "        <td>1</td>\n",
       "        <td>1</td>\n",
       "    </tr>\n",
       "    <tr>\n",
       "        <td>2</td>\n",
       "        <td>al</td>\n",
       "        <td>Albania</td>\n",
       "        <td>28748</td>\n",
       "        <td>27398</td>\n",
       "        <td>1350</td>\n",
       "        <td>3029278</td>\n",
       "        <td>0.3</td>\n",
       "        <td>12.92</td>\n",
       "        <td>6.58</td>\n",
       "        <td>3.3</td>\n",
       "        <td>10</td>\n",
       "        <td>Tirana</td>\n",
       "        <td>419000</td>\n",
       "        <td>1</td>\n",
       "        <td>2</td>\n",
       "    </tr>\n",
       "    <tr>\n",
       "        <td>3</td>\n",
       "        <td>ag</td>\n",
       "        <td>Algeria</td>\n",
       "        <td>2381741</td>\n",
       "        <td>2381741</td>\n",
       "        <td>0</td>\n",
       "        <td>39542166</td>\n",
       "        <td>1.84</td>\n",
       "        <td>23.67</td>\n",
       "        <td>4.31</td>\n",
       "        <td>0.92</td>\n",
       "        <td>7</td>\n",
       "        <td>Algiers</td>\n",
       "        <td>2916000</td>\n",
       "        <td>1</td>\n",
       "        <td>3</td>\n",
       "    </tr>\n",
       "</table>"
      ],
      "text/plain": [
       "[(1, 'af', 'Afghanistan', 652230, 652230, 0, 32564342, 2.32, 38.57, 13.89, 1.51, 6, 'Kabul', 3097000, 1, '1'),\n",
       " (2, 'al', 'Albania', 28748, 27398, 1350, 3029278, 0.3, 12.92, 6.58, 3.3, 10, 'Tirana', 419000, 1, '2'),\n",
       " (3, 'ag', 'Algeria', 2381741, 2381741, 0, 39542166, 1.84, 23.67, 4.31, 0.92, 7, 'Algiers', 2916000, 1, '3')]"
      ]
     },
     "execution_count": 16,
     "metadata": {},
     "output_type": "execute_result"
    }
   ],
   "source": [
    "%%sql \n",
    "\n",
    "SELECT * FROM facts\n",
    "LEFT JOIN cities ON cities.facts_id = facts.id\n",
    "LIMIT 3"
   ]
  },
  {
   "attachments": {
    "LEFT.png": {
     "image/png": "[encoded data removed]"
    }
   },
   "cell_type": "markdown",
   "metadata": {},
   "source": [
    "![LEFT.png](attachment:LEFT.png)\n",
    "\n",
    "Here we can see that for the rows where facts.id doesn't match any values in cities.facts_id (237, 238, 240, and 244), the rows are still included in the results. When this happens, all of the columns from the cities table are populated with null values.\n",
    "\n",
    "We can use these null values to filter our results to just the countries that don't exist in cities with a WHERE clause. **When making a comparison to null in SQL, we use the IS keyword, rather than the = sign**. If we want to select rows where a column is null we can write:\n",
    "\n",
    "```\n",
    "WHERE column_name IS NULL\n",
    "```\n",
    "\n",
    "If we want to select rows where a column name isn't null, we use:\n",
    "```\n",
    "WHERE column_name IS NOT NULL\n",
    "```\n",
    "\n",
    "Let's use a left join to explore the countries that don't exist in the cities table."
   ]
  },
  {
   "cell_type": "markdown",
   "metadata": {},
   "source": [
    "*Write a query that returns the countries that don't exist in cities:*\n",
    "- *Your query should return two columns:*\n",
    "    - *The country names, with the alias country.*\n",
    "    - *The country population.*\n",
    "- *Use a LEFT JOIN to join cities to facts.*\n",
    "- *Include only the countries from facts that don't have a corresponding value in cities.*"
   ]
  },
  {
   "cell_type": "code",
   "execution_count": 20,
   "metadata": {},
   "outputs": [
    {
     "name": "stdout",
     "output_type": "stream",
     "text": [
      " * sqlite:///factbook.db\n",
      "Done.\n"
     ]
    },
    {
     "data": {
      "text/html": [
       "<table>\n",
       "    <tr>\n",
       "        <th>country</th>\n",
       "        <th>population</th>\n",
       "    </tr>\n",
       "    <tr>\n",
       "        <td>Kosovo</td>\n",
       "        <td>1870981</td>\n",
       "    </tr>\n",
       "    <tr>\n",
       "        <td>Monaco</td>\n",
       "        <td>30535</td>\n",
       "    </tr>\n",
       "    <tr>\n",
       "        <td>Nauru</td>\n",
       "        <td>9540</td>\n",
       "    </tr>\n",
       "    <tr>\n",
       "        <td>San Marino</td>\n",
       "        <td>33020</td>\n",
       "    </tr>\n",
       "    <tr>\n",
       "        <td>Singapore</td>\n",
       "        <td>5674472</td>\n",
       "    </tr>\n",
       "</table>"
      ],
      "text/plain": [
       "[('Kosovo', 1870981),\n",
       " ('Monaco', 30535),\n",
       " ('Nauru', 9540),\n",
       " ('San Marino', 33020),\n",
       " ('Singapore', 5674472)]"
      ]
     },
     "execution_count": 20,
     "metadata": {},
     "output_type": "execute_result"
    }
   ],
   "source": [
    "%%sql\n",
    "\n",
    "SELECT f.name AS country,\n",
    "       f.population AS population\n",
    "    FROM facts f LEFT JOIN cities c ON f.id = c.facts_id\n",
    "    WHERE c.facts_id IS NULL\n",
    "    LIMIT 5;"
   ]
  },
  {
   "attachments": {
    "venn3.png": {
     "image/png": "[encoded data removed]"
    }
   },
   "cell_type": "markdown",
   "metadata": {},
   "source": [
    "## Right joins and outer joins\n",
    "\n",
    "There are two less-common join types SQLite does not support that you should be aware of. The first is a right join. A right join, as the name indicates, is exactly the opposite of a left join. While the left join includes all rows in the table before the JOIN clause, the right join includes all rows in the new table in the JOIN clause. We can see a right join in the Venn diagram below:\n",
    "\n",
    "![venn3.png](attachment:venn3.png)\n",
    "\n",
    "The following two queries, one using a left join and one using a right join, produce identical results.\n",
    "\n",
    "```\n",
    "SELECT f.name country, c.name city\n",
    "FROM facts f\n",
    "LEFT JOIN cities c ON c.facts_id = f.id\n",
    "LIMIT 5;\n",
    "```\n",
    "\n",
    "```` \n",
    "SELECT f.name country, c.name city\n",
    "FROM cities c\n",
    "RIGHT JOIN facts f ON f.id = c.facts_id\n",
    "LIMIT 5;\n",
    "```` "
   ]
  },
  {
   "attachments": {
    "venn4.png": {
     "image/png": "[encoded data removed]"
    }
   },
   "cell_type": "markdown",
   "metadata": {},
   "source": [
    "The main reason a right join would be used is when you are joining more than two tables. In these cases, using a right join is preferable because it can avoid restructuring your whole query to join one table. Outside of this, right joins are used reasonably rarely, so for simple joins it's better to use a left join than a right as it will be easier for your query to be read and understood by others.\n",
    "\n",
    "The other join type not supported by SQLite is a full outer join. A full outer join will include all rows from the tables on both sides of the join. We can see a full outer join in the Venn diagram below:\n",
    "\n",
    "![venn4.png](attachment:venn4.png)\n",
    "\n",
    "Like right joins, full outer joins are reasonably uncommon, and similar results can be achieved using a union clause (which we will teach in the next mission). The standard SQL syntax for a full outer join is:\n",
    "\n",
    "```\n",
    "SELECT f.name country, c.name city\n",
    "FROM cities c\n",
    "FULL OUTER JOIN facts f ON f.id = c.facts_id\n",
    "LIMIT 5;\n",
    "```"
   ]
  },
  {
   "attachments": {
    "venns.png": {
     "image/png": "[encoded data removed]"
    }
   },
   "cell_type": "markdown",
   "metadata": {},
   "source": [
    "When joining cities and facts with a full outer join, the result will be the same as our left and right joins above, because there are no values in cities.facts_id that don't exist in facts.id.\n",
    "\n",
    "Let's look at the Venn diagrams of each join type side by side, which should help you compare the differences of each of the four joins we've discussed so far.\n",
    "\n",
    "![venns.png](attachment:venns.png)"
   ]
  },
  {
   "cell_type": "markdown",
   "metadata": {},
   "source": [
    "## Finding the most populous capital cities\n",
    "\n",
    "Previously, we've used column names when specifying order for our query results, like so:\n",
    "\n",
    "```\n",
    "SELECT name, migration_rate FROM FACTS\n",
    "ORDER BY migration_rate desc;\n",
    "```\n",
    "\n",
    "There is a handy shortcut we can use in our queries which lets us skip the column names, and instead use the order in which the columns appear in the SELECT clause. In this instance, migration_rate is the second column in our SELECT clause so we can just use 2 instead of the column name:\n",
    "\n",
    "```\n",
    "SELECT name, migration_rate FROM FACTS\n",
    "ORDER BY 2 desc;\n",
    "```\n",
    "\n",
    "You can use this shortcut in either the ORDER BY or GROUP BY clauses. Be mindful that you want to ensure your queries are still readable, so typing the full column name may be better for more complex queries.\n",
    "\n",
    "Let's use what we've learned to produce **a list of the top 10 capital cities by population**. Remember that capital is a boolean column containing 1 or 0, depending on whether a city is a capital or not. We won't specify which join type you should use - you will need to think about what results you require and select an appropriate join type.\n",
    "\n",
    "*Write a query that returns the 10 capital cities with the highest population ranked from biggest to smallest population.*\n",
    "\n",
    "- *You should include the following columns, in order:*\n",
    "    - *capital_city, the name of the city.*\n",
    "    - *country, the name of the country the city is from.*\n",
    "    - *population, the population of the city.*"
   ]
  },
  {
   "cell_type": "code",
   "execution_count": 26,
   "metadata": {},
   "outputs": [
    {
     "name": "stdout",
     "output_type": "stream",
     "text": [
      " * sqlite:///factbook.db\n",
      "Done.\n"
     ]
    },
    {
     "data": {
      "text/html": [
       "<table>\n",
       "    <tr>\n",
       "        <th>capital_city</th>\n",
       "        <th>country</th>\n",
       "        <th>poulation</th>\n",
       "    </tr>\n",
       "    <tr>\n",
       "        <td>Tokyo</td>\n",
       "        <td>Japan</td>\n",
       "        <td>37217000</td>\n",
       "    </tr>\n",
       "    <tr>\n",
       "        <td>New Delhi</td>\n",
       "        <td>India</td>\n",
       "        <td>22654000</td>\n",
       "    </tr>\n",
       "    <tr>\n",
       "        <td>Mexico City</td>\n",
       "        <td>Mexico</td>\n",
       "        <td>20446000</td>\n",
       "    </tr>\n",
       "    <tr>\n",
       "        <td>Beijing</td>\n",
       "        <td>China</td>\n",
       "        <td>15594000</td>\n",
       "    </tr>\n",
       "    <tr>\n",
       "        <td>Dhaka</td>\n",
       "        <td>Bangladesh</td>\n",
       "        <td>15391000</td>\n",
       "    </tr>\n",
       "    <tr>\n",
       "        <td>Buenos Aires</td>\n",
       "        <td>Argentina</td>\n",
       "        <td>13528000</td>\n",
       "    </tr>\n",
       "    <tr>\n",
       "        <td>Manila</td>\n",
       "        <td>Philippines</td>\n",
       "        <td>11862000</td>\n",
       "    </tr>\n",
       "    <tr>\n",
       "        <td>Moscow</td>\n",
       "        <td>Russia</td>\n",
       "        <td>11621000</td>\n",
       "    </tr>\n",
       "    <tr>\n",
       "        <td>Cairo</td>\n",
       "        <td>Egypt</td>\n",
       "        <td>11169000</td>\n",
       "    </tr>\n",
       "    <tr>\n",
       "        <td>Jakarta</td>\n",
       "        <td>Indonesia</td>\n",
       "        <td>9769000</td>\n",
       "    </tr>\n",
       "</table>"
      ],
      "text/plain": [
       "[('Tokyo', 'Japan', 37217000),\n",
       " ('New Delhi', 'India', 22654000),\n",
       " ('Mexico City', 'Mexico', 20446000),\n",
       " ('Beijing', 'China', 15594000),\n",
       " ('Dhaka', 'Bangladesh', 15391000),\n",
       " ('Buenos Aires', 'Argentina', 13528000),\n",
       " ('Manila', 'Philippines', 11862000),\n",
       " ('Moscow', 'Russia', 11621000),\n",
       " ('Cairo', 'Egypt', 11169000),\n",
       " ('Jakarta', 'Indonesia', 9769000)]"
      ]
     },
     "execution_count": 26,
     "metadata": {},
     "output_type": "execute_result"
    }
   ],
   "source": [
    "%%sql\n",
    "\n",
    "SELECT c.name AS capital_city,\n",
    "       f.name AS country,\n",
    "       c.population AS poulation\n",
    "    FROM facts f INNER JOIN cities c ON f.id = c.facts_id\n",
    "    WHERE c.capital = 1\n",
    "    ORDER BY 3 DESC\n",
    "    LIMIT 10"
   ]
  },
  {
   "attachments": {
    "prev.png": {
     "image/png": "[encoded data removed]"
    }
   },
   "cell_type": "markdown",
   "metadata": {},
   "source": [
    "## Combining joins with Subqueries\n",
    "\n",
    "As we learned in the SQL fundamentals course, subqueries can be used to substitute parts of queries, allowing us to find the answers to more complex questions. We can also join to the result of a subquery, just like we could a table.\n",
    "\n",
    "Here's an example of a using a join and a subquery to produce a table of countries and their capital cities, like we did earlier in the mission.\n",
    "\n",
    "![prev.png](attachment:prev.png)\n",
    "\n",
    "Reading subqueries can be overwhelming at first, so we'll break down what happens in this example in several steps. The important thing to remember is that the result of any subquery is always calculated first, so we read from the inside out.\n",
    "\n",
    "- The subquery, in the red box, is calculated first. This simple query selects all columns from cities, filtering rows that are marked as capital cities by having a value for capital of 1.\n",
    "- The INNER JOIN joins the subquery result, aliased as c, to the facts table based on the ON clause.\n",
    "- Two columns are selected from the results of the join:\n",
    "    - f.name, aliased as country.\n",
    "    - c.name, aliased as capital_city.\n",
    "- The results are limited to the first 10 rows.\n",
    "\n",
    "Below is the output of this query:"
   ]
  },
  {
   "cell_type": "code",
   "execution_count": 27,
   "metadata": {},
   "outputs": [
    {
     "name": "stdout",
     "output_type": "stream",
     "text": [
      " * sqlite:///factbook.db\n",
      "Done.\n"
     ]
    },
    {
     "data": {
      "text/html": [
       "<table>\n",
       "    <tr>\n",
       "        <th>country</th>\n",
       "        <th>capital_city</th>\n",
       "    </tr>\n",
       "    <tr>\n",
       "        <td>Aruba</td>\n",
       "        <td>Oranjestad</td>\n",
       "    </tr>\n",
       "    <tr>\n",
       "        <td>Antigua and Barbuda</td>\n",
       "        <td>Saint John&#x27;S</td>\n",
       "    </tr>\n",
       "    <tr>\n",
       "        <td>United Arab Emirates</td>\n",
       "        <td>Abu Dhabi</td>\n",
       "    </tr>\n",
       "    <tr>\n",
       "        <td>Afghanistan</td>\n",
       "        <td>Kabul</td>\n",
       "    </tr>\n",
       "    <tr>\n",
       "        <td>Algeria</td>\n",
       "        <td>Algiers</td>\n",
       "    </tr>\n",
       "    <tr>\n",
       "        <td>Azerbaijan</td>\n",
       "        <td>Baku</td>\n",
       "    </tr>\n",
       "    <tr>\n",
       "        <td>Albania</td>\n",
       "        <td>Tirana</td>\n",
       "    </tr>\n",
       "    <tr>\n",
       "        <td>Armenia</td>\n",
       "        <td>Yerevan</td>\n",
       "    </tr>\n",
       "    <tr>\n",
       "        <td>Andorra</td>\n",
       "        <td>Andorra La Vella</td>\n",
       "    </tr>\n",
       "    <tr>\n",
       "        <td>Angola</td>\n",
       "        <td>Luanda</td>\n",
       "    </tr>\n",
       "</table>"
      ],
      "text/plain": [
       "[('Aruba', 'Oranjestad'),\n",
       " ('Antigua and Barbuda', \"Saint John'S\"),\n",
       " ('United Arab Emirates', 'Abu Dhabi'),\n",
       " ('Afghanistan', 'Kabul'),\n",
       " ('Algeria', 'Algiers'),\n",
       " ('Azerbaijan', 'Baku'),\n",
       " ('Albania', 'Tirana'),\n",
       " ('Armenia', 'Yerevan'),\n",
       " ('Andorra', 'Andorra La Vella'),\n",
       " ('Angola', 'Luanda')]"
      ]
     },
     "execution_count": 27,
     "metadata": {},
     "output_type": "execute_result"
    }
   ],
   "source": [
    "%%sql\n",
    "\n",
    "SELECT f.name AS country,\n",
    "       c.name AS capital_city\n",
    "    FROM facts f INNER JOIN (SELECT name,\n",
    "                                    facts_id\n",
    "                                FROM cities\n",
    "                                WHERE capital = 1) c\n",
    "        ON f.id = c.facts_id\n",
    "    LIMIT 10"
   ]
  },
  {
   "cell_type": "markdown",
   "metadata": {},
   "source": [
    "Using this example as a model, we'll write a similar query to find the **capital cities with populations of over 10 million.**\n",
    "\n",
    "*Using a join and a subquery, write a query that returns capital cities with populations of over 10 million ordered from largest to smallest. Include the following columns:*\n",
    "\n",
    "- *capital_city - the name of the city.*\n",
    "- *country - the name of the country the city is the capital of.*\n",
    "- *population - the population of the city.*"
   ]
  },
  {
   "cell_type": "code",
   "execution_count": 29,
   "metadata": {},
   "outputs": [
    {
     "name": "stdout",
     "output_type": "stream",
     "text": [
      " * sqlite:///factbook.db\n",
      "Done.\n"
     ]
    },
    {
     "data": {
      "text/html": [
       "<table>\n",
       "    <tr>\n",
       "        <th>country</th>\n",
       "        <th>capital_city</th>\n",
       "        <th>population</th>\n",
       "    </tr>\n",
       "    <tr>\n",
       "        <td>Japan</td>\n",
       "        <td>Tokyo</td>\n",
       "        <td>37217000</td>\n",
       "    </tr>\n",
       "    <tr>\n",
       "        <td>India</td>\n",
       "        <td>New Delhi</td>\n",
       "        <td>22654000</td>\n",
       "    </tr>\n",
       "    <tr>\n",
       "        <td>Mexico</td>\n",
       "        <td>Mexico City</td>\n",
       "        <td>20446000</td>\n",
       "    </tr>\n",
       "    <tr>\n",
       "        <td>China</td>\n",
       "        <td>Beijing</td>\n",
       "        <td>15594000</td>\n",
       "    </tr>\n",
       "    <tr>\n",
       "        <td>Bangladesh</td>\n",
       "        <td>Dhaka</td>\n",
       "        <td>15391000</td>\n",
       "    </tr>\n",
       "    <tr>\n",
       "        <td>Argentina</td>\n",
       "        <td>Buenos Aires</td>\n",
       "        <td>13528000</td>\n",
       "    </tr>\n",
       "    <tr>\n",
       "        <td>Philippines</td>\n",
       "        <td>Manila</td>\n",
       "        <td>11862000</td>\n",
       "    </tr>\n",
       "    <tr>\n",
       "        <td>Russia</td>\n",
       "        <td>Moscow</td>\n",
       "        <td>11621000</td>\n",
       "    </tr>\n",
       "    <tr>\n",
       "        <td>Egypt</td>\n",
       "        <td>Cairo</td>\n",
       "        <td>11169000</td>\n",
       "    </tr>\n",
       "</table>"
      ],
      "text/plain": [
       "[('Japan', 'Tokyo', 37217000),\n",
       " ('India', 'New Delhi', 22654000),\n",
       " ('Mexico', 'Mexico City', 20446000),\n",
       " ('China', 'Beijing', 15594000),\n",
       " ('Bangladesh', 'Dhaka', 15391000),\n",
       " ('Argentina', 'Buenos Aires', 13528000),\n",
       " ('Philippines', 'Manila', 11862000),\n",
       " ('Russia', 'Moscow', 11621000),\n",
       " ('Egypt', 'Cairo', 11169000)]"
      ]
     },
     "execution_count": 29,
     "metadata": {},
     "output_type": "execute_result"
    }
   ],
   "source": [
    "%%sql \n",
    "\n",
    "SELECT f.name AS country,\n",
    "       c.name AS capital_city,\n",
    "       c.population AS population\n",
    "    FROM facts f INNER JOIN (SELECT *\n",
    "                                FROM cities\n",
    "                                WHERE capital = 1) c\n",
    "        ON f.id = c.facts_id\n",
    "    WHERE C.population > 10000000\n",
    "    ORDER BY 3 DESC\n",
    "    LIMIT 10"
   ]
  },
  {
   "cell_type": "markdown",
   "metadata": {},
   "source": [
    "## Challenge\n",
    "\n",
    "### Complex query with joins and subqueries\n",
    "\n",
    "\n",
    "Let's take everything we've learned before and use it to write a more complex query.\n",
    "\n",
    "When you're writing complex queries with joins and subqueries, it helps to follow this **process**:\n",
    "\n",
    "- Think about what data you need in your final output\n",
    "- Work out which tables you'll need to join, and whether you will need to join to a subquery.\n",
    "    - If you need to join to a subquery, write the subquery first.\n",
    "- Then start writing your SELECT clause, followed by the join and any other clauses you will need.\n",
    "- Don't be afraid to write your query in steps, running it as you go— for instance you can run your subquery as a 'stand alone' query first to make sure it looks like you want before writing the outer query.\n",
    "\n",
    "\n",
    "We will be writing a query to find the **countries where the urban center (city) population is more than half of the country's total population**. Our final results will look like this. For expected results, we rounded to six decimal places; however, when running your query, don't worry about rounding the urban_pct column.\n",
    "\n",
    "To help you out, the query you will write will include:\n",
    "\n",
    "- A join to a subquery.\n",
    "- A subquery to make a calculation.\n",
    "- An aggregate function.\n",
    "- A WHERE clause.\n",
    "- A CAST expression.\n",
    "\n",
    "Remember that there are multiple ways to write this query, and the list above is based on the approach we took in our solution."
   ]
  },
  {
   "cell_type": "markdown",
   "metadata": {},
   "source": [
    "*Write a query that generates output as shown above. The query should include:*\n",
    "\n",
    "- The following columns, in order:\n",
    "    - country, the name of the country.\n",
    "    - urban_pop, the sum of the population in major urban areas belonging to that country.\n",
    "    - total_pop, the total population of the country.\n",
    "    - urban_pct, the percentage of the population within urban areas, calculated by dividing urban_pop by total_pop.\n",
    "- Only countries that have an urban_pct greater than 0.5.\n",
    "- Rows should be sorted by urban_pct in ascending order."
   ]
  },
  {
   "cell_type": "markdown",
   "metadata": {},
   "source": [
    "**1) Finding the urban population by country**"
   ]
  },
  {
   "cell_type": "code",
   "execution_count": 35,
   "metadata": {},
   "outputs": [
    {
     "name": "stdout",
     "output_type": "stream",
     "text": [
      " * sqlite:///factbook.db\n",
      "Done.\n"
     ]
    },
    {
     "data": {
      "text/html": [
       "<table>\n",
       "    <tr>\n",
       "        <th>u_pop</th>\n",
       "        <th>facts_id</th>\n",
       "    </tr>\n",
       "    <tr>\n",
       "        <td>3097000</td>\n",
       "        <td>1</td>\n",
       "    </tr>\n",
       "    <tr>\n",
       "        <td>172000</td>\n",
       "        <td>10</td>\n",
       "    </tr>\n",
       "    <tr>\n",
       "        <td>1127000</td>\n",
       "        <td>100</td>\n",
       "    </tr>\n",
       "    <tr>\n",
       "        <td>5000</td>\n",
       "        <td>101</td>\n",
       "    </tr>\n",
       "    <tr>\n",
       "        <td>546000</td>\n",
       "        <td>102</td>\n",
       "    </tr>\n",
       "</table>"
      ],
      "text/plain": [
       "[(3097000, '1'),\n",
       " (172000, '10'),\n",
       " (1127000, '100'),\n",
       " (5000, '101'),\n",
       " (546000, '102')]"
      ]
     },
     "execution_count": 35,
     "metadata": {},
     "output_type": "execute_result"
    }
   ],
   "source": [
    "%%sql\n",
    "\n",
    "SELECT SUM(population) AS u_pop,\n",
    "       facts_id\n",
    "  FROM cities\n",
    "  GROUP BY facts_id\n",
    "  LIMIT 5;"
   ]
  },
  {
   "cell_type": "markdown",
   "metadata": {},
   "source": [
    "**2) Joining tables** "
   ]
  },
  {
   "cell_type": "code",
   "execution_count": 43,
   "metadata": {},
   "outputs": [
    {
     "name": "stdout",
     "output_type": "stream",
     "text": [
      " * sqlite:///factbook.db\n",
      "Done.\n"
     ]
    },
    {
     "data": {
      "text/html": [
       "<table>\n",
       "    <tr>\n",
       "        <th>country</th>\n",
       "        <th>urban_pop</th>\n",
       "        <th>total_pop</th>\n",
       "        <th>urban_pct</th>\n",
       "    </tr>\n",
       "    <tr>\n",
       "        <td>Uruguay</td>\n",
       "        <td>1672000</td>\n",
       "        <td>3341893</td>\n",
       "        <td>0.500315</td>\n",
       "    </tr>\n",
       "    <tr>\n",
       "        <td>Congo, Republic of the</td>\n",
       "        <td>2445000</td>\n",
       "        <td>4755097</td>\n",
       "        <td>0.514185</td>\n",
       "    </tr>\n",
       "    <tr>\n",
       "        <td>Brunei</td>\n",
       "        <td>241000</td>\n",
       "        <td>429646</td>\n",
       "        <td>0.560927</td>\n",
       "    </tr>\n",
       "    <tr>\n",
       "        <td>New Caledonia</td>\n",
       "        <td>157000</td>\n",
       "        <td>271615</td>\n",
       "        <td>0.578024</td>\n",
       "    </tr>\n",
       "    <tr>\n",
       "        <td>Virgin Islands</td>\n",
       "        <td>60000</td>\n",
       "        <td>103574</td>\n",
       "        <td>0.579296</td>\n",
       "    </tr>\n",
       "    <tr>\n",
       "        <td>Falkland Islands (Islas Malvinas)</td>\n",
       "        <td>2000</td>\n",
       "        <td>3361</td>\n",
       "        <td>0.595061</td>\n",
       "    </tr>\n",
       "    <tr>\n",
       "        <td>Djibouti</td>\n",
       "        <td>496000</td>\n",
       "        <td>828324</td>\n",
       "        <td>0.5988</td>\n",
       "    </tr>\n",
       "    <tr>\n",
       "        <td>Australia</td>\n",
       "        <td>13789000</td>\n",
       "        <td>22751014</td>\n",
       "        <td>0.606083</td>\n",
       "    </tr>\n",
       "    <tr>\n",
       "        <td>Iceland</td>\n",
       "        <td>206000</td>\n",
       "        <td>331918</td>\n",
       "        <td>0.620635</td>\n",
       "    </tr>\n",
       "    <tr>\n",
       "        <td>Israel</td>\n",
       "        <td>5226000</td>\n",
       "        <td>8049314</td>\n",
       "        <td>0.649248</td>\n",
       "    </tr>\n",
       "    <tr>\n",
       "        <td>United Arab Emirates</td>\n",
       "        <td>3903000</td>\n",
       "        <td>5779760</td>\n",
       "        <td>0.675288</td>\n",
       "    </tr>\n",
       "    <tr>\n",
       "        <td>Puerto Rico</td>\n",
       "        <td>2475000</td>\n",
       "        <td>3598357</td>\n",
       "        <td>0.687814</td>\n",
       "    </tr>\n",
       "    <tr>\n",
       "        <td>Bahamas, The</td>\n",
       "        <td>254000</td>\n",
       "        <td>324597</td>\n",
       "        <td>0.782509</td>\n",
       "    </tr>\n",
       "    <tr>\n",
       "        <td>Kuwait</td>\n",
       "        <td>2406000</td>\n",
       "        <td>2788534</td>\n",
       "        <td>0.862819</td>\n",
       "    </tr>\n",
       "    <tr>\n",
       "        <td>Saint Pierre and Miquelon</td>\n",
       "        <td>5000</td>\n",
       "        <td>5657</td>\n",
       "        <td>0.883861</td>\n",
       "    </tr>\n",
       "    <tr>\n",
       "        <td>Guam</td>\n",
       "        <td>169000</td>\n",
       "        <td>161785</td>\n",
       "        <td>1.044596</td>\n",
       "    </tr>\n",
       "    <tr>\n",
       "        <td>Northern Mariana Islands</td>\n",
       "        <td>56000</td>\n",
       "        <td>52344</td>\n",
       "        <td>1.069846</td>\n",
       "    </tr>\n",
       "    <tr>\n",
       "        <td>American Samoa</td>\n",
       "        <td>64000</td>\n",
       "        <td>54343</td>\n",
       "        <td>1.177705</td>\n",
       "    </tr>\n",
       "</table>"
      ],
      "text/plain": [
       "[('Uruguay', 1672000, 3341893, 0.500315),\n",
       " ('Congo, Republic of the', 2445000, 4755097, 0.514185),\n",
       " ('Brunei', 241000, 429646, 0.560927),\n",
       " ('New Caledonia', 157000, 271615, 0.578024),\n",
       " ('Virgin Islands', 60000, 103574, 0.579296),\n",
       " ('Falkland Islands (Islas Malvinas)', 2000, 3361, 0.595061),\n",
       " ('Djibouti', 496000, 828324, 0.5988),\n",
       " ('Australia', 13789000, 22751014, 0.606083),\n",
       " ('Iceland', 206000, 331918, 0.620635),\n",
       " ('Israel', 5226000, 8049314, 0.649248),\n",
       " ('United Arab Emirates', 3903000, 5779760, 0.675288),\n",
       " ('Puerto Rico', 2475000, 3598357, 0.687814),\n",
       " ('Bahamas, The', 254000, 324597, 0.782509),\n",
       " ('Kuwait', 2406000, 2788534, 0.862819),\n",
       " ('Saint Pierre and Miquelon', 5000, 5657, 0.883861),\n",
       " ('Guam', 169000, 161785, 1.044596),\n",
       " ('Northern Mariana Islands', 56000, 52344, 1.069846),\n",
       " ('American Samoa', 64000, 54343, 1.177705)]"
      ]
     },
     "execution_count": 43,
     "metadata": {},
     "output_type": "execute_result"
    }
   ],
   "source": [
    "%%sql\n",
    "\n",
    "SELECT f.name AS country,\n",
    "       c.u_pop AS urban_pop,\n",
    "       f.population AS total_pop,\n",
    "       ROUND(CAST(c.u_pop AS FLOAT) / f.population , 6) AS urban_pct\n",
    "    FROM facts f LEFT JOIN (SELECT SUM(population) AS u_pop,\n",
    "                                   facts_id\n",
    "                                FROM cities\n",
    "                                GROUP BY facts_id) c ON f.id = c.facts_id\n",
    "    WHERE urban_pct > 0.5\n",
    "    ORDER BY urban_pct\n",
    "    "
   ]
  }
 ],
 "metadata": {
  "kernelspec": {
   "display_name": "Python 3",
   "language": "python",
   "name": "python3"
  },
  "language_info": {
   "codemirror_mode": {
    "name": "ipython",
    "version": 3
   },
   "file_extension": ".py",
   "mimetype": "text/x-python",
   "name": "python",
   "nbconvert_exporter": "python",
   "pygments_lexer": "ipython3",
   "version": "3.8.5"
  }
 },
 "nbformat": 4,
 "nbformat_minor": 4
}
