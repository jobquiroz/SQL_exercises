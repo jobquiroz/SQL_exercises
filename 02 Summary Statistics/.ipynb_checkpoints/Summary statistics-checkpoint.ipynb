{
 "cells": [
  {
   "attachments": {},
   "cell_type": "markdown",
   "metadata": {},
   "source": [
    "# Introduction\n",
    "\n",
    "In \"Introduction to SQL,\" we wrote queries that filtered rows and columns in a database table. Each of the queries we ran returned multiple rows of values. In this mission, we'll go over how to calculate the sum, average, minimum, or maximum of these results.\n",
    "\n",
    "We'll also learn how to calculate summary statistics on subsets of a database table by working with data on job outcomes, compiled by FiveThirtyEight.\n",
    "\n",
    "Here's how the first 5 rows of the data look:\n",
    "\n",
    "![img](img/data.png)\n",
    "\n",
    "\n",
    "### Setup"
   ]
  },
  {
   "cell_type": "code",
   "execution_count": 2,
   "metadata": {},
   "outputs": [],
   "source": [
    "%%capture\n",
    "%load_ext sql\n",
    "%sql sqlite:///jobs.db"
   ]
  },
  {
   "cell_type": "markdown",
   "metadata": {},
   "source": [
    "## A simple question\n",
    "\n",
    "Before we begin working on our questions, let's start with this: What is the lowest proportion of women on the recent_grads table?\n",
    "\n",
    "One of way of thinking about this question is that we want to \"determine the minimum value of ShareWomen\" — recall that ShareWomen gives us the proportion of women graduates. To address this question, we'll focus on the three majors with the three lowest proportion of graduates who are women:"
   ]
  },
  {
   "cell_type": "code",
   "execution_count": 3,
   "metadata": {},
   "outputs": [
    {
     "name": "stdout",
     "output_type": "stream",
     "text": [
      " * sqlite:///jobs.db\n",
      "Done.\n"
     ]
    },
    {
     "data": {
      "text/html": [
       "<table>\n",
       "    <tr>\n",
       "        <th>index</th>\n",
       "        <th>Rank</th>\n",
       "        <th>Major_code</th>\n",
       "        <th>Major</th>\n",
       "        <th>Major_category</th>\n",
       "        <th>Total</th>\n",
       "        <th>Sample_size</th>\n",
       "        <th>Men</th>\n",
       "        <th>Women</th>\n",
       "        <th>ShareWomen</th>\n",
       "        <th>Employed</th>\n",
       "        <th>Full_time</th>\n",
       "        <th>Part_time</th>\n",
       "        <th>Full_time_year_round</th>\n",
       "        <th>Unemployed</th>\n",
       "        <th>Unemployment_rate</th>\n",
       "        <th>Median</th>\n",
       "        <th>P25th</th>\n",
       "        <th>P75th</th>\n",
       "        <th>College_jobs</th>\n",
       "        <th>Non_college_jobs</th>\n",
       "        <th>Low_wage_jobs</th>\n",
       "    </tr>\n",
       "    <tr>\n",
       "        <td>65</td>\n",
       "        <td>66</td>\n",
       "        <td>2599</td>\n",
       "        <td>MISCELLANEOUS ENGINEERING TECHNOLOGIES</td>\n",
       "        <td>Engineering</td>\n",
       "        <td>8804</td>\n",
       "        <td>125</td>\n",
       "        <td>124</td>\n",
       "        <td>0</td>\n",
       "        <td>0.0</td>\n",
       "        <td>7502</td>\n",
       "        <td>7001</td>\n",
       "        <td>1240</td>\n",
       "        <td>5825</td>\n",
       "        <td>416</td>\n",
       "        <td>0.05253852</td>\n",
       "        <td>40000</td>\n",
       "        <td>30400</td>\n",
       "        <td>56000</td>\n",
       "        <td>2446</td>\n",
       "        <td>3896</td>\n",
       "        <td>386</td>\n",
       "    </tr>\n",
       "    <tr>\n",
       "        <td>61</td>\n",
       "        <td>62</td>\n",
       "        <td>3603</td>\n",
       "        <td>MOLECULAR BIOLOGY</td>\n",
       "        <td>Biology &amp; Life Science</td>\n",
       "        <td>18300</td>\n",
       "        <td>90</td>\n",
       "        <td>4419</td>\n",
       "        <td>371</td>\n",
       "        <td>0.07745302700000001</td>\n",
       "        <td>11581</td>\n",
       "        <td>9441</td>\n",
       "        <td>4590</td>\n",
       "        <td>6183</td>\n",
       "        <td>1067</td>\n",
       "        <td>0.084361164</td>\n",
       "        <td>40000</td>\n",
       "        <td>29000</td>\n",
       "        <td>47000</td>\n",
       "        <td>7225</td>\n",
       "        <td>3145</td>\n",
       "        <td>1168</td>\n",
       "    </tr>\n",
       "    <tr>\n",
       "        <td>31</td>\n",
       "        <td>32</td>\n",
       "        <td>2500</td>\n",
       "        <td>ENGINEERING TECHNOLOGIES</td>\n",
       "        <td>Engineering</td>\n",
       "        <td>3600</td>\n",
       "        <td>39</td>\n",
       "        <td>16820</td>\n",
       "        <td>1678</td>\n",
       "        <td>0.09071250900000001</td>\n",
       "        <td>2799</td>\n",
       "        <td>2257</td>\n",
       "        <td>689</td>\n",
       "        <td>1723</td>\n",
       "        <td>163</td>\n",
       "        <td>0.055030385</td>\n",
       "        <td>50000</td>\n",
       "        <td>43000</td>\n",
       "        <td>60000</td>\n",
       "        <td>1017</td>\n",
       "        <td>1269</td>\n",
       "        <td>142</td>\n",
       "    </tr>\n",
       "</table>"
      ],
      "text/plain": [
       "[(65, 66, 2599, 'MISCELLANEOUS ENGINEERING TECHNOLOGIES', 'Engineering', 8804, 125, 124, 0, 0.0, 7502, 7001, 1240, 5825, 416, 0.05253852, 40000, 30400, 56000, 2446, 3896, 386),\n",
       " (61, 62, 3603, 'MOLECULAR BIOLOGY', 'Biology & Life Science', 18300, 90, 4419, 371, 0.07745302700000001, 11581, 9441, 4590, 6183, 1067, 0.084361164, 40000, 29000, 47000, 7225, 3145, 1168),\n",
       " (31, 32, 2500, 'ENGINEERING TECHNOLOGIES', 'Engineering', 3600, 39, 16820, 1678, 0.09071250900000001, 2799, 2257, 689, 1723, 163, 0.055030385, 50000, 43000, 60000, 1017, 1269, 142)]"
      ]
     },
     "execution_count": 3,
     "metadata": {},
     "output_type": "execute_result"
    }
   ],
   "source": [
    "%%sql\n",
    "\n",
    "SELECT *\n",
    " FROM recent_grads\n",
    " ORDER BY Sharewomen ASC\n",
    " LIMIT 3"
   ]
  },
  {
   "cell_type": "markdown",
   "metadata": {},
   "source": [
    "Looking at the sample above, we see that the three lowest ShareWomen values are roughly 0.09, 0.07 and 0, so the minimum is 0. Here's how we can use SQL to answer this question:"
   ]
  },
  {
   "cell_type": "code",
   "execution_count": 5,
   "metadata": {},
   "outputs": [
    {
     "name": "stdout",
     "output_type": "stream",
     "text": [
      " * sqlite:///jobs.db\n",
      "Done.\n"
     ]
    },
    {
     "data": {
      "text/html": [
       "<table>\n",
       "    <tr>\n",
       "        <th>MIN(ShareWomen)</th>\n",
       "    </tr>\n",
       "    <tr>\n",
       "        <td>0.0</td>\n",
       "    </tr>\n",
       "</table>"
      ],
      "text/plain": [
       "[(0.0,)]"
      ]
     },
     "execution_count": 5,
     "metadata": {},
     "output_type": "execute_result"
    }
   ],
   "source": [
    "%%sql\n",
    "\n",
    "SELECT MIN(ShareWomen) \n",
    "  FROM recent_grads;"
   ]
  },
  {
   "cell_type": "markdown",
   "metadata": {},
   "source": [
    "We can see that there is at least one major that didn't include any women.\n",
    "\n",
    "It doesn't actually tell us what those majors are — we only know them because we singled out the three majors with fewer women than men. In a typical table, there are too many rows to find an answer just by looking.\n",
    "\n",
    "We'll learn how to determine to which rows the lowest value correspond later in the course.\n",
    "\n",
    "Note that instead of just returning a single value, SQLite returned a table with a column (MIN(ShareWomen)) and the lowest value of ShareWomen as a row in that column (0).\n",
    "\n",
    "A key idea in SQL is that every result is a table. This is a common visual representation that makes SQL approachable for more users. However, this means that users must convert datasets and calculations that aren't well suited for this representation in a SQL environment.\n",
    "\n",
    "*Write a query that returns the lowest unemployment rate.*"
   ]
  },
  {
   "cell_type": "code",
   "execution_count": 6,
   "metadata": {},
   "outputs": [
    {
     "name": "stdout",
     "output_type": "stream",
     "text": [
      " * sqlite:///jobs.db\n",
      "Done.\n"
     ]
    },
    {
     "data": {
      "text/html": [
       "<table>\n",
       "    <tr>\n",
       "        <th>MIN(Unemployment_rate)</th>\n",
       "    </tr>\n",
       "    <tr>\n",
       "        <td>0.0</td>\n",
       "    </tr>\n",
       "</table>"
      ],
      "text/plain": [
       "[(0.0,)]"
      ]
     },
     "execution_count": 6,
     "metadata": {},
     "output_type": "execute_result"
    }
   ],
   "source": [
    "%%sql\n",
    "\n",
    "SELECT MIN(Unemployment_rate)\n",
    "FROM recent_grads"
   ]
  },
  {
   "cell_type": "markdown",
   "metadata": {},
   "source": [
    "## Aggregate functions\n",
    "\n",
    " We introduced the syntax MIN(column_name). This is an example of the broader syntax of functions. A function takes in input and produces the output of the function.\n",
    "\n",
    "In MIN(ShareWomen), we saw the following:\n",
    "\n",
    "- The input ShareWomen\n",
    "- The function MIN\n",
    "- The output 0.0\n",
    "\n",
    "We call this function an aggregate function. **Aggregate functions** apply over columns of values and return a single value. The MIN and MAX functions, for example, calculate and return the minimum and maximum values in a column.\n",
    "\n",
    "Some other commonly used aggregate functions include the following:\n",
    "\n",
    "- AVG — returns the mean of its input.\n",
    "- COUNT — counts the number of values in its input.\n",
    "- SUM — sums the values in its input.\n",
    "\n",
    "\n",
    "Note the use of capital letters for the functions' names. This isn't necessary to run the query, but it's a common convention that functions (just like other reserved words) should be uppercase. You should also use uppercase letters to the answer-checker can correctly validate your answer.\n",
    "\n",
    "*Write a query that computes the sum of the Total column.*"
   ]
  },
  {
   "cell_type": "code",
   "execution_count": 8,
   "metadata": {},
   "outputs": [
    {
     "name": "stdout",
     "output_type": "stream",
     "text": [
      " * sqlite:///jobs.db\n",
      "Done.\n"
     ]
    },
    {
     "data": {
      "text/html": [
       "<table>\n",
       "    <tr>\n",
       "        <th>SUM(Total)</th>\n",
       "    </tr>\n",
       "    <tr>\n",
       "        <td>6776015</td>\n",
       "    </tr>\n",
       "</table>"
      ],
      "text/plain": [
       "[(6776015,)]"
      ]
     },
     "execution_count": 8,
     "metadata": {},
     "output_type": "execute_result"
    }
   ],
   "source": [
    "%%sql \n",
    "\n",
    "SELECT SUM(Total)\n",
    "  FROM recent_grads"
   ]
  },
  {
   "cell_type": "markdown",
   "metadata": {},
   "source": [
    "## Order of execution\n",
    "\n",
    "On this screen, we'll answer these questions:\n",
    "\n",
    "- How many majors included mostly women?\n",
    "- How many majors included mostly men?\n",
    "\n",
    "To answer the first question, we'd like to count the students. On the last screen, we learned that there is an aggregate function that counts the number of values in the input: COUNT.\n",
    "\n",
    "A query could answer the question:"
   ]
  },
  {
   "cell_type": "code",
   "execution_count": 9,
   "metadata": {},
   "outputs": [
    {
     "name": "stdout",
     "output_type": "stream",
     "text": [
      " * sqlite:///jobs.db\n",
      "Done.\n"
     ]
    },
    {
     "data": {
      "text/html": [
       "<table>\n",
       "    <tr>\n",
       "        <th>COUNT(Major)</th>\n",
       "    </tr>\n",
       "    <tr>\n",
       "        <td>97</td>\n",
       "    </tr>\n",
       "</table>"
      ],
      "text/plain": [
       "[(97,)]"
      ]
     },
     "execution_count": 9,
     "metadata": {},
     "output_type": "execute_result"
    }
   ],
   "source": [
    "%%sql\n",
    "\n",
    "SELECT COUNT(Major)\n",
    "  FROM recent_grads\n",
    " WHERE ShareWomen > 0.5;"
   ]
  },
  {
   "cell_type": "markdown",
   "metadata": {},
   "source": [
    "But does it really work? You may be wondering if COUNT(Major) counts the rows before or after the WHERE clause executes.\n",
    "\n",
    "The answer is that it **runs after**! So this query will find the answer."
   ]
  },
  {
   "cell_type": "markdown",
   "metadata": {},
   "source": [
    "Let's quickly summarize what a query looks like using all the clauses we've learned so far:\n",
    "\n",
    "```\n",
    "SELECT *\n",
    "  FROM some_table\n",
    " WHERE some_condition\n",
    " ORDER BY some_column\n",
    " LIMIT some_limit\n",
    " ```\n",
    " \n",
    "Here is the order in which the clauses run:\n",
    "\n",
    "- FROM\n",
    "- WHERE\n",
    "- SELECT\n",
    "- ORDER BY\n",
    "- LIMIT\n",
    "\n",
    "Since aggregate functions are part of SELECT, the calculation happens after WHERE acts.\n",
    "\n",
    "*Write a query that returns the number of majors that include mostly men.*"
   ]
  },
  {
   "cell_type": "code",
   "execution_count": 12,
   "metadata": {},
   "outputs": [
    {
     "name": "stdout",
     "output_type": "stream",
     "text": [
      " * sqlite:///jobs.db\n",
      "Done.\n"
     ]
    },
    {
     "data": {
      "text/html": [
       "<table>\n",
       "    <tr>\n",
       "        <th>COUNT(Major)</th>\n",
       "    </tr>\n",
       "    <tr>\n",
       "        <td>76</td>\n",
       "    </tr>\n",
       "</table>"
      ],
      "text/plain": [
       "[(76,)]"
      ]
     },
     "execution_count": 12,
     "metadata": {},
     "output_type": "execute_result"
    }
   ],
   "source": [
    "%%sql\n",
    "\n",
    "SELECT COUNT(Major)\n",
    " FROM recent_grads\n",
    " WHERE Sharewomen < 0.5"
   ]
  },
  {
   "cell_type": "markdown",
   "metadata": {},
   "source": [
    "## Missing values\n",
    "\n",
    "Sometimes, for various reasons, tables don't contain values in certain cells (a cell is an intersection of a row and a column in a table).\n",
    "\n",
    "When this happens, we make any of the following statements (or variations of them):\n",
    "\n",
    "- The value is missing.\n",
    "- It's a missing value.\n",
    "- The value is NULL.\n",
    "    - NULL is a special entity in SQL that exists to capture the concept of missing value.\n",
    "    \n",
    "**This is important when using aggregate functions because most of them ignore missing values.**\n",
    "\n",
    "\n",
    "For example, if we were to select COUNT(Primes) in the table below, the result would be 3 due to the missing value in the third row.\n",
    "\n",
    "![img](img/prime.png)\n",
    "\n",
    "\n",
    "So we must know we don't have null values in a column before we can use it to count the numbers of rows.\n",
    "\n",
    "To avoid this, we can resort to the * and pass it into COUNT as if it were a column name. So, in the table above, we'd use COUNT(*) instead of COUNT(Primes).\n",
    "\n",
    "\n",
    "In this screen's exercise we will ask you to use COUNT to find a column with at least a missing value. You can do this by running the query below, replacing <column_name> with the name of the columns in recent_grads until you find a suspicious result. "
   ]
  },
  {
   "cell_type": "code",
   "execution_count": 16,
   "metadata": {},
   "outputs": [
    {
     "name": "stdout",
     "output_type": "stream",
     "text": [
      " * sqlite:///jobs.db\n",
      "Done.\n"
     ]
    },
    {
     "data": {
      "text/html": [
       "<table>\n",
       "    <tr>\n",
       "        <th>COUNT(*)</th>\n",
       "        <th>COUNT(Rank)</th>\n",
       "        <th>COUNT(Major_code)</th>\n",
       "        <th>COUNT(Major)</th>\n",
       "        <th>COUNT(Major_category)</th>\n",
       "        <th>COUNT(Total)</th>\n",
       "        <th>COUNT(Sample_size)</th>\n",
       "        <th>COUNT(Men)</th>\n",
       "        <th>COUNT(Women)</th>\n",
       "        <th>COUNT(ShareWomen)</th>\n",
       "        <th>COUNT(Employed)</th>\n",
       "        <th>COUNT(Full_time_year_round)</th>\n",
       "        <th>COUNT(Unemployment_rate)</th>\n",
       "    </tr>\n",
       "    <tr>\n",
       "        <td>173</td>\n",
       "        <td>173</td>\n",
       "        <td>173</td>\n",
       "        <td>173</td>\n",
       "        <td>173</td>\n",
       "        <td>173</td>\n",
       "        <td>173</td>\n",
       "        <td>173</td>\n",
       "        <td>173</td>\n",
       "        <td>173</td>\n",
       "        <td>173</td>\n",
       "        <td>173</td>\n",
       "        <td>172</td>\n",
       "    </tr>\n",
       "</table>"
      ],
      "text/plain": [
       "[(173, 173, 173, 173, 173, 173, 173, 173, 173, 173, 173, 173, 172)]"
      ]
     },
     "execution_count": 16,
     "metadata": {},
     "output_type": "execute_result"
    }
   ],
   "source": [
    "%%sql \n",
    "\n",
    "SELECT COUNT(*), COUNT(Rank), COUNT(Major_code), COUNT(Major), COUNT(Major_category), COUNT(Total),\n",
    "       COUNT(Sample_size), COUNT(Men), COUNT(Women), COUNT(ShareWomen), COUNT(Employed), COUNT(Full_time_year_round),\n",
    "       COUNT(Unemployment_rate)\n",
    " FROM recent_grads\n",
    " "
   ]
  },
  {
   "cell_type": "markdown",
   "metadata": {},
   "source": [
    "Unemployment rate has 1 missing value.\n",
    "\n",
    "\n",
    "## Combining multiple aggregation functions\n",
    "\n",
    "Instead of writing an individual query for specific question we want to answer, we can actually write queries that answer multiple questions at once. Let's consider the following questions:\n",
    "\n",
    "- What's the lowest median salary?\n",
    "- What's the highest median salary?\n",
    "- What's the total number of students?\n",
    "\n",
    "We can select multiple columns by including their names with commas, like this:"
   ]
  },
  {
   "cell_type": "code",
   "execution_count": 20,
   "metadata": {},
   "outputs": [
    {
     "name": "stdout",
     "output_type": "stream",
     "text": [
      " * sqlite:///jobs.db\n",
      "Done.\n"
     ]
    },
    {
     "data": {
      "text/html": [
       "<table>\n",
       "    <tr>\n",
       "        <th>Major</th>\n",
       "        <th>Major_category</th>\n",
       "    </tr>\n",
       "    <tr>\n",
       "        <td>PETROLEUM ENGINEERING</td>\n",
       "        <td>Engineering</td>\n",
       "    </tr>\n",
       "    <tr>\n",
       "        <td>MINING AND MINERAL ENGINEERING</td>\n",
       "        <td>Engineering</td>\n",
       "    </tr>\n",
       "    <tr>\n",
       "        <td>METALLURGICAL ENGINEERING</td>\n",
       "        <td>Engineering</td>\n",
       "    </tr>\n",
       "    <tr>\n",
       "        <td>NAVAL ARCHITECTURE AND MARINE ENGINEERING</td>\n",
       "        <td>Engineering</td>\n",
       "    </tr>\n",
       "    <tr>\n",
       "        <td>CHEMICAL ENGINEERING</td>\n",
       "        <td>Engineering</td>\n",
       "    </tr>\n",
       "</table>"
      ],
      "text/plain": [
       "[('PETROLEUM ENGINEERING', 'Engineering'),\n",
       " ('MINING AND MINERAL ENGINEERING', 'Engineering'),\n",
       " ('METALLURGICAL ENGINEERING', 'Engineering'),\n",
       " ('NAVAL ARCHITECTURE AND MARINE ENGINEERING', 'Engineering'),\n",
       " ('CHEMICAL ENGINEERING', 'Engineering')]"
      ]
     },
     "execution_count": 20,
     "metadata": {},
     "output_type": "execute_result"
    }
   ],
   "source": [
    "%%sql\n",
    "\n",
    "SELECT Major, Major_category\n",
    " FROM recent_grads\n",
    " LIMIT 5;"
   ]
  },
  {
   "cell_type": "markdown",
   "metadata": {},
   "source": [
    "We can use the same principle to combine multiple aggregation functions into a single query:"
   ]
  },
  {
   "cell_type": "code",
   "execution_count": 21,
   "metadata": {},
   "outputs": [
    {
     "name": "stdout",
     "output_type": "stream",
     "text": [
      " * sqlite:///jobs.db\n",
      "Done.\n"
     ]
    },
    {
     "data": {
      "text/html": [
       "<table>\n",
       "    <tr>\n",
       "        <th>MIN(Median)</th>\n",
       "        <th>MAX(Median)</th>\n",
       "        <th>SUM(Total)</th>\n",
       "    </tr>\n",
       "    <tr>\n",
       "        <td>22000</td>\n",
       "        <td>110000</td>\n",
       "        <td>6776015</td>\n",
       "    </tr>\n",
       "</table>"
      ],
      "text/plain": [
       "[(22000, 110000, 6776015)]"
      ]
     },
     "execution_count": 21,
     "metadata": {},
     "output_type": "execute_result"
    }
   ],
   "source": [
    "%%sql\n",
    "\n",
    "SELECT MIN(Median), MAX(Median), SUM(Total)\n",
    "  FROM recent_grads;"
   ]
  },
  {
   "cell_type": "markdown",
   "metadata": {},
   "source": [
    "*Write a query that calculates the average of the Total column, the minimum of the Men column, and the maximum of the Women column, in that order.*"
   ]
  },
  {
   "cell_type": "code",
   "execution_count": 22,
   "metadata": {},
   "outputs": [
    {
     "name": "stdout",
     "output_type": "stream",
     "text": [
      " * sqlite:///jobs.db\n",
      "Done.\n"
     ]
    },
    {
     "data": {
      "text/html": [
       "<table>\n",
       "    <tr>\n",
       "        <th>AVG(Total)</th>\n",
       "        <th>MIN(Men)</th>\n",
       "        <th>MAX(Women)</th>\n",
       "    </tr>\n",
       "    <tr>\n",
       "        <td>39167.71676300578</td>\n",
       "        <td>119</td>\n",
       "        <td>307087</td>\n",
       "    </tr>\n",
       "</table>"
      ],
      "text/plain": [
       "[(39167.71676300578, 119, 307087)]"
      ]
     },
     "execution_count": 22,
     "metadata": {},
     "output_type": "execute_result"
    }
   ],
   "source": [
    "%%sql\n",
    "\n",
    "SELECT AVG(Total), MIN(Men), MAX(Women)\n",
    "  FROM recent_grads;"
   ]
  },
  {
   "cell_type": "markdown",
   "metadata": {},
   "source": [
    "## Customizing results\n",
    "\n",
    "All of the queries we've written so far have had somewhat unpleasant column names in the results, like AVG(SUM) and MIN(Men).\n",
    "\n",
    "Many companies use SQL environments and tools that can run your query, turn the results into a plot of your choosing, and then create a PDF report containing multiple plots (and some additional explanation from the user).\n",
    "\n",
    "Since others may interpret the results of your SQL queries, it's helpful to specify custom names for the columns in our results.\n",
    "\n",
    "We can do that using AS:\n",
    "\n",
    "```\n",
    "SELECT SUM(Total) AS num_students\n",
    "  FROM recent_grads;\n",
    "```\n",
    "\n",
    "**This is known as an alias**, and it is restricted to only our results table (the table in the database won't be renamed)\n",
    "\n",
    "If we use certain characters, like spaces, we need to surround the alias with quotes. We can specify an arbitrary phrase as a string using quotation marks:"
   ]
  },
  {
   "cell_type": "code",
   "execution_count": 23,
   "metadata": {},
   "outputs": [
    {
     "name": "stdout",
     "output_type": "stream",
     "text": [
      " * sqlite:///jobs.db\n",
      "Done.\n"
     ]
    },
    {
     "data": {
      "text/html": [
       "<table>\n",
       "    <tr>\n",
       "        <th>Total Students</th>\n",
       "    </tr>\n",
       "    <tr>\n",
       "        <td>6776015</td>\n",
       "    </tr>\n",
       "</table>"
      ],
      "text/plain": [
       "[(6776015,)]"
      ]
     },
     "execution_count": 23,
     "metadata": {},
     "output_type": "execute_result"
    }
   ],
   "source": [
    "%%sql\n",
    "\n",
    "SELECT SUM(Total) AS 'Total Students'\n",
    " FROM recent_grads;"
   ]
  },
  {
   "cell_type": "markdown",
   "metadata": {},
   "source": [
    "We can drop AS entirely and just add the name next to the original column:"
   ]
  },
  {
   "cell_type": "code",
   "execution_count": 24,
   "metadata": {},
   "outputs": [
    {
     "name": "stdout",
     "output_type": "stream",
     "text": [
      " * sqlite:///jobs.db\n",
      "Done.\n"
     ]
    },
    {
     "data": {
      "text/html": [
       "<table>\n",
       "    <tr>\n",
       "        <th>Total Students</th>\n",
       "    </tr>\n",
       "    <tr>\n",
       "        <td>6776015</td>\n",
       "    </tr>\n",
       "</table>"
      ],
      "text/plain": [
       "[(6776015,)]"
      ]
     },
     "execution_count": 24,
     "metadata": {},
     "output_type": "execute_result"
    }
   ],
   "source": [
    "%%sql\n",
    "\n",
    "SELECT SUM(Total) 'Total Students'\n",
    " FROM recent_grads;"
   ]
  },
  {
   "cell_type": "markdown",
   "metadata": {},
   "source": [
    "(We'll keep using it, though because it's a matter of style.) Lastly, we can reference renamed columns when writing longer queries to make our code more compact:"
   ]
  },
  {
   "cell_type": "code",
   "execution_count": 25,
   "metadata": {},
   "outputs": [
    {
     "name": "stdout",
     "output_type": "stream",
     "text": [
      " * sqlite:///jobs.db\n",
      "Done.\n"
     ]
    },
    {
     "data": {
      "text/html": [
       "<table>\n",
       "    <tr>\n",
       "        <th>m</th>\n",
       "        <th>mc</th>\n",
       "        <th>ur</th>\n",
       "    </tr>\n",
       "    <tr>\n",
       "        <td>GEOLOGICAL AND GEOPHYSICAL ENGINEERING</td>\n",
       "        <td>Engineering</td>\n",
       "        <td>0.075038285</td>\n",
       "    </tr>\n",
       "    <tr>\n",
       "        <td>MISCELLANEOUS ENGINEERING</td>\n",
       "        <td>Engineering</td>\n",
       "        <td>0.074392523</td>\n",
       "    </tr>\n",
       "    <tr>\n",
       "        <td>CIVIL ENGINEERING</td>\n",
       "        <td>Engineering</td>\n",
       "        <td>0.07060957400000001</td>\n",
       "    </tr>\n",
       "    <tr>\n",
       "        <td>COMPUTER ENGINEERING</td>\n",
       "        <td>Engineering</td>\n",
       "        <td>0.065409275</td>\n",
       "    </tr>\n",
       "    <tr>\n",
       "        <td>AEROSPACE ENGINEERING</td>\n",
       "        <td>Engineering</td>\n",
       "        <td>0.065162085</td>\n",
       "    </tr>\n",
       "    <tr>\n",
       "        <td>ARCHITECTURAL ENGINEERING</td>\n",
       "        <td>Engineering</td>\n",
       "        <td>0.061930782999999996</td>\n",
       "    </tr>\n",
       "    <tr>\n",
       "        <td>CHEMICAL ENGINEERING</td>\n",
       "        <td>Engineering</td>\n",
       "        <td>0.061097712</td>\n",
       "    </tr>\n",
       "    <tr>\n",
       "        <td>GENERAL ENGINEERING</td>\n",
       "        <td>Engineering</td>\n",
       "        <td>0.059824231</td>\n",
       "    </tr>\n",
       "    <tr>\n",
       "        <td>ELECTRICAL ENGINEERING</td>\n",
       "        <td>Engineering</td>\n",
       "        <td>0.059173845</td>\n",
       "    </tr>\n",
       "    <tr>\n",
       "        <td>MECHANICAL ENGINEERING</td>\n",
       "        <td>Engineering</td>\n",
       "        <td>0.057342277999999997</td>\n",
       "    </tr>\n",
       "    <tr>\n",
       "        <td>MECHANICAL ENGINEERING RELATED TECHNOLOGIES</td>\n",
       "        <td>Engineering</td>\n",
       "        <td>0.056357078</td>\n",
       "    </tr>\n",
       "    <tr>\n",
       "        <td>ENGINEERING TECHNOLOGIES</td>\n",
       "        <td>Engineering</td>\n",
       "        <td>0.055030385</td>\n",
       "    </tr>\n",
       "    <tr>\n",
       "        <td>MISCELLANEOUS ENGINEERING TECHNOLOGIES</td>\n",
       "        <td>Engineering</td>\n",
       "        <td>0.05253852</td>\n",
       "    </tr>\n",
       "    <tr>\n",
       "        <td>NAVAL ARCHITECTURE AND MARINE ENGINEERING</td>\n",
       "        <td>Engineering</td>\n",
       "        <td>0.050125313</td>\n",
       "    </tr>\n",
       "    <tr>\n",
       "        <td>INDUSTRIAL AND MANUFACTURING ENGINEERING</td>\n",
       "        <td>Engineering</td>\n",
       "        <td>0.042875544</td>\n",
       "    </tr>\n",
       "</table>"
      ],
      "text/plain": [
       "[('GEOLOGICAL AND GEOPHYSICAL ENGINEERING', 'Engineering', 0.075038285),\n",
       " ('MISCELLANEOUS ENGINEERING', 'Engineering', 0.074392523),\n",
       " ('CIVIL ENGINEERING', 'Engineering', 0.07060957400000001),\n",
       " ('COMPUTER ENGINEERING', 'Engineering', 0.065409275),\n",
       " ('AEROSPACE ENGINEERING', 'Engineering', 0.065162085),\n",
       " ('ARCHITECTURAL ENGINEERING', 'Engineering', 0.061930782999999996),\n",
       " ('CHEMICAL ENGINEERING', 'Engineering', 0.061097712),\n",
       " ('GENERAL ENGINEERING', 'Engineering', 0.059824231),\n",
       " ('ELECTRICAL ENGINEERING', 'Engineering', 0.059173845),\n",
       " ('MECHANICAL ENGINEERING', 'Engineering', 0.057342277999999997),\n",
       " ('MECHANICAL ENGINEERING RELATED TECHNOLOGIES', 'Engineering', 0.056357078),\n",
       " ('ENGINEERING TECHNOLOGIES', 'Engineering', 0.055030385),\n",
       " ('MISCELLANEOUS ENGINEERING TECHNOLOGIES', 'Engineering', 0.05253852),\n",
       " ('NAVAL ARCHITECTURE AND MARINE ENGINEERING', 'Engineering', 0.050125313),\n",
       " ('INDUSTRIAL AND MANUFACTURING ENGINEERING', 'Engineering', 0.042875544)]"
      ]
     },
     "execution_count": 25,
     "metadata": {},
     "output_type": "execute_result"
    }
   ],
   "source": [
    "%%sql\n",
    "\n",
    "SELECT Major AS m, Major_category AS mc, Unemployment_rate AS ur\n",
    "  FROM recent_grads\n",
    " WHERE (mc = 'Engineering') AND (ur > 0.04 and ur < 0.08)\n",
    " ORDER BY ur DESC"
   ]
  },
  {
   "cell_type": "markdown",
   "metadata": {},
   "source": [
    "*Write a query that returns the following in this order:*\n",
    "- *The number of rows as Number of Majors*\n",
    "- *The maximum value of Unemployment_rate as Highest Unemployment Rate*"
   ]
  },
  {
   "cell_type": "code",
   "execution_count": 26,
   "metadata": {},
   "outputs": [
    {
     "name": "stdout",
     "output_type": "stream",
     "text": [
      " * sqlite:///jobs.db\n",
      "Done.\n"
     ]
    },
    {
     "data": {
      "text/html": [
       "<table>\n",
       "    <tr>\n",
       "        <th>Number of Majors</th>\n",
       "        <th>Highest Unemployment Rate</th>\n",
       "    </tr>\n",
       "    <tr>\n",
       "        <td>173</td>\n",
       "        <td>0.177226407</td>\n",
       "    </tr>\n",
       "</table>"
      ],
      "text/plain": [
       "[(173, 0.177226407)]"
      ]
     },
     "execution_count": 26,
     "metadata": {},
     "output_type": "execute_result"
    }
   ],
   "source": [
    "%%sql\n",
    "\n",
    "SELECT COUNT(*) AS \"Number of Majors\",\n",
    "       MAX(Unemployment_rate) AS \"Highest Unemployment Rate\"\n",
    "    FROM recent_grads;"
   ]
  },
  {
   "cell_type": "markdown",
   "metadata": {},
   "source": [
    "## Counting unique values\n",
    "\n",
    "Major_category is a column with only a few unique values. What if we want to get a list with repetitions of the values in this column? Or what if we want to determine how many distinct values there are in this column?\n",
    "\n",
    "We can return all of the unique values in a column using the DISTINCT statement."
   ]
  },
  {
   "cell_type": "code",
   "execution_count": 27,
   "metadata": {},
   "outputs": [
    {
     "name": "stdout",
     "output_type": "stream",
     "text": [
      " * sqlite:///jobs.db\n",
      "Done.\n"
     ]
    },
    {
     "data": {
      "text/html": [
       "<table>\n",
       "    <tr>\n",
       "        <th>Major_category</th>\n",
       "    </tr>\n",
       "    <tr>\n",
       "        <td>Engineering</td>\n",
       "    </tr>\n",
       "    <tr>\n",
       "        <td>Business</td>\n",
       "    </tr>\n",
       "    <tr>\n",
       "        <td>Physical Sciences</td>\n",
       "    </tr>\n",
       "    <tr>\n",
       "        <td>Law &amp; Public Policy</td>\n",
       "    </tr>\n",
       "    <tr>\n",
       "        <td>Computers &amp; Mathematics</td>\n",
       "    </tr>\n",
       "    <tr>\n",
       "        <td>Agriculture &amp; Natural Resources</td>\n",
       "    </tr>\n",
       "    <tr>\n",
       "        <td>Industrial Arts &amp; Consumer Services</td>\n",
       "    </tr>\n",
       "    <tr>\n",
       "        <td>Arts</td>\n",
       "    </tr>\n",
       "    <tr>\n",
       "        <td>Health</td>\n",
       "    </tr>\n",
       "    <tr>\n",
       "        <td>Social Science</td>\n",
       "    </tr>\n",
       "    <tr>\n",
       "        <td>Biology &amp; Life Science</td>\n",
       "    </tr>\n",
       "    <tr>\n",
       "        <td>Education</td>\n",
       "    </tr>\n",
       "    <tr>\n",
       "        <td>Humanities &amp; Liberal Arts</td>\n",
       "    </tr>\n",
       "    <tr>\n",
       "        <td>Psychology &amp; Social Work</td>\n",
       "    </tr>\n",
       "    <tr>\n",
       "        <td>Communications &amp; Journalism</td>\n",
       "    </tr>\n",
       "    <tr>\n",
       "        <td>Interdisciplinary</td>\n",
       "    </tr>\n",
       "</table>"
      ],
      "text/plain": [
       "[('Engineering',),\n",
       " ('Business',),\n",
       " ('Physical Sciences',),\n",
       " ('Law & Public Policy',),\n",
       " ('Computers & Mathematics',),\n",
       " ('Agriculture & Natural Resources',),\n",
       " ('Industrial Arts & Consumer Services',),\n",
       " ('Arts',),\n",
       " ('Health',),\n",
       " ('Social Science',),\n",
       " ('Biology & Life Science',),\n",
       " ('Education',),\n",
       " ('Humanities & Liberal Arts',),\n",
       " ('Psychology & Social Work',),\n",
       " ('Communications & Journalism',),\n",
       " ('Interdisciplinary',)]"
      ]
     },
     "execution_count": 27,
     "metadata": {},
     "output_type": "execute_result"
    }
   ],
   "source": [
    "%%sql \n",
    "\n",
    "SELECT DISTINCT Major_category\n",
    "  FROM recent_grads;"
   ]
  },
  {
   "cell_type": "markdown",
   "metadata": {},
   "source": [
    "As with the other SQL clauses we've learned, we can use the DISTINCT statement with multiple columns to return unique pairings of those columns:"
   ]
  },
  {
   "cell_type": "code",
   "execution_count": 30,
   "metadata": {},
   "outputs": [
    {
     "name": "stdout",
     "output_type": "stream",
     "text": [
      " * sqlite:///jobs.db\n",
      "Done.\n"
     ]
    },
    {
     "data": {
      "text/html": [
       "<table>\n",
       "    <tr>\n",
       "        <th>Major</th>\n",
       "        <th>Major_category</th>\n",
       "    </tr>\n",
       "    <tr>\n",
       "        <td>PETROLEUM ENGINEERING</td>\n",
       "        <td>Engineering</td>\n",
       "    </tr>\n",
       "    <tr>\n",
       "        <td>MINING AND MINERAL ENGINEERING</td>\n",
       "        <td>Engineering</td>\n",
       "    </tr>\n",
       "    <tr>\n",
       "        <td>METALLURGICAL ENGINEERING</td>\n",
       "        <td>Engineering</td>\n",
       "    </tr>\n",
       "    <tr>\n",
       "        <td>NAVAL ARCHITECTURE AND MARINE ENGINEERING</td>\n",
       "        <td>Engineering</td>\n",
       "    </tr>\n",
       "    <tr>\n",
       "        <td>CHEMICAL ENGINEERING</td>\n",
       "        <td>Engineering</td>\n",
       "    </tr>\n",
       "</table>"
      ],
      "text/plain": [
       "[('PETROLEUM ENGINEERING', 'Engineering'),\n",
       " ('MINING AND MINERAL ENGINEERING', 'Engineering'),\n",
       " ('METALLURGICAL ENGINEERING', 'Engineering'),\n",
       " ('NAVAL ARCHITECTURE AND MARINE ENGINEERING', 'Engineering'),\n",
       " ('CHEMICAL ENGINEERING', 'Engineering')]"
      ]
     },
     "execution_count": 30,
     "metadata": {},
     "output_type": "execute_result"
    }
   ],
   "source": [
    "%%sql \n",
    "\n",
    "SELECT DISTINCT Major, Major_category\n",
    "  FROM recent_grads\n",
    " LIMIT 5;"
   ]
  },
  {
   "cell_type": "markdown",
   "metadata": {},
   "source": [
    "Lastly, we can count the number of unique values in a column by nesting the COUNT() function with the DISTINCT clause:"
   ]
  },
  {
   "cell_type": "code",
   "execution_count": 31,
   "metadata": {},
   "outputs": [
    {
     "name": "stdout",
     "output_type": "stream",
     "text": [
      " * sqlite:///jobs.db\n",
      "Done.\n"
     ]
    },
    {
     "data": {
      "text/html": [
       "<table>\n",
       "    <tr>\n",
       "        <th>unique_major_categories</th>\n",
       "    </tr>\n",
       "    <tr>\n",
       "        <td>16</td>\n",
       "    </tr>\n",
       "</table>"
      ],
      "text/plain": [
       "[(16,)]"
      ]
     },
     "execution_count": 31,
     "metadata": {},
     "output_type": "execute_result"
    }
   ],
   "source": [
    "%%sql\n",
    "\n",
    "SELECT COUNT(DISTINCT Major_category) AS unique_major_categories\n",
    "  FROM recent_grads;"
   ]
  },
  {
   "cell_type": "markdown",
   "metadata": {},
   "source": [
    "*Write a query that returns the number of unique values in the Major, Major_category, and Major_code columns.*"
   ]
  },
  {
   "cell_type": "code",
   "execution_count": 32,
   "metadata": {},
   "outputs": [
    {
     "name": "stdout",
     "output_type": "stream",
     "text": [
      " * sqlite:///jobs.db\n",
      "Done.\n"
     ]
    },
    {
     "data": {
      "text/html": [
       "<table>\n",
       "    <tr>\n",
       "        <th>unique_majors</th>\n",
       "        <th>unique_major_categories</th>\n",
       "        <th>unique_major_codes</th>\n",
       "    </tr>\n",
       "    <tr>\n",
       "        <td>173</td>\n",
       "        <td>16</td>\n",
       "        <td>173</td>\n",
       "    </tr>\n",
       "</table>"
      ],
      "text/plain": [
       "[(173, 16, 173)]"
      ]
     },
     "execution_count": 32,
     "metadata": {},
     "output_type": "execute_result"
    }
   ],
   "source": [
    "%%sql\n",
    "\n",
    "SELECT COUNT(DISTINCT Major) AS unique_majors,\n",
    "       COUNT(DISTINCT Major_category) AS unique_major_categories,\n",
    "       COUNT(DISTINCT Major_code) AS unique_major_codes\n",
    "    FROM recent_grads;"
   ]
  },
  {
   "cell_type": "markdown",
   "metadata": {},
   "source": [
    "## Data Types\n",
    "\n",
    "Let's run a query and look at the result."
   ]
  },
  {
   "cell_type": "code",
   "execution_count": 33,
   "metadata": {},
   "outputs": [
    {
     "name": "stdout",
     "output_type": "stream",
     "text": [
      " * sqlite:///jobs.db\n",
      "Done.\n"
     ]
    },
    {
     "data": {
      "text/html": [
       "<table>\n",
       "    <tr>\n",
       "        <th>Major</th>\n",
       "        <th>Total</th>\n",
       "        <th>Men</th>\n",
       "        <th>Women</th>\n",
       "        <th>Unemployment_rate</th>\n",
       "    </tr>\n",
       "    <tr>\n",
       "        <td>NUCLEAR ENGINEERING</td>\n",
       "        <td>2573</td>\n",
       "        <td>2200</td>\n",
       "        <td>373</td>\n",
       "        <td>0.177226407</td>\n",
       "    </tr>\n",
       "    <tr>\n",
       "        <td>PUBLIC ADMINISTRATION</td>\n",
       "        <td>5629</td>\n",
       "        <td>2947</td>\n",
       "        <td>2682</td>\n",
       "        <td>0.15949059999999998</td>\n",
       "    </tr>\n",
       "    <tr>\n",
       "        <td>COMPUTER NETWORKING AND TELECOMMUNICATIONS</td>\n",
       "        <td>7613</td>\n",
       "        <td>5291</td>\n",
       "        <td>2322</td>\n",
       "        <td>0.151849807</td>\n",
       "    </tr>\n",
       "</table>"
      ],
      "text/plain": [
       "[('NUCLEAR ENGINEERING', 2573, 2200, 373, 0.177226407),\n",
       " ('PUBLIC ADMINISTRATION', 5629, 2947, 2682, 0.15949059999999998),\n",
       " ('COMPUTER NETWORKING AND TELECOMMUNICATIONS', 7613, 5291, 2322, 0.151849807)]"
      ]
     },
     "execution_count": 33,
     "metadata": {},
     "output_type": "execute_result"
    }
   ],
   "source": [
    "%%sql\n",
    "\n",
    "SELECT Major, Total, Men, Women, Unemployment_rate\n",
    "  FROM recent_grads\n",
    " ORDER BY Unemployment_rate DESC\n",
    " LIMIT 3;"
   ]
  },
  {
   "cell_type": "markdown",
   "metadata": {},
   "source": [
    "Let's consider the different kinds of values we got:\n",
    "\n",
    "- In the Major column, we see text.\n",
    "- In the Total, Men, and Women columns, we see integers.\n",
    "- In the Unemployment_rate column, we see decimal numbers.\n",
    "\n",
    "Each of the above is a data type. Each column has exactly one type of value; it can't be mixed.\n",
    "\n",
    "You can read more about the SQLite data types here. We'll explore them from the point of view of the database when we learn how to create tables.\n",
    "\n",
    "For now, we'll focus on some of the things we can do with different data types."
   ]
  },
  {
   "cell_type": "markdown",
   "metadata": {},
   "source": [
    "## String functions and operations\n",
    "\n",
    "\n",
    "Previously, we learned about aggregate functions. Aggregate functions take a column as input and return one value for the column. Now, we'll learn about functions that, when we pass them a column as input, return (a transformation of the input) another column. The values of text columns are typically called strings.\n",
    "\n",
    "We'll start with the LENGTH function. Given a text column, the LENGTH function returns the number of characters in the input strings.\n",
    "\n",
    "Let's build on the query we saw on the previous screen to see it action."
   ]
  },
  {
   "cell_type": "code",
   "execution_count": 34,
   "metadata": {},
   "outputs": [
    {
     "name": "stdout",
     "output_type": "stream",
     "text": [
      " * sqlite:///jobs.db\n",
      "Done.\n"
     ]
    },
    {
     "data": {
      "text/html": [
       "<table>\n",
       "    <tr>\n",
       "        <th>Major</th>\n",
       "        <th>Total</th>\n",
       "        <th>Men</th>\n",
       "        <th>Women</th>\n",
       "        <th>Unemployment_rate</th>\n",
       "        <th>Length_of_name</th>\n",
       "    </tr>\n",
       "    <tr>\n",
       "        <td>NUCLEAR ENGINEERING</td>\n",
       "        <td>2573</td>\n",
       "        <td>2200</td>\n",
       "        <td>373</td>\n",
       "        <td>0.177226407</td>\n",
       "        <td>19</td>\n",
       "    </tr>\n",
       "    <tr>\n",
       "        <td>PUBLIC ADMINISTRATION</td>\n",
       "        <td>5629</td>\n",
       "        <td>2947</td>\n",
       "        <td>2682</td>\n",
       "        <td>0.15949059999999998</td>\n",
       "        <td>21</td>\n",
       "    </tr>\n",
       "    <tr>\n",
       "        <td>COMPUTER NETWORKING AND TELECOMMUNICATIONS</td>\n",
       "        <td>7613</td>\n",
       "        <td>5291</td>\n",
       "        <td>2322</td>\n",
       "        <td>0.151849807</td>\n",
       "        <td>42</td>\n",
       "    </tr>\n",
       "</table>"
      ],
      "text/plain": [
       "[('NUCLEAR ENGINEERING', 2573, 2200, 373, 0.177226407, 19),\n",
       " ('PUBLIC ADMINISTRATION', 5629, 2947, 2682, 0.15949059999999998, 21),\n",
       " ('COMPUTER NETWORKING AND TELECOMMUNICATIONS', 7613, 5291, 2322, 0.151849807, 42)]"
      ]
     },
     "execution_count": 34,
     "metadata": {},
     "output_type": "execute_result"
    }
   ],
   "source": [
    "%%sql\n",
    "\n",
    "SELECT Major,\n",
    "       Total, Men, Women, Unemployment_rate,\n",
    "       LENGTH(Major) AS Length_of_name\n",
    "  FROM recent_grads\n",
    " ORDER BY Unemployment_rate DESC\n",
    " LIMIT 3;"
   ]
  },
  {
   "cell_type": "markdown",
   "metadata": {},
   "source": [
    "We can also concatenate strings by using the || operator. Here's an example:"
   ]
  },
  {
   "cell_type": "code",
   "execution_count": 35,
   "metadata": {},
   "outputs": [
    {
     "name": "stdout",
     "output_type": "stream",
     "text": [
      " * sqlite:///jobs.db\n",
      "Done.\n"
     ]
    },
    {
     "data": {
      "text/html": [
       "<table>\n",
       "    <tr>\n",
       "        <th>e-learning</th>\n",
       "    </tr>\n",
       "    <tr>\n",
       "        <td>Dataquest</td>\n",
       "    </tr>\n",
       "</table>"
      ],
      "text/plain": [
       "[('Dataquest',)]"
      ]
     },
     "execution_count": 35,
     "metadata": {},
     "output_type": "execute_result"
    }
   ],
   "source": [
    "%%sql\n",
    "\n",
    "SELECT 'Data' || 'quest' as 'e-learning';"
   ]
  },
  {
   "cell_type": "markdown",
   "metadata": {},
   "source": [
    "We signaled the use of strings by using single quotes ('), double quotes (\"); however, double quotes also work. Other databases more universally accept single quotes rather than double quotes, so it's a good habit to form.\n",
    "\n",
    "In the same way that we can compare columns with both constant numbers and other columns in WHERE clauses, we can also mix columns and constant strings when concatenating. For example:"
   ]
  },
  {
   "cell_type": "code",
   "execution_count": 36,
   "metadata": {},
   "outputs": [
    {
     "name": "stdout",
     "output_type": "stream",
     "text": [
      " * sqlite:///jobs.db\n",
      "Done.\n"
     ]
    },
    {
     "data": {
      "text/html": [
       "<table>\n",
       "    <tr>\n",
       "        <th>&#x27;Cat: &#x27; || Major_category</th>\n",
       "    </tr>\n",
       "    <tr>\n",
       "        <td>Cat: Engineering</td>\n",
       "    </tr>\n",
       "    <tr>\n",
       "        <td>Cat: Engineering</td>\n",
       "    </tr>\n",
       "</table>"
      ],
      "text/plain": [
       "[('Cat: Engineering',), ('Cat: Engineering',)]"
      ]
     },
     "execution_count": 36,
     "metadata": {},
     "output_type": "execute_result"
    }
   ],
   "source": [
    "%%sql\n",
    "\n",
    "SELECT 'Cat: ' || Major_category\n",
    "  FROM recent_grads\n",
    " LIMIT 2;\n"
   ]
  },
  {
   "cell_type": "markdown",
   "metadata": {},
   "source": [
    "In the following exercise, you'll use the LOWER function to replace the Major column with one where all values appear in lowercase letters. We use this just like the LENGTH function."
   ]
  },
  {
   "cell_type": "code",
   "execution_count": 39,
   "metadata": {},
   "outputs": [
    {
     "name": "stdout",
     "output_type": "stream",
     "text": [
      " * sqlite:///jobs.db\n",
      "Done.\n"
     ]
    },
    {
     "data": {
      "text/html": [
       "<table>\n",
       "    <tr>\n",
       "        <th>Major</th>\n",
       "        <th>Total</th>\n",
       "        <th>Men</th>\n",
       "        <th>Women</th>\n",
       "        <th>Unemployment_rate</th>\n",
       "        <th>Length_of_name</th>\n",
       "    </tr>\n",
       "    <tr>\n",
       "        <td>Major: nuclear engineering</td>\n",
       "        <td>2573</td>\n",
       "        <td>2200</td>\n",
       "        <td>373</td>\n",
       "        <td>0.177226407</td>\n",
       "        <td>19</td>\n",
       "    </tr>\n",
       "    <tr>\n",
       "        <td>Major: public administration</td>\n",
       "        <td>5629</td>\n",
       "        <td>2947</td>\n",
       "        <td>2682</td>\n",
       "        <td>0.15949059999999998</td>\n",
       "        <td>21</td>\n",
       "    </tr>\n",
       "    <tr>\n",
       "        <td>Major: computer networking and telecommunications</td>\n",
       "        <td>7613</td>\n",
       "        <td>5291</td>\n",
       "        <td>2322</td>\n",
       "        <td>0.151849807</td>\n",
       "        <td>42</td>\n",
       "    </tr>\n",
       "    <tr>\n",
       "        <td>Major: clinical psychology</td>\n",
       "        <td>2838</td>\n",
       "        <td>568</td>\n",
       "        <td>2270</td>\n",
       "        <td>0.14904819800000002</td>\n",
       "        <td>19</td>\n",
       "    </tr>\n",
       "    <tr>\n",
       "        <td>Major: public policy</td>\n",
       "        <td>5978</td>\n",
       "        <td>2695</td>\n",
       "        <td>905</td>\n",
       "        <td>0.128426299</td>\n",
       "        <td>13</td>\n",
       "    </tr>\n",
       "</table>"
      ],
      "text/plain": [
       "[('Major: nuclear engineering', 2573, 2200, 373, 0.177226407, 19),\n",
       " ('Major: public administration', 5629, 2947, 2682, 0.15949059999999998, 21),\n",
       " ('Major: computer networking and telecommunications', 7613, 5291, 2322, 0.151849807, 42),\n",
       " ('Major: clinical psychology', 2838, 568, 2270, 0.14904819800000002, 19),\n",
       " ('Major: public policy', 5978, 2695, 905, 0.128426299, 13)]"
      ]
     },
     "execution_count": 39,
     "metadata": {},
     "output_type": "execute_result"
    }
   ],
   "source": [
    "%%sql\n",
    "\n",
    "SELECT 'Major: ' || LOWER(Major) AS Major,\n",
    "        Total, Men, Women, Unemployment_rate,\n",
    "        LENGTH(Major) AS Length_of_name\n",
    "    FROM recent_grads\n",
    "    ORDER BY Unemployment_rate DESC\n",
    "    LIMIT 5;"
   ]
  },
  {
   "cell_type": "markdown",
   "metadata": {},
   "source": [
    "## Performing arithmetic in SQL\n",
    "\n",
    "Let's revisit one of the questions from the beginning of the mission:\n",
    "\n",
    "- Which majors had the largest spread (difference) between the 25th and 75th percentile starting salaries?\n",
    "\n",
    "In the same way that we can use string functions and operators, we can also perform arithmetic on the columns in a table. SQL supports the standard arithmetic operators: *, +, -, and /, and we can use them like any other operator:\n",
    "\n",
    "```\n",
    "SELECT P75th - P25th quartile_spread\n",
    "  FROM recent_grads\n",
    " LIMIT 10;\n",
    "```\n",
    "\n",
    "![img](img/quart.png)\n",
    "\n",
    "You can also add, subtract, multiply, or divide columns by individual values:\n",
    "\n"
   ]
  },
  {
   "cell_type": "code",
   "execution_count": 40,
   "metadata": {},
   "outputs": [
    {
     "name": "stdout",
     "output_type": "stream",
     "text": [
      " * sqlite:///jobs.db\n",
      "Done.\n"
     ]
    },
    {
     "data": {
      "text/html": [
       "<table>\n",
       "    <tr>\n",
       "        <th>percent_female</th>\n",
       "    </tr>\n",
       "    <tr>\n",
       "        <td>12.0564344</td>\n",
       "    </tr>\n",
       "    <tr>\n",
       "        <td>10.1851852</td>\n",
       "    </tr>\n",
       "    <tr>\n",
       "        <td>15.3037383</td>\n",
       "    </tr>\n",
       "    <tr>\n",
       "        <td>10.731319599999999</td>\n",
       "    </tr>\n",
       "    <tr>\n",
       "        <td>34.1630502</td>\n",
       "    </tr>\n",
       "    <tr>\n",
       "        <td>14.4966965</td>\n",
       "    </tr>\n",
       "    <tr>\n",
       "        <td>53.571428600000004</td>\n",
       "    </tr>\n",
       "    <tr>\n",
       "        <td>44.135557299999995</td>\n",
       "    </tr>\n",
       "    <tr>\n",
       "        <td>13.979280099999999</td>\n",
       "    </tr>\n",
       "    <tr>\n",
       "        <td>43.7846874</td>\n",
       "    </tr>\n",
       "</table>"
      ],
      "text/plain": [
       "[(12.0564344,),\n",
       " (10.1851852,),\n",
       " (15.3037383,),\n",
       " (10.731319599999999,),\n",
       " (34.1630502,),\n",
       " (14.4966965,),\n",
       " (53.571428600000004,),\n",
       " (44.135557299999995,),\n",
       " (13.979280099999999,),\n",
       " (43.7846874,)]"
      ]
     },
     "execution_count": 40,
     "metadata": {},
     "output_type": "execute_result"
    }
   ],
   "source": [
    "%%sql \n",
    "\n",
    "SELECT ShareWomen * 100 percent_female \n",
    "   FROM recent_grads \n",
    "  LIMIT 10"
   ]
  },
  {
   "cell_type": "markdown",
   "metadata": {},
   "source": [
    "One thing to note is that multiplying or dividing columns with a floating point value (or a column with floating point values) will result in floating point values:\n",
    "\n",
    "- Two floats — returns a float.\n",
    "    - SELECT 100.0 / 100.0 returns 1.0.\n",
    "- A float and an integer — returns a float\n",
    "    - SELECT 100 / 1.0 returns 100.0.\n",
    "- Two integers — returns an integer\n",
    "    - SELECT 100 / 10 returns 10"
   ]
  },
  {
   "cell_type": "markdown",
   "metadata": {},
   "source": [
    "*Write a query that computes the difference between the 25th and 75th percentiles of salaries for all majors.*"
   ]
  },
  {
   "cell_type": "code",
   "execution_count": 44,
   "metadata": {},
   "outputs": [
    {
     "name": "stdout",
     "output_type": "stream",
     "text": [
      " * sqlite:///jobs.db\n",
      "Done.\n"
     ]
    },
    {
     "data": {
      "text/html": [
       "<table>\n",
       "    <tr>\n",
       "        <th>Major</th>\n",
       "        <th>Major_category</th>\n",
       "        <th>quartile_spread</th>\n",
       "    </tr>\n",
       "    <tr>\n",
       "        <td>ASTRONOMY AND ASTROPHYSICS</td>\n",
       "        <td>Physical Sciences</td>\n",
       "        <td>-77500</td>\n",
       "    </tr>\n",
       "    <tr>\n",
       "        <td>PHARMACY PHARMACEUTICAL SCIENCES AND ADMINISTRATION</td>\n",
       "        <td>Health</td>\n",
       "        <td>-70000</td>\n",
       "    </tr>\n",
       "    <tr>\n",
       "        <td>METALLURGICAL ENGINEERING</td>\n",
       "        <td>Engineering</td>\n",
       "        <td>-55000</td>\n",
       "    </tr>\n",
       "    <tr>\n",
       "        <td>NUCLEAR ENGINEERING</td>\n",
       "        <td>Engineering</td>\n",
       "        <td>-52000</td>\n",
       "    </tr>\n",
       "    <tr>\n",
       "        <td>ENGINEERING MECHANICS PHYSICS AND SCIENCE</td>\n",
       "        <td>Engineering</td>\n",
       "        <td>-49000</td>\n",
       "    </tr>\n",
       "    <tr>\n",
       "        <td>MATHEMATICS AND COMPUTER SCIENCE</td>\n",
       "        <td>Computers &amp; Mathematics</td>\n",
       "        <td>-48000</td>\n",
       "    </tr>\n",
       "    <tr>\n",
       "        <td>MISCELLANEOUS FINE ARTS</td>\n",
       "        <td>Arts</td>\n",
       "        <td>-41000</td>\n",
       "    </tr>\n",
       "    <tr>\n",
       "        <td>COGNITIVE SCIENCE AND BIOPSYCHOLOGY</td>\n",
       "        <td>Biology &amp; Life Science</td>\n",
       "        <td>-40000</td>\n",
       "    </tr>\n",
       "    <tr>\n",
       "        <td>FOOD SCIENCE</td>\n",
       "        <td>Agriculture &amp; Natural Resources</td>\n",
       "        <td>-38000</td>\n",
       "    </tr>\n",
       "    <tr>\n",
       "        <td>PHYSICS</td>\n",
       "        <td>Physical Sciences</td>\n",
       "        <td>-38000</td>\n",
       "    </tr>\n",
       "    <tr>\n",
       "        <td>NAVAL ARCHITECTURE AND MARINE ENGINEERING</td>\n",
       "        <td>Engineering</td>\n",
       "        <td>-37000</td>\n",
       "    </tr>\n",
       "    <tr>\n",
       "        <td>PUBLIC ADMINISTRATION</td>\n",
       "        <td>Law &amp; Public Policy</td>\n",
       "        <td>-37000</td>\n",
       "    </tr>\n",
       "    <tr>\n",
       "        <td>BIOLOGICAL ENGINEERING</td>\n",
       "        <td>Engineering</td>\n",
       "        <td>-36000</td>\n",
       "    </tr>\n",
       "    <tr>\n",
       "        <td>MINING AND MINERAL ENGINEERING</td>\n",
       "        <td>Engineering</td>\n",
       "        <td>-35000</td>\n",
       "    </tr>\n",
       "    <tr>\n",
       "        <td>PUBLIC POLICY</td>\n",
       "        <td>Law &amp; Public Policy</td>\n",
       "        <td>-35000</td>\n",
       "    </tr>\n",
       "    <tr>\n",
       "        <td>MEDICAL ASSISTING SERVICES</td>\n",
       "        <td>Health</td>\n",
       "        <td>-35000</td>\n",
       "    </tr>\n",
       "    <tr>\n",
       "        <td>BIOMEDICAL ENGINEERING</td>\n",
       "        <td>Engineering</td>\n",
       "        <td>-34000</td>\n",
       "    </tr>\n",
       "    <tr>\n",
       "        <td>STATISTICS AND DECISION SCIENCE</td>\n",
       "        <td>Computers &amp; Mathematics</td>\n",
       "        <td>-33300</td>\n",
       "    </tr>\n",
       "    <tr>\n",
       "        <td>GENERAL ENGINEERING</td>\n",
       "        <td>Engineering</td>\n",
       "        <td>-33000</td>\n",
       "    </tr>\n",
       "    <tr>\n",
       "        <td>COMPUTER SCIENCE</td>\n",
       "        <td>Computers &amp; Mathematics</td>\n",
       "        <td>-31000</td>\n",
       "    </tr>\n",
       "</table>"
      ],
      "text/plain": [
       "[('ASTRONOMY AND ASTROPHYSICS', 'Physical Sciences', -77500),\n",
       " ('PHARMACY PHARMACEUTICAL SCIENCES AND ADMINISTRATION', 'Health', -70000),\n",
       " ('METALLURGICAL ENGINEERING', 'Engineering', -55000),\n",
       " ('NUCLEAR ENGINEERING', 'Engineering', -52000),\n",
       " ('ENGINEERING MECHANICS PHYSICS AND SCIENCE', 'Engineering', -49000),\n",
       " ('MATHEMATICS AND COMPUTER SCIENCE', 'Computers & Mathematics', -48000),\n",
       " ('MISCELLANEOUS FINE ARTS', 'Arts', -41000),\n",
       " ('COGNITIVE SCIENCE AND BIOPSYCHOLOGY', 'Biology & Life Science', -40000),\n",
       " ('FOOD SCIENCE', 'Agriculture & Natural Resources', -38000),\n",
       " ('PHYSICS', 'Physical Sciences', -38000),\n",
       " ('NAVAL ARCHITECTURE AND MARINE ENGINEERING', 'Engineering', -37000),\n",
       " ('PUBLIC ADMINISTRATION', 'Law & Public Policy', -37000),\n",
       " ('BIOLOGICAL ENGINEERING', 'Engineering', -36000),\n",
       " ('MINING AND MINERAL ENGINEERING', 'Engineering', -35000),\n",
       " ('PUBLIC POLICY', 'Law & Public Policy', -35000),\n",
       " ('MEDICAL ASSISTING SERVICES', 'Health', -35000),\n",
       " ('BIOMEDICAL ENGINEERING', 'Engineering', -34000),\n",
       " ('STATISTICS AND DECISION SCIENCE', 'Computers & Mathematics', -33300),\n",
       " ('GENERAL ENGINEERING', 'Engineering', -33000),\n",
       " ('COMPUTER SCIENCE', 'Computers & Mathematics', -31000)]"
      ]
     },
     "execution_count": 44,
     "metadata": {},
     "output_type": "execute_result"
    }
   ],
   "source": [
    "%%sql\n",
    "\n",
    "SELECT Major, Major_category,\n",
    "       P25th - P75th AS quartile_spread\n",
    "  FROM recent_grads\n",
    "  ORDER BY quartile_spread ASC\n",
    "  LIMIT 20"
   ]
  }
 ],
 "metadata": {
  "kernelspec": {
   "display_name": "Python 3",
   "language": "python",
   "name": "python3"
  },
  "language_info": {
   "codemirror_mode": {
    "name": "ipython",
    "version": 3
   },
   "file_extension": ".py",
   "mimetype": "text/x-python",
   "name": "python",
   "nbconvert_exporter": "python",
   "pygments_lexer": "ipython3",
   "version": "3.8.3"
  }
 },
 "nbformat": 4,
 "nbformat_minor": 4
}
