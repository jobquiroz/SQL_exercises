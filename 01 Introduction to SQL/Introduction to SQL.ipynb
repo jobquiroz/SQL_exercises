{
 "cells": [
  {
   "cell_type": "markdown",
   "metadata": {},
   "source": [
    "Structured Query Language, or SQL, is more than forty years old, and it is one of the most popular technologies used by data professionals, including data analysts, data scientists, and data engineers. Understanding the fundamentals of a more general-purpose language like Python or R is critical for working with data, but knowing SQL helps data professionals do more with their data. And if working with R or Python is one of your goals, SQL can help gather insights from data.\n",
    "\n",
    "Here are a few key reasons why learning SQL will help anybody interested in working with data.\n",
    "\n",
    "**SQL is everywhere.**\n",
    "\n",
    "Almost all of the biggest names in tech use SQL — which is pronounced either “sequel” or “S.Q.L.” Companies like Facebook, Google, and Amazon have built their own high-performance database systems, but even their data teams use SQL to query data and perform data analysis. And it’s not just tech companies: companies big and small around the world use SQL.\n",
    "\n",
    "**SQL enables us to pull data from many sources.**\n",
    "\n",
    "In many real-word situations, data is distributed across many sources. SQL allows us to select specific data and transform it to fit our needs. For example, working with spreadsheets can be difficult if the data we need to answer our question is distributed across many files. SQL allows us to structure our data in a way that makes it accessible from one place.\n",
    "\n",
    "\n",
    "![img](img/sql.png)\n",
    "\n",
    "\n",
    "SQL data is structured into multiple, connected tables.\n",
    "\n",
    "**SQL is here to stay.**\n",
    "\n",
    "The Stack Overflow annual Developer Survey, which is the largest and most comprehensive survey of programmers around the world, consistently reveals that SQL is one of the most popular technologies used today.\n",
    "\n",
    "Check out this Dataquest blog post if you'd like to learn more about why it's important to learn SQL. And if you'd like to learn more about how to learn SQL online with Dataquest, check out this blog post for some tips and tricks to learn SQL online.\n",
    "\n",
    "So, let's learn about the language itself and how you can use it to query data.\n"
   ]
  },
  {
   "cell_type": "markdown",
   "metadata": {},
   "source": [
    "### Introduction to databases\n",
    "\n",
    " A database structures data just like a spreadsheet by organizing data in different tables, which are comprised of rows and columns. \n",
    " \n",
    " A database can store much more data more securely than a spreadsheet or a text file. Unlike simply opening a spreadsheet, we actually have to \"ask\" for data from the database.\n",
    "\n",
    "We primarily interact with a database using a database management system (DBMS) — a computer program to help users interact with data by giving the computer instructions through the DBMS.\n",
    "\n",
    "We'll begin learning SQL with the DBMS SQLite. SQLite is a lightweight DBMS, and it is the most popular database in the world."
   ]
  },
  {
   "cell_type": "markdown",
   "metadata": {},
   "source": [
    "## Set up"
   ]
  },
  {
   "cell_type": "code",
   "execution_count": 1,
   "metadata": {},
   "outputs": [],
   "source": [
    "# !pip install ipython-sql"
   ]
  },
  {
   "cell_type": "code",
   "execution_count": 2,
   "metadata": {},
   "outputs": [],
   "source": [
    "# !pip install SQLAlchemy\n",
    "# https://ifeadewumi.medium.com/how-to-run-sql-queries-from-jupyter-a1bf2d040c83"
   ]
  },
  {
   "cell_type": "code",
   "execution_count": 3,
   "metadata": {},
   "outputs": [],
   "source": [
    "%%capture\n",
    "%load_ext sql\n",
    "%sql sqlite:///jobs.db"
   ]
  },
  {
   "cell_type": "markdown",
   "metadata": {},
   "source": [
    "## The first query\n",
    "\n",
    "In this course, we'll explore data from the American Community Survey on job outcome statistics based on college majors that we loaded into a SQLite database.\n",
    "\n",
    "Here are its first three rows:\n",
    "\n",
    "![img](img/rows.png)\n",
    "\n",
    "\n",
    "In this table, each row represents a major, and each column gives us some information about that major. Head to the dataset page to become familiar with what each column represents.\n",
    "\n",
    "We provide a database, jobs.db, loaded with this data into a single table named recent_grads (in the next course, we'll learn how to work with a database containing multiple tables.)\n",
    "\n",
    "![img](img/table.png)\n",
    "\n",
    "\n",
    "In this screen's exercise we'll ask you to submit the SQL instruction (usually called a query) below. This query selects all columns from the recent_grads table.\n"
   ]
  },
  {
   "cell_type": "code",
   "execution_count": 19,
   "metadata": {},
   "outputs": [
    {
     "name": "stdout",
     "output_type": "stream",
     "text": [
      " * sqlite:///jobs.db\n",
      "Done.\n"
     ]
    },
    {
     "data": {
      "text/html": [
       "<table>\n",
       "    <tr>\n",
       "        <th>index</th>\n",
       "        <th>Rank</th>\n",
       "        <th>Major_code</th>\n",
       "        <th>Major</th>\n",
       "        <th>Major_category</th>\n",
       "        <th>Total</th>\n",
       "        <th>Sample_size</th>\n",
       "        <th>Men</th>\n",
       "        <th>Women</th>\n",
       "        <th>ShareWomen</th>\n",
       "        <th>Employed</th>\n",
       "        <th>Full_time</th>\n",
       "        <th>Part_time</th>\n",
       "        <th>Full_time_year_round</th>\n",
       "        <th>Unemployed</th>\n",
       "        <th>Unemployment_rate</th>\n",
       "        <th>Median</th>\n",
       "        <th>P25th</th>\n",
       "        <th>P75th</th>\n",
       "        <th>College_jobs</th>\n",
       "        <th>Non_college_jobs</th>\n",
       "        <th>Low_wage_jobs</th>\n",
       "    </tr>\n",
       "    <tr>\n",
       "        <td>0</td>\n",
       "        <td>1</td>\n",
       "        <td>2419</td>\n",
       "        <td>PETROLEUM ENGINEERING</td>\n",
       "        <td>Engineering</td>\n",
       "        <td>2339</td>\n",
       "        <td>36</td>\n",
       "        <td>2057</td>\n",
       "        <td>282</td>\n",
       "        <td>0.120564344</td>\n",
       "        <td>1976</td>\n",
       "        <td>1849</td>\n",
       "        <td>270</td>\n",
       "        <td>1207</td>\n",
       "        <td>37</td>\n",
       "        <td>0.018380527</td>\n",
       "        <td>110000</td>\n",
       "        <td>95000</td>\n",
       "        <td>125000</td>\n",
       "        <td>1534</td>\n",
       "        <td>364</td>\n",
       "        <td>193</td>\n",
       "    </tr>\n",
       "    <tr>\n",
       "        <td>1</td>\n",
       "        <td>2</td>\n",
       "        <td>2416</td>\n",
       "        <td>MINING AND MINERAL ENGINEERING</td>\n",
       "        <td>Engineering</td>\n",
       "        <td>756</td>\n",
       "        <td>7</td>\n",
       "        <td>679</td>\n",
       "        <td>77</td>\n",
       "        <td>0.10185185199999999</td>\n",
       "        <td>640</td>\n",
       "        <td>556</td>\n",
       "        <td>170</td>\n",
       "        <td>388</td>\n",
       "        <td>85</td>\n",
       "        <td>0.117241379</td>\n",
       "        <td>75000</td>\n",
       "        <td>55000</td>\n",
       "        <td>90000</td>\n",
       "        <td>350</td>\n",
       "        <td>257</td>\n",
       "        <td>50</td>\n",
       "    </tr>\n",
       "    <tr>\n",
       "        <td>2</td>\n",
       "        <td>3</td>\n",
       "        <td>2415</td>\n",
       "        <td>METALLURGICAL ENGINEERING</td>\n",
       "        <td>Engineering</td>\n",
       "        <td>856</td>\n",
       "        <td>3</td>\n",
       "        <td>725</td>\n",
       "        <td>131</td>\n",
       "        <td>0.153037383</td>\n",
       "        <td>648</td>\n",
       "        <td>558</td>\n",
       "        <td>133</td>\n",
       "        <td>340</td>\n",
       "        <td>16</td>\n",
       "        <td>0.024096386</td>\n",
       "        <td>73000</td>\n",
       "        <td>50000</td>\n",
       "        <td>105000</td>\n",
       "        <td>456</td>\n",
       "        <td>176</td>\n",
       "        <td>0</td>\n",
       "    </tr>\n",
       "    <tr>\n",
       "        <td>3</td>\n",
       "        <td>4</td>\n",
       "        <td>2417</td>\n",
       "        <td>NAVAL ARCHITECTURE AND MARINE ENGINEERING</td>\n",
       "        <td>Engineering</td>\n",
       "        <td>1258</td>\n",
       "        <td>16</td>\n",
       "        <td>1123</td>\n",
       "        <td>135</td>\n",
       "        <td>0.107313196</td>\n",
       "        <td>758</td>\n",
       "        <td>1069</td>\n",
       "        <td>150</td>\n",
       "        <td>692</td>\n",
       "        <td>40</td>\n",
       "        <td>0.050125313</td>\n",
       "        <td>70000</td>\n",
       "        <td>43000</td>\n",
       "        <td>80000</td>\n",
       "        <td>529</td>\n",
       "        <td>102</td>\n",
       "        <td>0</td>\n",
       "    </tr>\n",
       "    <tr>\n",
       "        <td>4</td>\n",
       "        <td>5</td>\n",
       "        <td>2405</td>\n",
       "        <td>CHEMICAL ENGINEERING</td>\n",
       "        <td>Engineering</td>\n",
       "        <td>32260</td>\n",
       "        <td>289</td>\n",
       "        <td>21239</td>\n",
       "        <td>11021</td>\n",
       "        <td>0.341630502</td>\n",
       "        <td>25694</td>\n",
       "        <td>23170</td>\n",
       "        <td>5180</td>\n",
       "        <td>16697</td>\n",
       "        <td>1672</td>\n",
       "        <td>0.061097712</td>\n",
       "        <td>65000</td>\n",
       "        <td>50000</td>\n",
       "        <td>75000</td>\n",
       "        <td>18314</td>\n",
       "        <td>4440</td>\n",
       "        <td>972</td>\n",
       "    </tr>\n",
       "</table>"
      ],
      "text/plain": [
       "[(0, 1, 2419, 'PETROLEUM ENGINEERING', 'Engineering', 2339, 36, 2057, 282, 0.120564344, 1976, 1849, 270, 1207, 37, 0.018380527, 110000, 95000, 125000, 1534, 364, 193),\n",
       " (1, 2, 2416, 'MINING AND MINERAL ENGINEERING', 'Engineering', 756, 7, 679, 77, 0.10185185199999999, 640, 556, 170, 388, 85, 0.117241379, 75000, 55000, 90000, 350, 257, 50),\n",
       " (2, 3, 2415, 'METALLURGICAL ENGINEERING', 'Engineering', 856, 3, 725, 131, 0.153037383, 648, 558, 133, 340, 16, 0.024096386, 73000, 50000, 105000, 456, 176, 0),\n",
       " (3, 4, 2417, 'NAVAL ARCHITECTURE AND MARINE ENGINEERING', 'Engineering', 1258, 16, 1123, 135, 0.107313196, 758, 1069, 150, 692, 40, 0.050125313, 70000, 43000, 80000, 529, 102, 0),\n",
       " (4, 5, 2405, 'CHEMICAL ENGINEERING', 'Engineering', 32260, 289, 21239, 11021, 0.341630502, 25694, 23170, 5180, 16697, 1672, 0.061097712, 65000, 50000, 75000, 18314, 4440, 972)]"
      ]
     },
     "execution_count": 19,
     "metadata": {},
     "output_type": "execute_result"
    }
   ],
   "source": [
    "%%sql\n",
    "\n",
    "SELECT *\n",
    "FROM recent_grads\n",
    "LIMIT 5;"
   ]
  },
  {
   "cell_type": "markdown",
   "metadata": {},
   "source": [
    "The order of the different words in this query and the space between SELECT, *, FROM, and recent_grads are crucial features of SQL syntax. If we don't follow the syntax, the database will probably not return the information we want.\n",
    "\n",
    "The ; character signals the end of the query, but it isn't mandatory.\n",
    "\n",
    "Here's a visual breakdown of the different components of the query:\n",
    "\n",
    "![img](img/component.png)\n",
    "\n",
    "You may have noticed that SELECT and FROM use uppercase letters. This isn't required, but it makes your code easier to read.\n",
    "\n",
    "A couple of other elements that aren't required are the line change and indentation right before FROM. The reason why we changed lines and indented this query is the same as above: stylistic conventions."
   ]
  },
  {
   "cell_type": "markdown",
   "metadata": {},
   "source": [
    "### The LIMIT Clause\n",
    "\n",
    "Think of a clause as an optional reserved word that doesn't need to be in the code for the query to execute successfully.\n",
    "\n",
    "Here's how we can use it to retrieve the first three rows (that we saw in a previous screen)."
   ]
  },
  {
   "cell_type": "code",
   "execution_count": 5,
   "metadata": {},
   "outputs": [
    {
     "name": "stdout",
     "output_type": "stream",
     "text": [
      " * sqlite:///jobs.db\n",
      "Done.\n"
     ]
    },
    {
     "data": {
      "text/html": [
       "<table>\n",
       "    <tr>\n",
       "        <th>index</th>\n",
       "        <th>Rank</th>\n",
       "        <th>Major_code</th>\n",
       "        <th>Major</th>\n",
       "        <th>Major_category</th>\n",
       "        <th>Total</th>\n",
       "        <th>Sample_size</th>\n",
       "        <th>Men</th>\n",
       "        <th>Women</th>\n",
       "        <th>ShareWomen</th>\n",
       "        <th>Employed</th>\n",
       "        <th>Full_time</th>\n",
       "        <th>Part_time</th>\n",
       "        <th>Full_time_year_round</th>\n",
       "        <th>Unemployed</th>\n",
       "        <th>Unemployment_rate</th>\n",
       "        <th>Median</th>\n",
       "        <th>P25th</th>\n",
       "        <th>P75th</th>\n",
       "        <th>College_jobs</th>\n",
       "        <th>Non_college_jobs</th>\n",
       "        <th>Low_wage_jobs</th>\n",
       "    </tr>\n",
       "    <tr>\n",
       "        <td>0</td>\n",
       "        <td>1</td>\n",
       "        <td>2419</td>\n",
       "        <td>PETROLEUM ENGINEERING</td>\n",
       "        <td>Engineering</td>\n",
       "        <td>2339</td>\n",
       "        <td>36</td>\n",
       "        <td>2057</td>\n",
       "        <td>282</td>\n",
       "        <td>0.120564344</td>\n",
       "        <td>1976</td>\n",
       "        <td>1849</td>\n",
       "        <td>270</td>\n",
       "        <td>1207</td>\n",
       "        <td>37</td>\n",
       "        <td>0.018380527</td>\n",
       "        <td>110000</td>\n",
       "        <td>95000</td>\n",
       "        <td>125000</td>\n",
       "        <td>1534</td>\n",
       "        <td>364</td>\n",
       "        <td>193</td>\n",
       "    </tr>\n",
       "    <tr>\n",
       "        <td>1</td>\n",
       "        <td>2</td>\n",
       "        <td>2416</td>\n",
       "        <td>MINING AND MINERAL ENGINEERING</td>\n",
       "        <td>Engineering</td>\n",
       "        <td>756</td>\n",
       "        <td>7</td>\n",
       "        <td>679</td>\n",
       "        <td>77</td>\n",
       "        <td>0.10185185199999999</td>\n",
       "        <td>640</td>\n",
       "        <td>556</td>\n",
       "        <td>170</td>\n",
       "        <td>388</td>\n",
       "        <td>85</td>\n",
       "        <td>0.117241379</td>\n",
       "        <td>75000</td>\n",
       "        <td>55000</td>\n",
       "        <td>90000</td>\n",
       "        <td>350</td>\n",
       "        <td>257</td>\n",
       "        <td>50</td>\n",
       "    </tr>\n",
       "    <tr>\n",
       "        <td>2</td>\n",
       "        <td>3</td>\n",
       "        <td>2415</td>\n",
       "        <td>METALLURGICAL ENGINEERING</td>\n",
       "        <td>Engineering</td>\n",
       "        <td>856</td>\n",
       "        <td>3</td>\n",
       "        <td>725</td>\n",
       "        <td>131</td>\n",
       "        <td>0.153037383</td>\n",
       "        <td>648</td>\n",
       "        <td>558</td>\n",
       "        <td>133</td>\n",
       "        <td>340</td>\n",
       "        <td>16</td>\n",
       "        <td>0.024096386</td>\n",
       "        <td>73000</td>\n",
       "        <td>50000</td>\n",
       "        <td>105000</td>\n",
       "        <td>456</td>\n",
       "        <td>176</td>\n",
       "        <td>0</td>\n",
       "    </tr>\n",
       "</table>"
      ],
      "text/plain": [
       "[(0, 1, 2419, 'PETROLEUM ENGINEERING', 'Engineering', 2339, 36, 2057, 282, 0.120564344, 1976, 1849, 270, 1207, 37, 0.018380527, 110000, 95000, 125000, 1534, 364, 193),\n",
       " (1, 2, 2416, 'MINING AND MINERAL ENGINEERING', 'Engineering', 756, 7, 679, 77, 0.10185185199999999, 640, 556, 170, 388, 85, 0.117241379, 75000, 55000, 90000, 350, 257, 50),\n",
       " (2, 3, 2415, 'METALLURGICAL ENGINEERING', 'Engineering', 856, 3, 725, 131, 0.153037383, 648, 558, 133, 340, 16, 0.024096386, 73000, 50000, 105000, 456, 176, 0)]"
      ]
     },
     "execution_count": 5,
     "metadata": {},
     "output_type": "execute_result"
    }
   ],
   "source": [
    "%%sql\n",
    "\n",
    "SELECT *\n",
    "  FROM recent_grads\n",
    "  LIMIT 3"
   ]
  },
  {
   "cell_type": "markdown",
   "metadata": {},
   "source": [
    "## Selecting specific columns\n",
    "\n",
    "Often, we'll only want to look at data from specific columns. To return only the Major column, we need to add the specific column name in the SELECT statement part of the query (instead of using the * character to return all columns):"
   ]
  },
  {
   "cell_type": "code",
   "execution_count": 6,
   "metadata": {},
   "outputs": [
    {
     "name": "stdout",
     "output_type": "stream",
     "text": [
      " * sqlite:///jobs.db\n",
      "Done.\n"
     ]
    },
    {
     "data": {
      "text/html": [
       "<table>\n",
       "    <tr>\n",
       "        <th>Major</th>\n",
       "    </tr>\n",
       "    <tr>\n",
       "        <td>PETROLEUM ENGINEERING</td>\n",
       "    </tr>\n",
       "    <tr>\n",
       "        <td>MINING AND MINERAL ENGINEERING</td>\n",
       "    </tr>\n",
       "    <tr>\n",
       "        <td>METALLURGICAL ENGINEERING</td>\n",
       "    </tr>\n",
       "    <tr>\n",
       "        <td>NAVAL ARCHITECTURE AND MARINE ENGINEERING</td>\n",
       "    </tr>\n",
       "    <tr>\n",
       "        <td>CHEMICAL ENGINEERING</td>\n",
       "    </tr>\n",
       "</table>"
      ],
      "text/plain": [
       "[('PETROLEUM ENGINEERING',),\n",
       " ('MINING AND MINERAL ENGINEERING',),\n",
       " ('METALLURGICAL ENGINEERING',),\n",
       " ('NAVAL ARCHITECTURE AND MARINE ENGINEERING',),\n",
       " ('CHEMICAL ENGINEERING',)]"
      ]
     },
     "execution_count": 6,
     "metadata": {},
     "output_type": "execute_result"
    }
   ],
   "source": [
    "%%sql\n",
    "\n",
    "SELECT Major\n",
    "  FROM recent_grads\n",
    "  LIMIT 5;"
   ]
  },
  {
   "cell_type": "markdown",
   "metadata": {},
   "source": [
    "We can specify multiple columns this way, and the results table will preserve the order of the columns:"
   ]
  },
  {
   "cell_type": "code",
   "execution_count": 7,
   "metadata": {},
   "outputs": [
    {
     "name": "stdout",
     "output_type": "stream",
     "text": [
      " * sqlite:///jobs.db\n",
      "Done.\n"
     ]
    },
    {
     "data": {
      "text/html": [
       "<table>\n",
       "    <tr>\n",
       "        <th>Major</th>\n",
       "        <th>Major_category</th>\n",
       "    </tr>\n",
       "    <tr>\n",
       "        <td>PETROLEUM ENGINEERING</td>\n",
       "        <td>Engineering</td>\n",
       "    </tr>\n",
       "    <tr>\n",
       "        <td>MINING AND MINERAL ENGINEERING</td>\n",
       "        <td>Engineering</td>\n",
       "    </tr>\n",
       "    <tr>\n",
       "        <td>METALLURGICAL ENGINEERING</td>\n",
       "        <td>Engineering</td>\n",
       "    </tr>\n",
       "    <tr>\n",
       "        <td>NAVAL ARCHITECTURE AND MARINE ENGINEERING</td>\n",
       "        <td>Engineering</td>\n",
       "    </tr>\n",
       "    <tr>\n",
       "        <td>CHEMICAL ENGINEERING</td>\n",
       "        <td>Engineering</td>\n",
       "    </tr>\n",
       "</table>"
      ],
      "text/plain": [
       "[('PETROLEUM ENGINEERING', 'Engineering'),\n",
       " ('MINING AND MINERAL ENGINEERING', 'Engineering'),\n",
       " ('METALLURGICAL ENGINEERING', 'Engineering'),\n",
       " ('NAVAL ARCHITECTURE AND MARINE ENGINEERING', 'Engineering'),\n",
       " ('CHEMICAL ENGINEERING', 'Engineering')]"
      ]
     },
     "execution_count": 7,
     "metadata": {},
     "output_type": "execute_result"
    }
   ],
   "source": [
    "%%sql\n",
    "\n",
    "SELECT Major, Major_category\n",
    "  FROM recent_grads\n",
    "  LIMIT 5;"
   ]
  },
  {
   "cell_type": "markdown",
   "metadata": {},
   "source": [
    "## Filtering rows using WHERE\n",
    "\n",
    "Next, let's use SQL to answer a more specific question: which majors had students who were mostly women?\n",
    "\n",
    "The SQL workflow translates the question we want to answer to the subset of data we want from the database. To determine which majors had mostly students who were women, we want the following subset:\n",
    "\n",
    "- Only the Major columns\n",
    "- Only the rows where ShareWomen is greater than 0.5 (corresponding to 50%)\n",
    "\n",
    "To filter rows by specific criteria, we can use the **WHERE statement**. A WHERE statement commonly uses three things:\n",
    "\n",
    "- The column we want the database to filter on: `ShareWomen`\n",
    "-  A comparison operator that specifies how we want to compare a value in a column: `>=`\n",
    "- The value against which we want the database to compare each value: `0.5`\n",
    "\n",
    "Here are the comparison operators we can use:\n",
    "\n",
    "- Less than: `<`\n",
    "- Less than or equal to: `<=`\n",
    "- Greater than: `>`\n",
    "- Greater than or equal to: `>=`\n",
    "- Equal to: `=`\n",
    "- Not equal to: `!=` or `<>`\n",
    "\n",
    "To return only the values where ShareWomen is greater than or equal to 0.5, we can use the following WHERE clause:"
   ]
  },
  {
   "cell_type": "code",
   "execution_count": 8,
   "metadata": {},
   "outputs": [
    {
     "name": "stdout",
     "output_type": "stream",
     "text": [
      " * sqlite:///jobs.db\n",
      "Done.\n"
     ]
    },
    {
     "data": {
      "text/html": [
       "<table>\n",
       "    <tr>\n",
       "        <th>Major</th>\n",
       "    </tr>\n",
       "    <tr>\n",
       "        <td>ACTUARIAL SCIENCE</td>\n",
       "    </tr>\n",
       "    <tr>\n",
       "        <td>COMPUTER SCIENCE</td>\n",
       "    </tr>\n",
       "    <tr>\n",
       "        <td>ENVIRONMENTAL ENGINEERING</td>\n",
       "    </tr>\n",
       "    <tr>\n",
       "        <td>NURSING</td>\n",
       "    </tr>\n",
       "    <tr>\n",
       "        <td>INDUSTRIAL PRODUCTION TECHNOLOGIES</td>\n",
       "    </tr>\n",
       "</table>"
      ],
      "text/plain": [
       "[('ACTUARIAL SCIENCE',),\n",
       " ('COMPUTER SCIENCE',),\n",
       " ('ENVIRONMENTAL ENGINEERING',),\n",
       " ('NURSING',),\n",
       " ('INDUSTRIAL PRODUCTION TECHNOLOGIES',)]"
      ]
     },
     "execution_count": 8,
     "metadata": {},
     "output_type": "execute_result"
    }
   ],
   "source": [
    "%%sql\n",
    "\n",
    "SELECT Major \n",
    "  FROM recent_grads\n",
    " WHERE ShareWomen >= 0.5\n",
    " LIMIT 5;"
   ]
  },
  {
   "cell_type": "markdown",
   "metadata": {},
   "source": [
    "Here's a breakdown of the different components:\n",
    "\n",
    "![img](img/where.png)\n",
    "\n",
    "We express the specific column we want in the SELECT part of the query and the specific rows we want in the WHERE part. Note that most database systems require that the SELECT and FROM statements come first, before WHERE or any other statements.\n",
    "\n",
    "*Write a SQL query that returns the majors in the recent_grads table where students who were men outnumbered students who were women.*"
   ]
  },
  {
   "cell_type": "code",
   "execution_count": 9,
   "metadata": {},
   "outputs": [
    {
     "name": "stdout",
     "output_type": "stream",
     "text": [
      " * sqlite:///jobs.db\n",
      "Done.\n"
     ]
    },
    {
     "data": {
      "text/html": [
       "<table>\n",
       "    <tr>\n",
       "        <th>Major</th>\n",
       "        <th>ShareWomen</th>\n",
       "    </tr>\n",
       "    <tr>\n",
       "        <td>PETROLEUM ENGINEERING</td>\n",
       "        <td>0.120564344</td>\n",
       "    </tr>\n",
       "    <tr>\n",
       "        <td>MINING AND MINERAL ENGINEERING</td>\n",
       "        <td>0.10185185199999999</td>\n",
       "    </tr>\n",
       "    <tr>\n",
       "        <td>METALLURGICAL ENGINEERING</td>\n",
       "        <td>0.153037383</td>\n",
       "    </tr>\n",
       "    <tr>\n",
       "        <td>NAVAL ARCHITECTURE AND MARINE ENGINEERING</td>\n",
       "        <td>0.107313196</td>\n",
       "    </tr>\n",
       "    <tr>\n",
       "        <td>CHEMICAL ENGINEERING</td>\n",
       "        <td>0.341630502</td>\n",
       "    </tr>\n",
       "</table>"
      ],
      "text/plain": [
       "[('PETROLEUM ENGINEERING', 0.120564344),\n",
       " ('MINING AND MINERAL ENGINEERING', 0.10185185199999999),\n",
       " ('METALLURGICAL ENGINEERING', 0.153037383),\n",
       " ('NAVAL ARCHITECTURE AND MARINE ENGINEERING', 0.107313196),\n",
       " ('CHEMICAL ENGINEERING', 0.341630502)]"
      ]
     },
     "execution_count": 9,
     "metadata": {},
     "output_type": "execute_result"
    }
   ],
   "source": [
    "%%sql\n",
    "\n",
    "SELECT Major, ShareWomen\n",
    "  FROM recent_grads\n",
    "  WHERE ShareWomen < 0.5\n",
    "  LIMIT 5;"
   ]
  },
  {
   "cell_type": "markdown",
   "metadata": {},
   "source": [
    "## Expressing multiple filter criteria using 'AND'\n",
    "\n",
    "In the previous exercise, we wrote a query to return majors where students who were men outnumbered students who were women:\n",
    "\n",
    "The comparison value after the `<` operator must be either text or a number, depending on the field. Because ShareWomen is a numeric column, we just write the number 0.5.\n",
    "\n",
    "For text values, we need to enclose the value in quotes. For example, if we wanted to select only the rows where the Major_category equaled Engineering, we would write the following:"
   ]
  },
  {
   "cell_type": "code",
   "execution_count": 10,
   "metadata": {},
   "outputs": [
    {
     "name": "stdout",
     "output_type": "stream",
     "text": [
      " * sqlite:///jobs.db\n",
      "Done.\n"
     ]
    },
    {
     "data": {
      "text/html": [
       "<table>\n",
       "    <tr>\n",
       "        <th>Major</th>\n",
       "    </tr>\n",
       "    <tr>\n",
       "        <td>PETROLEUM ENGINEERING</td>\n",
       "    </tr>\n",
       "    <tr>\n",
       "        <td>MINING AND MINERAL ENGINEERING</td>\n",
       "    </tr>\n",
       "    <tr>\n",
       "        <td>METALLURGICAL ENGINEERING</td>\n",
       "    </tr>\n",
       "    <tr>\n",
       "        <td>NAVAL ARCHITECTURE AND MARINE ENGINEERING</td>\n",
       "    </tr>\n",
       "    <tr>\n",
       "        <td>CHEMICAL ENGINEERING</td>\n",
       "    </tr>\n",
       "</table>"
      ],
      "text/plain": [
       "[('PETROLEUM ENGINEERING',),\n",
       " ('MINING AND MINERAL ENGINEERING',),\n",
       " ('METALLURGICAL ENGINEERING',),\n",
       " ('NAVAL ARCHITECTURE AND MARINE ENGINEERING',),\n",
       " ('CHEMICAL ENGINEERING',)]"
      ]
     },
     "execution_count": 10,
     "metadata": {},
     "output_type": "execute_result"
    }
   ],
   "source": [
    "%%sql\n",
    "\n",
    "SELECT Major\n",
    "  FROM recent_grads\n",
    "  WHERE Major_category = 'Engineering'\n",
    "  LIMIT 5;"
   ]
  },
  {
   "cell_type": "markdown",
   "metadata": {},
   "source": [
    "We can also use the `AND` operator to combine multiple filter criteria. For example, to determine which engineering majors had a majority of female students, we specify two filtering criteria:"
   ]
  },
  {
   "cell_type": "code",
   "execution_count": 11,
   "metadata": {},
   "outputs": [
    {
     "name": "stdout",
     "output_type": "stream",
     "text": [
      " * sqlite:///jobs.db\n",
      "Done.\n"
     ]
    },
    {
     "data": {
      "text/html": [
       "<table>\n",
       "    <tr>\n",
       "        <th>Major</th>\n",
       "    </tr>\n",
       "    <tr>\n",
       "        <td>ENVIRONMENTAL ENGINEERING</td>\n",
       "    </tr>\n",
       "    <tr>\n",
       "        <td>INDUSTRIAL PRODUCTION TECHNOLOGIES</td>\n",
       "    </tr>\n",
       "</table>"
      ],
      "text/plain": [
       "[('ENVIRONMENTAL ENGINEERING',), ('INDUSTRIAL PRODUCTION TECHNOLOGIES',)]"
      ]
     },
     "execution_count": 11,
     "metadata": {},
     "output_type": "execute_result"
    }
   ],
   "source": [
    "%%sql\n",
    "\n",
    "SELECT Major\n",
    "  FROM recent_grads\n",
    "  WHERE Major_category = 'Engineering' AND Sharewomen > 0.5\n",
    "  LIMIT 5;"
   ]
  },
  {
   "cell_type": "markdown",
   "metadata": {},
   "source": [
    "*Write a SQL query that returns all majors that had a majority of female students and a median salary greater than `50000`.*"
   ]
  },
  {
   "cell_type": "code",
   "execution_count": 12,
   "metadata": {},
   "outputs": [
    {
     "name": "stdout",
     "output_type": "stream",
     "text": [
      " * sqlite:///jobs.db\n",
      "Done.\n"
     ]
    },
    {
     "data": {
      "text/html": [
       "<table>\n",
       "    <tr>\n",
       "        <th>Major</th>\n",
       "        <th>Major_category</th>\n",
       "        <th>Median</th>\n",
       "        <th>ShareWomen</th>\n",
       "    </tr>\n",
       "    <tr>\n",
       "        <td>ACTUARIAL SCIENCE</td>\n",
       "        <td>Business</td>\n",
       "        <td>62000</td>\n",
       "        <td>0.535714286</td>\n",
       "    </tr>\n",
       "    <tr>\n",
       "        <td>COMPUTER SCIENCE</td>\n",
       "        <td>Computers &amp; Mathematics</td>\n",
       "        <td>53000</td>\n",
       "        <td>0.578766338</td>\n",
       "    </tr>\n",
       "</table>"
      ],
      "text/plain": [
       "[('ACTUARIAL SCIENCE', 'Business', 62000, 0.535714286),\n",
       " ('COMPUTER SCIENCE', 'Computers & Mathematics', 53000, 0.578766338)]"
      ]
     },
     "execution_count": 12,
     "metadata": {},
     "output_type": "execute_result"
    }
   ],
   "source": [
    "%%sql\n",
    "\n",
    "SELECT Major, Major_category, Median, Sharewomen\n",
    "  FROM recent_grads\n",
    "  WHERE Sharewomen > 0.5 AND Median > 50000\n",
    "  LIMIT 5;"
   ]
  },
  {
   "cell_type": "markdown",
   "metadata": {},
   "source": [
    "## Returning one of several conditions with OR\n",
    "\n",
    "We used the AND operator to specify that our filter needs to pass two Boolean conditions. Both of the conditions had to evaluate to True for the record to appear in the result set. If we wanted to specify a filter that meets either of the conditions instead, we would use the OR operator.\n",
    "\n",
    "```\n",
    "SELECT Major \n",
    "  FROM recent_grads\n",
    " WHERE ShareWomen >= 0.5;\n",
    "SELECT [column1, column2,...] \n",
    "  FROM [table1]\n",
    " WHERE [condition1] \n",
    "    OR [condition2];\n",
    "```\n",
    "    \n",
    "We won't go into more detail regarding OR because we use the OR and AND operators in similar ways.\n",
    "\n",
    "One other important feature is that we don't need to compare a column with a value, but we can also compare columns to other columns.\n",
    "\n",
    "For example, we've been using the condition WHERE ShareWomen > 0.5. We can obtain an equivalent condition by using WHERE Men < Women.\n",
    "\n",
    "\n",
    "**Exercise**\n",
    "\n",
    "*Write a SQL query that returns the first 20 majors that either:*\n",
    "- *Have a Median salary greater than or equal to 10,000, or*\n",
    "- *Have more men than women*"
   ]
  },
  {
   "cell_type": "code",
   "execution_count": 13,
   "metadata": {},
   "outputs": [
    {
     "name": "stdout",
     "output_type": "stream",
     "text": [
      " * sqlite:///jobs.db\n",
      "Done.\n"
     ]
    },
    {
     "data": {
      "text/html": [
       "<table>\n",
       "    <tr>\n",
       "        <th>Major</th>\n",
       "        <th>Median</th>\n",
       "        <th>Men</th>\n",
       "        <th>Women</th>\n",
       "    </tr>\n",
       "    <tr>\n",
       "        <td>PETROLEUM ENGINEERING</td>\n",
       "        <td>110000</td>\n",
       "        <td>2057</td>\n",
       "        <td>282</td>\n",
       "    </tr>\n",
       "    <tr>\n",
       "        <td>MINING AND MINERAL ENGINEERING</td>\n",
       "        <td>75000</td>\n",
       "        <td>679</td>\n",
       "        <td>77</td>\n",
       "    </tr>\n",
       "    <tr>\n",
       "        <td>METALLURGICAL ENGINEERING</td>\n",
       "        <td>73000</td>\n",
       "        <td>725</td>\n",
       "        <td>131</td>\n",
       "    </tr>\n",
       "    <tr>\n",
       "        <td>NAVAL ARCHITECTURE AND MARINE ENGINEERING</td>\n",
       "        <td>70000</td>\n",
       "        <td>1123</td>\n",
       "        <td>135</td>\n",
       "    </tr>\n",
       "    <tr>\n",
       "        <td>CHEMICAL ENGINEERING</td>\n",
       "        <td>65000</td>\n",
       "        <td>21239</td>\n",
       "        <td>11021</td>\n",
       "    </tr>\n",
       "    <tr>\n",
       "        <td>NUCLEAR ENGINEERING</td>\n",
       "        <td>65000</td>\n",
       "        <td>2200</td>\n",
       "        <td>373</td>\n",
       "    </tr>\n",
       "    <tr>\n",
       "        <td>ACTUARIAL SCIENCE</td>\n",
       "        <td>62000</td>\n",
       "        <td>832</td>\n",
       "        <td>960</td>\n",
       "    </tr>\n",
       "    <tr>\n",
       "        <td>ASTRONOMY AND ASTROPHYSICS</td>\n",
       "        <td>62000</td>\n",
       "        <td>2110</td>\n",
       "        <td>1667</td>\n",
       "    </tr>\n",
       "    <tr>\n",
       "        <td>MECHANICAL ENGINEERING</td>\n",
       "        <td>60000</td>\n",
       "        <td>12953</td>\n",
       "        <td>2105</td>\n",
       "    </tr>\n",
       "    <tr>\n",
       "        <td>ELECTRICAL ENGINEERING</td>\n",
       "        <td>60000</td>\n",
       "        <td>8407</td>\n",
       "        <td>6548</td>\n",
       "    </tr>\n",
       "    <tr>\n",
       "        <td>COMPUTER ENGINEERING</td>\n",
       "        <td>60000</td>\n",
       "        <td>33258</td>\n",
       "        <td>8284</td>\n",
       "    </tr>\n",
       "    <tr>\n",
       "        <td>AEROSPACE ENGINEERING</td>\n",
       "        <td>60000</td>\n",
       "        <td>65511</td>\n",
       "        <td>16016</td>\n",
       "    </tr>\n",
       "    <tr>\n",
       "        <td>BIOMEDICAL ENGINEERING</td>\n",
       "        <td>60000</td>\n",
       "        <td>80320</td>\n",
       "        <td>10907</td>\n",
       "    </tr>\n",
       "    <tr>\n",
       "        <td>MATERIALS SCIENCE</td>\n",
       "        <td>60000</td>\n",
       "        <td>2949</td>\n",
       "        <td>1330</td>\n",
       "    </tr>\n",
       "    <tr>\n",
       "        <td>ENGINEERING MECHANICS PHYSICS AND SCIENCE</td>\n",
       "        <td>58000</td>\n",
       "        <td>3526</td>\n",
       "        <td>795</td>\n",
       "    </tr>\n",
       "    <tr>\n",
       "        <td>BIOLOGICAL ENGINEERING</td>\n",
       "        <td>57100</td>\n",
       "        <td>6062</td>\n",
       "        <td>2863</td>\n",
       "    </tr>\n",
       "    <tr>\n",
       "        <td>INDUSTRIAL AND MANUFACTURING ENGINEERING</td>\n",
       "        <td>57000</td>\n",
       "        <td>12453</td>\n",
       "        <td>6515</td>\n",
       "    </tr>\n",
       "    <tr>\n",
       "        <td>GENERAL ENGINEERING</td>\n",
       "        <td>56000</td>\n",
       "        <td>45683</td>\n",
       "        <td>15469</td>\n",
       "    </tr>\n",
       "    <tr>\n",
       "        <td>ARCHITECTURAL ENGINEERING</td>\n",
       "        <td>54000</td>\n",
       "        <td>1835</td>\n",
       "        <td>990</td>\n",
       "    </tr>\n",
       "    <tr>\n",
       "        <td>COURT REPORTING</td>\n",
       "        <td>54000</td>\n",
       "        <td>877</td>\n",
       "        <td>271</td>\n",
       "    </tr>\n",
       "</table>"
      ],
      "text/plain": [
       "[('PETROLEUM ENGINEERING', 110000, 2057, 282),\n",
       " ('MINING AND MINERAL ENGINEERING', 75000, 679, 77),\n",
       " ('METALLURGICAL ENGINEERING', 73000, 725, 131),\n",
       " ('NAVAL ARCHITECTURE AND MARINE ENGINEERING', 70000, 1123, 135),\n",
       " ('CHEMICAL ENGINEERING', 65000, 21239, 11021),\n",
       " ('NUCLEAR ENGINEERING', 65000, 2200, 373),\n",
       " ('ACTUARIAL SCIENCE', 62000, 832, 960),\n",
       " ('ASTRONOMY AND ASTROPHYSICS', 62000, 2110, 1667),\n",
       " ('MECHANICAL ENGINEERING', 60000, 12953, 2105),\n",
       " ('ELECTRICAL ENGINEERING', 60000, 8407, 6548),\n",
       " ('COMPUTER ENGINEERING', 60000, 33258, 8284),\n",
       " ('AEROSPACE ENGINEERING', 60000, 65511, 16016),\n",
       " ('BIOMEDICAL ENGINEERING', 60000, 80320, 10907),\n",
       " ('MATERIALS SCIENCE', 60000, 2949, 1330),\n",
       " ('ENGINEERING MECHANICS PHYSICS AND SCIENCE', 58000, 3526, 795),\n",
       " ('BIOLOGICAL ENGINEERING', 57100, 6062, 2863),\n",
       " ('INDUSTRIAL AND MANUFACTURING ENGINEERING', 57000, 12453, 6515),\n",
       " ('GENERAL ENGINEERING', 56000, 45683, 15469),\n",
       " ('ARCHITECTURAL ENGINEERING', 54000, 1835, 990),\n",
       " ('COURT REPORTING', 54000, 877, 271)]"
      ]
     },
     "execution_count": 13,
     "metadata": {},
     "output_type": "execute_result"
    }
   ],
   "source": [
    "%%sql\n",
    "\n",
    "SELECT Major, Median, Men, Women\n",
    "  FROM recent_grads\n",
    "  WHERE Median >= 10000 OR Men > Women\n",
    "  LIMIT 20;"
   ]
  },
  {
   "cell_type": "markdown",
   "metadata": {},
   "source": [
    "## Grouping operators with parentheses\n",
    "\n",
    "There's a certain class of questions that we can't answer using only the techniques we learned so far. For example, if we wanted to write a query that returned all Engineering majors that either had mostly female graduates or an unemployment rate below 5.1%, we would need to use parentheses to express this more complex logic.\n",
    "\n",
    "The three raw conditions we'll need are the following:\n",
    "\n",
    "```\n",
    "Major_category = 'Engineering'\n",
    "ShareWomen >= 0.5\n",
    "Unemployment_rate < 0.051\n",
    "``` \n",
    "\n",
    "What the SQL query looks like using parentheses:"
   ]
  },
  {
   "cell_type": "code",
   "execution_count": 14,
   "metadata": {},
   "outputs": [
    {
     "name": "stdout",
     "output_type": "stream",
     "text": [
      " * sqlite:///jobs.db\n",
      "Done.\n"
     ]
    },
    {
     "data": {
      "text/html": [
       "<table>\n",
       "    <tr>\n",
       "        <th>Major</th>\n",
       "        <th>Major_category</th>\n",
       "        <th>ShareWomen</th>\n",
       "        <th>Unemployment_rate</th>\n",
       "    </tr>\n",
       "    <tr>\n",
       "        <td>PETROLEUM ENGINEERING</td>\n",
       "        <td>Engineering</td>\n",
       "        <td>0.120564344</td>\n",
       "        <td>0.018380527</td>\n",
       "    </tr>\n",
       "    <tr>\n",
       "        <td>METALLURGICAL ENGINEERING</td>\n",
       "        <td>Engineering</td>\n",
       "        <td>0.153037383</td>\n",
       "        <td>0.024096386</td>\n",
       "    </tr>\n",
       "    <tr>\n",
       "        <td>NAVAL ARCHITECTURE AND MARINE ENGINEERING</td>\n",
       "        <td>Engineering</td>\n",
       "        <td>0.107313196</td>\n",
       "        <td>0.050125313</td>\n",
       "    </tr>\n",
       "    <tr>\n",
       "        <td>MATERIALS SCIENCE</td>\n",
       "        <td>Engineering</td>\n",
       "        <td>0.310820285</td>\n",
       "        <td>0.023042836</td>\n",
       "    </tr>\n",
       "    <tr>\n",
       "        <td>ENGINEERING MECHANICS PHYSICS AND SCIENCE</td>\n",
       "        <td>Engineering</td>\n",
       "        <td>0.183985189</td>\n",
       "        <td>0.006334343</td>\n",
       "    </tr>\n",
       "    <tr>\n",
       "        <td>INDUSTRIAL AND MANUFACTURING ENGINEERING</td>\n",
       "        <td>Engineering</td>\n",
       "        <td>0.34347321799999997</td>\n",
       "        <td>0.042875544</td>\n",
       "    </tr>\n",
       "    <tr>\n",
       "        <td>MATERIALS ENGINEERING AND MATERIALS SCIENCE</td>\n",
       "        <td>Engineering</td>\n",
       "        <td>0.292607004</td>\n",
       "        <td>0.027788805</td>\n",
       "    </tr>\n",
       "    <tr>\n",
       "        <td>ENVIRONMENTAL ENGINEERING</td>\n",
       "        <td>Engineering</td>\n",
       "        <td>0.558548009</td>\n",
       "        <td>0.093588575</td>\n",
       "    </tr>\n",
       "    <tr>\n",
       "        <td>INDUSTRIAL PRODUCTION TECHNOLOGIES</td>\n",
       "        <td>Engineering</td>\n",
       "        <td>0.75047259</td>\n",
       "        <td>0.028308097</td>\n",
       "    </tr>\n",
       "    <tr>\n",
       "        <td>ENGINEERING AND INDUSTRIAL MANAGEMENT</td>\n",
       "        <td>Engineering</td>\n",
       "        <td>0.174122505</td>\n",
       "        <td>0.03365166</td>\n",
       "    </tr>\n",
       "</table>"
      ],
      "text/plain": [
       "[('PETROLEUM ENGINEERING', 'Engineering', 0.120564344, 0.018380527),\n",
       " ('METALLURGICAL ENGINEERING', 'Engineering', 0.153037383, 0.024096386),\n",
       " ('NAVAL ARCHITECTURE AND MARINE ENGINEERING', 'Engineering', 0.107313196, 0.050125313),\n",
       " ('MATERIALS SCIENCE', 'Engineering', 0.310820285, 0.023042836),\n",
       " ('ENGINEERING MECHANICS PHYSICS AND SCIENCE', 'Engineering', 0.183985189, 0.006334343),\n",
       " ('INDUSTRIAL AND MANUFACTURING ENGINEERING', 'Engineering', 0.34347321799999997, 0.042875544),\n",
       " ('MATERIALS ENGINEERING AND MATERIALS SCIENCE', 'Engineering', 0.292607004, 0.027788805),\n",
       " ('ENVIRONMENTAL ENGINEERING', 'Engineering', 0.558548009, 0.093588575),\n",
       " ('INDUSTRIAL PRODUCTION TECHNOLOGIES', 'Engineering', 0.75047259, 0.028308097),\n",
       " ('ENGINEERING AND INDUSTRIAL MANAGEMENT', 'Engineering', 0.174122505, 0.03365166)]"
      ]
     },
     "execution_count": 14,
     "metadata": {},
     "output_type": "execute_result"
    }
   ],
   "source": [
    "%%sql\n",
    "\n",
    "SELECT Major, Major_category, ShareWomen, Unemployment_rate\n",
    "  FROM recent_grads\n",
    " WHERE (Major_category = 'Engineering') \n",
    "   AND (ShareWomen > 0.5 OR Unemployment_rate < 0.051);"
   ]
  },
  {
   "cell_type": "markdown",
   "metadata": {},
   "source": [
    "You may notice that we have enclosed the logic we want to evaluate together in parentheses. This is very similar to how we group mathematical calculations together in a particular order. "
   ]
  },
  {
   "cell_type": "markdown",
   "metadata": {},
   "source": [
    "## Ordering results using ORDER BY\n",
    "\n",
    "\n",
    "As the questions we want to answer get more complex, we want more control over the ordering of the results. We can specify the order using the ORDER BY clause. For example, we may want to understand which majors that met the criteria in the WHERE statement had the lowest unemployment rate:"
   ]
  },
  {
   "cell_type": "code",
   "execution_count": 15,
   "metadata": {},
   "outputs": [
    {
     "name": "stdout",
     "output_type": "stream",
     "text": [
      " * sqlite:///jobs.db\n",
      "Done.\n"
     ]
    },
    {
     "data": {
      "text/html": [
       "<table>\n",
       "    <tr>\n",
       "        <th>Rank</th>\n",
       "        <th>Major</th>\n",
       "        <th>Major_category</th>\n",
       "        <th>ShareWomen</th>\n",
       "        <th>Unemployment_rate</th>\n",
       "    </tr>\n",
       "    <tr>\n",
       "        <td>15</td>\n",
       "        <td>ENGINEERING MECHANICS PHYSICS AND SCIENCE</td>\n",
       "        <td>Engineering</td>\n",
       "        <td>0.183985189</td>\n",
       "        <td>0.006334343</td>\n",
       "    </tr>\n",
       "    <tr>\n",
       "        <td>1</td>\n",
       "        <td>PETROLEUM ENGINEERING</td>\n",
       "        <td>Engineering</td>\n",
       "        <td>0.120564344</td>\n",
       "        <td>0.018380527</td>\n",
       "    </tr>\n",
       "    <tr>\n",
       "        <td>14</td>\n",
       "        <td>MATERIALS SCIENCE</td>\n",
       "        <td>Engineering</td>\n",
       "        <td>0.310820285</td>\n",
       "        <td>0.023042836</td>\n",
       "    </tr>\n",
       "    <tr>\n",
       "        <td>3</td>\n",
       "        <td>METALLURGICAL ENGINEERING</td>\n",
       "        <td>Engineering</td>\n",
       "        <td>0.153037383</td>\n",
       "        <td>0.024096386</td>\n",
       "    </tr>\n",
       "    <tr>\n",
       "        <td>24</td>\n",
       "        <td>MATERIALS ENGINEERING AND MATERIALS SCIENCE</td>\n",
       "        <td>Engineering</td>\n",
       "        <td>0.292607004</td>\n",
       "        <td>0.027788805</td>\n",
       "    </tr>\n",
       "    <tr>\n",
       "        <td>39</td>\n",
       "        <td>INDUSTRIAL PRODUCTION TECHNOLOGIES</td>\n",
       "        <td>Engineering</td>\n",
       "        <td>0.75047259</td>\n",
       "        <td>0.028308097</td>\n",
       "    </tr>\n",
       "    <tr>\n",
       "        <td>51</td>\n",
       "        <td>ENGINEERING AND INDUSTRIAL MANAGEMENT</td>\n",
       "        <td>Engineering</td>\n",
       "        <td>0.174122505</td>\n",
       "        <td>0.03365166</td>\n",
       "    </tr>\n",
       "    <tr>\n",
       "        <td>17</td>\n",
       "        <td>INDUSTRIAL AND MANUFACTURING ENGINEERING</td>\n",
       "        <td>Engineering</td>\n",
       "        <td>0.34347321799999997</td>\n",
       "        <td>0.042875544</td>\n",
       "    </tr>\n",
       "    <tr>\n",
       "        <td>4</td>\n",
       "        <td>NAVAL ARCHITECTURE AND MARINE ENGINEERING</td>\n",
       "        <td>Engineering</td>\n",
       "        <td>0.107313196</td>\n",
       "        <td>0.050125313</td>\n",
       "    </tr>\n",
       "    <tr>\n",
       "        <td>31</td>\n",
       "        <td>ENVIRONMENTAL ENGINEERING</td>\n",
       "        <td>Engineering</td>\n",
       "        <td>0.558548009</td>\n",
       "        <td>0.093588575</td>\n",
       "    </tr>\n",
       "</table>"
      ],
      "text/plain": [
       "[(15, 'ENGINEERING MECHANICS PHYSICS AND SCIENCE', 'Engineering', 0.183985189, 0.006334343),\n",
       " (1, 'PETROLEUM ENGINEERING', 'Engineering', 0.120564344, 0.018380527),\n",
       " (14, 'MATERIALS SCIENCE', 'Engineering', 0.310820285, 0.023042836),\n",
       " (3, 'METALLURGICAL ENGINEERING', 'Engineering', 0.153037383, 0.024096386),\n",
       " (24, 'MATERIALS ENGINEERING AND MATERIALS SCIENCE', 'Engineering', 0.292607004, 0.027788805),\n",
       " (39, 'INDUSTRIAL PRODUCTION TECHNOLOGIES', 'Engineering', 0.75047259, 0.028308097),\n",
       " (51, 'ENGINEERING AND INDUSTRIAL MANAGEMENT', 'Engineering', 0.174122505, 0.03365166),\n",
       " (17, 'INDUSTRIAL AND MANUFACTURING ENGINEERING', 'Engineering', 0.34347321799999997, 0.042875544),\n",
       " (4, 'NAVAL ARCHITECTURE AND MARINE ENGINEERING', 'Engineering', 0.107313196, 0.050125313),\n",
       " (31, 'ENVIRONMENTAL ENGINEERING', 'Engineering', 0.558548009, 0.093588575)]"
      ]
     },
     "execution_count": 15,
     "metadata": {},
     "output_type": "execute_result"
    }
   ],
   "source": [
    "%%sql\n",
    "\n",
    "SELECT Rank, Major, Major_category, ShareWomen, Unemployment_rate\n",
    "  FROM recent_grads\n",
    "  WHERE (Major_category = 'Engineering') \n",
    "         AND (ShareWomen > 0.5 OR Unemployment_rate < 0.051)\n",
    "  ORDER BY Unemployment_rate\n",
    "  LIMIT 10;"
   ]
  },
  {
   "cell_type": "markdown",
   "metadata": {},
   "source": [
    "If we instead want the results ordered by the same column but in descending order, we can add the DESC keyword:"
   ]
  },
  {
   "cell_type": "code",
   "execution_count": 16,
   "metadata": {},
   "outputs": [
    {
     "name": "stdout",
     "output_type": "stream",
     "text": [
      " * sqlite:///jobs.db\n",
      "Done.\n"
     ]
    },
    {
     "data": {
      "text/html": [
       "<table>\n",
       "    <tr>\n",
       "        <th>Rank</th>\n",
       "        <th>Major</th>\n",
       "        <th>Major_category</th>\n",
       "        <th>ShareWomen</th>\n",
       "        <th>Unemployment_rate</th>\n",
       "    </tr>\n",
       "    <tr>\n",
       "        <td>31</td>\n",
       "        <td>ENVIRONMENTAL ENGINEERING</td>\n",
       "        <td>Engineering</td>\n",
       "        <td>0.558548009</td>\n",
       "        <td>0.093588575</td>\n",
       "    </tr>\n",
       "    <tr>\n",
       "        <td>4</td>\n",
       "        <td>NAVAL ARCHITECTURE AND MARINE ENGINEERING</td>\n",
       "        <td>Engineering</td>\n",
       "        <td>0.107313196</td>\n",
       "        <td>0.050125313</td>\n",
       "    </tr>\n",
       "    <tr>\n",
       "        <td>17</td>\n",
       "        <td>INDUSTRIAL AND MANUFACTURING ENGINEERING</td>\n",
       "        <td>Engineering</td>\n",
       "        <td>0.34347321799999997</td>\n",
       "        <td>0.042875544</td>\n",
       "    </tr>\n",
       "    <tr>\n",
       "        <td>51</td>\n",
       "        <td>ENGINEERING AND INDUSTRIAL MANAGEMENT</td>\n",
       "        <td>Engineering</td>\n",
       "        <td>0.174122505</td>\n",
       "        <td>0.03365166</td>\n",
       "    </tr>\n",
       "    <tr>\n",
       "        <td>39</td>\n",
       "        <td>INDUSTRIAL PRODUCTION TECHNOLOGIES</td>\n",
       "        <td>Engineering</td>\n",
       "        <td>0.75047259</td>\n",
       "        <td>0.028308097</td>\n",
       "    </tr>\n",
       "</table>"
      ],
      "text/plain": [
       "[(31, 'ENVIRONMENTAL ENGINEERING', 'Engineering', 0.558548009, 0.093588575),\n",
       " (4, 'NAVAL ARCHITECTURE AND MARINE ENGINEERING', 'Engineering', 0.107313196, 0.050125313),\n",
       " (17, 'INDUSTRIAL AND MANUFACTURING ENGINEERING', 'Engineering', 0.34347321799999997, 0.042875544),\n",
       " (51, 'ENGINEERING AND INDUSTRIAL MANAGEMENT', 'Engineering', 0.174122505, 0.03365166),\n",
       " (39, 'INDUSTRIAL PRODUCTION TECHNOLOGIES', 'Engineering', 0.75047259, 0.028308097)]"
      ]
     },
     "execution_count": 16,
     "metadata": {},
     "output_type": "execute_result"
    }
   ],
   "source": [
    "%%sql\n",
    "\n",
    "SELECT Rank, Major, Major_category, ShareWomen, Unemployment_rate\n",
    "    FROM recent_grads\n",
    "   WHERE (Major_category = 'Engineering') \n",
    "     AND (ShareWomen > 0.5 OR Unemployment_rate < 0.051)\n",
    "   ORDER BY Unemployment_rate DESC\n",
    "   LIMIT 5;"
   ]
  },
  {
   "cell_type": "markdown",
   "metadata": {},
   "source": [
    "*Write a query that returns all majors that meet the following criteria:*\n",
    "\n",
    "- *ShareWomen is greater than 0.3*\n",
    "- *And Unemployment_rate is less than .1*\n",
    "- *Order the results in descending order by the ShareWomen column.*"
   ]
  },
  {
   "cell_type": "code",
   "execution_count": 17,
   "metadata": {},
   "outputs": [
    {
     "name": "stdout",
     "output_type": "stream",
     "text": [
      " * sqlite:///jobs.db\n",
      "Done.\n"
     ]
    },
    {
     "data": {
      "text/html": [
       "<table>\n",
       "    <tr>\n",
       "        <th>Major</th>\n",
       "        <th>ShareWomen</th>\n",
       "        <th>Unemployment_rate</th>\n",
       "    </tr>\n",
       "    <tr>\n",
       "        <td>EARLY CHILDHOOD EDUCATION</td>\n",
       "        <td>0.9679981190000001</td>\n",
       "        <td>0.040104981</td>\n",
       "    </tr>\n",
       "    <tr>\n",
       "        <td>MATHEMATICS AND COMPUTER SCIENCE</td>\n",
       "        <td>0.927807246</td>\n",
       "        <td>0.0</td>\n",
       "    </tr>\n",
       "    <tr>\n",
       "        <td>ELEMENTARY EDUCATION</td>\n",
       "        <td>0.923745479</td>\n",
       "        <td>0.046585715</td>\n",
       "    </tr>\n",
       "    <tr>\n",
       "        <td>ANIMAL SCIENCES</td>\n",
       "        <td>0.91093257</td>\n",
       "        <td>0.050862499000000005</td>\n",
       "    </tr>\n",
       "    <tr>\n",
       "        <td>PHYSIOLOGY</td>\n",
       "        <td>0.9066773370000001</td>\n",
       "        <td>0.06916280000000001</td>\n",
       "    </tr>\n",
       "</table>"
      ],
      "text/plain": [
       "[('EARLY CHILDHOOD EDUCATION', 0.9679981190000001, 0.040104981),\n",
       " ('MATHEMATICS AND COMPUTER SCIENCE', 0.927807246, 0.0),\n",
       " ('ELEMENTARY EDUCATION', 0.923745479, 0.046585715),\n",
       " ('ANIMAL SCIENCES', 0.91093257, 0.050862499000000005),\n",
       " ('PHYSIOLOGY', 0.9066773370000001, 0.06916280000000001)]"
      ]
     },
     "execution_count": 17,
     "metadata": {},
     "output_type": "execute_result"
    }
   ],
   "source": [
    "%%sql\n",
    "\n",
    "SELECT Major, Sharewomen, Unemployment_rate\n",
    "  FROM recent_grads\n",
    "  WHERE Sharewomen >= 0.3 AND Unemployment_rate < 0.1\n",
    "  ORDER BY Sharewomen DESC\n",
    "  LIMIT 5;"
   ]
  },
  {
   "cell_type": "markdown",
   "metadata": {},
   "source": [
    "## Practice\n",
    "\n",
    "*Write a query that returns the Engineering or Physical Sciences category, the major, and unemployment rate, listed in ascending order of unemployment rate.*"
   ]
  },
  {
   "cell_type": "code",
   "execution_count": 18,
   "metadata": {},
   "outputs": [
    {
     "name": "stdout",
     "output_type": "stream",
     "text": [
      " * sqlite:///jobs.db\n",
      "Done.\n"
     ]
    },
    {
     "data": {
      "text/html": [
       "<table>\n",
       "    <tr>\n",
       "        <th>Major_category</th>\n",
       "        <th>Major</th>\n",
       "        <th>Unemployment_rate</th>\n",
       "    </tr>\n",
       "    <tr>\n",
       "        <td>Engineering</td>\n",
       "        <td>ENGINEERING MECHANICS PHYSICS AND SCIENCE</td>\n",
       "        <td>0.006334343</td>\n",
       "    </tr>\n",
       "    <tr>\n",
       "        <td>Engineering</td>\n",
       "        <td>PETROLEUM ENGINEERING</td>\n",
       "        <td>0.018380527</td>\n",
       "    </tr>\n",
       "    <tr>\n",
       "        <td>Physical Sciences</td>\n",
       "        <td>ASTRONOMY AND ASTROPHYSICS</td>\n",
       "        <td>0.021167415</td>\n",
       "    </tr>\n",
       "    <tr>\n",
       "        <td>Physical Sciences</td>\n",
       "        <td>ATMOSPHERIC SCIENCES AND METEOROLOGY</td>\n",
       "        <td>0.022228555</td>\n",
       "    </tr>\n",
       "    <tr>\n",
       "        <td>Engineering</td>\n",
       "        <td>MATERIALS SCIENCE</td>\n",
       "        <td>0.023042836</td>\n",
       "    </tr>\n",
       "    <tr>\n",
       "        <td>Engineering</td>\n",
       "        <td>METALLURGICAL ENGINEERING</td>\n",
       "        <td>0.024096386</td>\n",
       "    </tr>\n",
       "    <tr>\n",
       "        <td>Physical Sciences</td>\n",
       "        <td>GEOSCIENCES</td>\n",
       "        <td>0.024373731000000003</td>\n",
       "    </tr>\n",
       "    <tr>\n",
       "        <td>Engineering</td>\n",
       "        <td>MATERIALS ENGINEERING AND MATERIALS SCIENCE</td>\n",
       "        <td>0.027788805</td>\n",
       "    </tr>\n",
       "    <tr>\n",
       "        <td>Engineering</td>\n",
       "        <td>INDUSTRIAL PRODUCTION TECHNOLOGIES</td>\n",
       "        <td>0.028308097</td>\n",
       "    </tr>\n",
       "    <tr>\n",
       "        <td>Engineering</td>\n",
       "        <td>ENGINEERING AND INDUSTRIAL MANAGEMENT</td>\n",
       "        <td>0.03365166</td>\n",
       "    </tr>\n",
       "</table>"
      ],
      "text/plain": [
       "[('Engineering', 'ENGINEERING MECHANICS PHYSICS AND SCIENCE', 0.006334343),\n",
       " ('Engineering', 'PETROLEUM ENGINEERING', 0.018380527),\n",
       " ('Physical Sciences', 'ASTRONOMY AND ASTROPHYSICS', 0.021167415),\n",
       " ('Physical Sciences', 'ATMOSPHERIC SCIENCES AND METEOROLOGY', 0.022228555),\n",
       " ('Engineering', 'MATERIALS SCIENCE', 0.023042836),\n",
       " ('Engineering', 'METALLURGICAL ENGINEERING', 0.024096386),\n",
       " ('Physical Sciences', 'GEOSCIENCES', 0.024373731000000003),\n",
       " ('Engineering', 'MATERIALS ENGINEERING AND MATERIALS SCIENCE', 0.027788805),\n",
       " ('Engineering', 'INDUSTRIAL PRODUCTION TECHNOLOGIES', 0.028308097),\n",
       " ('Engineering', 'ENGINEERING AND INDUSTRIAL MANAGEMENT', 0.03365166)]"
      ]
     },
     "execution_count": 18,
     "metadata": {},
     "output_type": "execute_result"
    }
   ],
   "source": [
    "%%sql\n",
    "\n",
    "SELECT Major_category, Major, Unemployment_rate\n",
    " FROM recent_grads\n",
    " WHERE Major_category = 'Engineering' OR Major_category = 'Physical Sciences'\n",
    " ORDER BY Unemployment_rate\n",
    " LIMIT 10;"
   ]
  }
 ],
 "metadata": {
  "kernelspec": {
   "display_name": "Python 3",
   "language": "python",
   "name": "python3"
  },
  "language_info": {
   "codemirror_mode": {
    "name": "ipython",
    "version": 3
   },
   "file_extension": ".py",
   "mimetype": "text/x-python",
   "name": "python",
   "nbconvert_exporter": "python",
   "pygments_lexer": "ipython3",
   "version": "3.8.5"
  }
 },
 "nbformat": 4,
 "nbformat_minor": 4
}
